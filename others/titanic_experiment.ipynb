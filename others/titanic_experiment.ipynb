{
 "cells": [
  {
   "cell_type": "code",
   "execution_count": 1,
   "id": "a1805d42",
   "metadata": {},
   "outputs": [
    {
     "name": "stdout",
     "output_type": "stream",
     "text": [
      "zsh:1: command not found: nvidia-smi\r\n"
     ]
    }
   ],
   "source": [
    "!nvidia-smi"
   ]
  },
  {
   "cell_type": "code",
   "execution_count": 2,
   "id": "d011f48f",
   "metadata": {},
   "outputs": [
    {
     "name": "stdout",
     "output_type": "stream",
     "text": [
      "Requirement already satisfied: missingpy in /Users/emondemoniac/anaconda3/lib/python3.10/site-packages (0.2.0)\r\n"
     ]
    }
   ],
   "source": [
    "!pip install missingpy"
   ]
  },
  {
   "cell_type": "code",
   "execution_count": 3,
   "id": "ed63e41f",
   "metadata": {},
   "outputs": [],
   "source": [
    "import pandas as pd\n",
    "import numpy as np\n",
    "import matplotlib.pyplot as plt\n",
    "import seaborn as sns\n",
    "from sklearn.metrics import roc_auc_score\n",
    "import math"
   ]
  },
  {
   "cell_type": "code",
   "execution_count": 7,
   "id": "2896fcf0",
   "metadata": {},
   "outputs": [],
   "source": [
    "import sklearn.neighbors._base\n",
    "sys.modules['sklearn.neighbors.base'] = sklearn.neighbors._base"
   ]
  },
  {
   "cell_type": "code",
   "execution_count": 8,
   "id": "815fa6e9",
   "metadata": {},
   "outputs": [],
   "source": [
    "import sys\n",
    "import numpy as np\n",
    "import pandas as pd\n",
    "\n",
    "from missingpy import MissForest\n",
    "from dsan import Imputer as DSANImputer\n",
    "from utils import *\n",
    "\n",
    "import warnings\n",
    "warnings.filterwarnings('ignore')"
   ]
  },
  {
   "cell_type": "code",
   "execution_count": 9,
   "id": "6512810b",
   "metadata": {},
   "outputs": [],
   "source": [
    "seed = 128\n",
    "set_seed(seed)"
   ]
  },
  {
   "cell_type": "code",
   "execution_count": 10,
   "id": "87137afe",
   "metadata": {},
   "outputs": [],
   "source": [
    "def get_imputer(config):\n",
    "    \n",
    "    model = config['model']\n",
    "    \n",
    "    if model == 'DSAN':\n",
    "        imputer = DSANImputer(rep_dim=config['rep_dim'],\n",
    "                num_heads=config['num_heads'],\n",
    "                n_hidden=config['n_hidden'],\n",
    "                lr=config['lr'],\n",
    "                weight_decay=config['weight_decay'],\n",
    "                batch_size=config['batch_size'],\n",
    "                epochs=config['epochs'],\n",
    "                noise_percent=config['noise_percent'],\n",
    "                stopped_epoch=config['stopped_epoch'])\n",
    "    \n",
    "    elif model == 'MissForest':\n",
    "        imputer = MissForest(random_state=0)\n",
    "        \n",
    "    elif model == 'Statistics':\n",
    "        imputer = None\n",
    "        \n",
    "    return imputer"
   ]
  },
  {
   "cell_type": "code",
   "execution_count": 11,
   "id": "4f88dac7",
   "metadata": {},
   "outputs": [],
   "source": [
    "def experiment_run(data_name, config, test=False):\n",
    "    # Retrieve dataset\n",
    "    dataset = get_data(data_name)\n",
    "    print(f\"Retrieved dataset for {data_name}\")\n",
    "\n",
    "    # Limit to 1000 samples if test flag is true\n",
    "    if test:\n",
    "        dataset = (dataset[0][:1000], dataset[1], dataset[2], dataset[3])\n",
    "        print(\"Limited dataset to 1000 samples for testing\")\n",
    "\n",
    "    k = 5\n",
    "    percent_missing_lst = [p for p in range(5, 25, 5)]\n",
    "    X_origin, n_col, num_vars, cat_vars = dataset\n",
    "\n",
    "   # Apply category mapping\n",
    "    X_origin = category_mapping(X_origin, cat_vars)\n",
    "    print(\"Applied category mapping\")\n",
    "\n",
    "    # Check if X_origin is modified in-place or replaced\n",
    "    if X_origin is not None:\n",
    "        print(\"X_origin is replaced with a new version where categorical variables have been mapped to numerical values.\")\n",
    "    else:\n",
    "        print(\"X_origin is modified in-place, with categorical variables mapped to numerical values.\")\n",
    "\n",
    "    # Print data size\n",
    "    print(\"Data Size: {}\".format(X_origin.shape))\n",
    "\n",
    "\n",
    "    n_sample = X_origin.shape[0]\n",
    "    idx_lst = list(range(n_sample))\n",
    "    np.random.shuffle(idx_lst)\n",
    "\n",
    "    # k-fold validation setup\n",
    "    n_valid = len(idx_lst) // k\n",
    "    print(f\"Starting k-fold validation with k={k}\")\n",
    "\n",
    "    results = {}\n",
    "    for percent_missing in percent_missing_lst:\n",
    "        result = []\n",
    "        print(f\"\\nProcessing {percent_missing}% missing data\")\n",
    "\n",
    "        for it, n in enumerate(range(0, n_sample, n_valid)):\n",
    "            print(f\"\\nFold {it + 1}\")\n",
    "            valid_idx = idx_lst[n: n+n_valid]\n",
    "\n",
    "            if len(valid_idx) < n_valid:\n",
    "                print(\"Insufficient data for validation, breaking loop\")\n",
    "                break\n",
    "\n",
    "            train_idx = list(set(idx_lst) - set(valid_idx))\n",
    "            X = X_origin[train_idx, :]\n",
    "            X_test = X_origin[valid_idx, :]\n",
    "\n",
    "            # Generating incomplete data\n",
    "            missing_mask = generate_missing_mask(X, percent_missing=percent_missing)\n",
    "            X_incomplete = X.copy()\n",
    "            X_incomplete[missing_mask] = np.nan\n",
    "            print(\"Generated incomplete data with missing values for fold {}:\".format(it+1))\n",
    "            print(\"Original data with missing values (subset):\")\n",
    "            print(X_incomplete[:5])  # Adjust the number of rows as needed\n",
    "\n",
    "            # Imputation\n",
    "            imputer = get_imputer(config)\n",
    "            X_imputed = imputer.fit_transform(X_incomplete, cat_vars=cat_vars)\n",
    "            print(\"Completed imputation for fold {}:\".format(it+1))\n",
    "\n",
    "            X_res = X.copy()\n",
    "            X_res[missing_mask] = X_imputed[missing_mask]\n",
    "            print(\"X_res with imputed values (subset):\")\n",
    "            print(X_res[:5])  # Adjust the number of rows as needed\n",
    "\n",
    "            # Calculate metrics\n",
    "            metric = cal_metric_numpy(X_res, X, missing_mask, num_vars, cat_vars)\n",
    "            score = ex_classify(data_name=data_name, train_array=X_res, test_array=X_test, num_vars=num_vars, cat_vars=cat_vars)\n",
    "            \n",
    "            metric['clf_aucroc'] = round(score, 4)\n",
    "            result.append(metric)\n",
    "            print(\"Metrics for this fold:\", metric)\n",
    "\n",
    "        # Average results\n",
    "        avg_result = dict()\n",
    "        for key in result[0].keys():\n",
    "            value = np.mean([m[key] for m in result])\n",
    "            avg_result[key] = value \n",
    "            print(f\"Average {key} for {percent_missing}% missing data: {value}\")\n",
    "\n",
    "        results[percent_missing] = avg_result\n",
    "\n",
    "    print(\"Completed all iterations\")\n",
    "    return results\n"
   ]
  },
  {
   "cell_type": "code",
   "execution_count": 12,
   "id": "b9c2a0b1",
   "metadata": {},
   "outputs": [],
   "source": [
    "config = {\n",
    "    'model': 'DSAN',\n",
    "    'rep_dim': 32,\n",
    "    'num_heads': 8,\n",
    "    'n_hidden': 2,\n",
    "    'lr': 3e-3,\n",
    "    'weight_decay': 1e-5,\n",
    "    'batch_size': 128,\n",
    "    'epochs': 15,\n",
    "    'noise_percent': 10,\n",
    "    'stopped_epoch': 10\n",
    "}"
   ]
  },
  {
   "cell_type": "code",
   "execution_count": 13,
   "id": "409201f7",
   "metadata": {},
   "outputs": [
    {
     "name": "stdout",
     "output_type": "stream",
     "text": [
      "Retrieved dataset for titanic\n",
      "Limited dataset to 1000 samples for testing\n",
      "Applied category mapping\n",
      "X_origin is replaced with a new version where categorical variables have been mapped to numerical values.\n",
      "Data Size: (887, 7)\n",
      "Starting k-fold validation with k=5\n",
      "\n",
      "Processing 5% missing data\n",
      "\n",
      "Fold 1\n",
      "Generated incomplete data with missing values for fold 1:\n",
      "Original data with missing values (subset):\n",
      "[[1 0 1 26 0 0 8]\n",
      " [1 1 1 35 1 0 53]\n",
      " [0 0 0 35 0 0 8]\n",
      " [0 0 0 27 0 nan 8]\n",
      " [0 nan 0 54 0 0 52]]\n"
     ]
    },
    {
     "name": "stderr",
     "output_type": "stream",
     "text": [
      "100%|███████████████████████████████████████████| 15/15 [00:03<00:00,  4.18it/s]\n"
     ]
    },
    {
     "name": "stdout",
     "output_type": "stream",
     "text": [
      "Completed imputation for fold 1:\n",
      "X_res with imputed values (subset):\n",
      "[[1 0 1 26 0 0 8]\n",
      " [1 1 1 35 1 0 53]\n",
      " [0 0 0 35 0 0 8]\n",
      " [0 0 0 27 0 1.7759735584259033 8]\n",
      " [0 1 0 54 0 0 52]]\n",
      "Metrics for this fold: {'nrmse': 0.4599, 'col_0_error_rate': 0.1818, 'col_1_error_rate': 0.3636, 'col_2_error_rate': 0.4375, 'total_error_rate': 0.3303, 'clf_aucroc': 0.8603}\n",
      "\n",
      "Fold 2\n",
      "Generated incomplete data with missing values for fold 2:\n",
      "Original data with missing values (subset):\n",
      "[[nan 0 0 22 1 0 7]\n",
      " [1 1 1 38 1 0 71]\n",
      " [1 0 nan 26 0 0 8]\n",
      " [1 1 1 nan 1 0 53]\n",
      " [0 0 0 35 0 0 8]]\n"
     ]
    },
    {
     "name": "stderr",
     "output_type": "stream",
     "text": [
      "100%|███████████████████████████████████████████| 15/15 [00:03<00:00,  4.02it/s]\n"
     ]
    },
    {
     "name": "stdout",
     "output_type": "stream",
     "text": [
      "Completed imputation for fold 2:\n",
      "X_res with imputed values (subset):\n",
      "[[0 0 0 22 1 0 7]\n",
      " [1 1 1 38 1 0 71]\n",
      " [1 0 0 26 0 0 8]\n",
      " [1 1 1 28.40114402770996 1 0 53]\n",
      " [0 0 0 35 0 0 8]]\n",
      "Metrics for this fold: {'nrmse': 1.3549, 'col_0_error_rate': 0.2581, 'col_1_error_rate': 0.4186, 'col_2_error_rate': 0.3571, 'total_error_rate': 0.3534, 'clf_aucroc': 0.9152}\n",
      "\n",
      "Fold 3\n",
      "Generated incomplete data with missing values for fold 3:\n",
      "Original data with missing values (subset):\n",
      "[[0 0 0 22 1 0 7]\n",
      " [1 1 1 38 nan 0 71]\n",
      " [1 0 1 26 0 0 8]\n",
      " [0 0 0 nan 0 0 8]\n",
      " [0 0 0 27 0 0 8]]\n"
     ]
    },
    {
     "name": "stderr",
     "output_type": "stream",
     "text": [
      "100%|███████████████████████████████████████████| 15/15 [00:03<00:00,  4.05it/s]\n"
     ]
    },
    {
     "name": "stdout",
     "output_type": "stream",
     "text": [
      "Completed imputation for fold 3:\n",
      "X_res with imputed values (subset):\n",
      "[[0 0 0 22 1 0 7]\n",
      " [1 1 1 38 4.318942546844482 0 71]\n",
      " [1 0 1 26 0 0 8]\n",
      " [0 0 0 24.77794075012207 0 0 8]\n",
      " [0 0 0 27 0 0 8]]\n",
      "Metrics for this fold: {'nrmse': 1.0995, 'col_0_error_rate': 0.6774, 'col_1_error_rate': 0.3333, 'col_2_error_rate': 0.5333, 'total_error_rate': 0.5294, 'clf_aucroc': 0.8064}\n",
      "\n",
      "Fold 4\n",
      "Generated incomplete data with missing values for fold 4:\n",
      "Original data with missing values (subset):\n",
      "[[0 0 0 22 1 0 7]\n",
      " [1 nan 1 38 nan 0 71]\n",
      " [1 1 1 35 1 0 53]\n",
      " [0 0 0 35 0 0 8]\n",
      " [0 0 0 27 0 0 8]]\n"
     ]
    },
    {
     "name": "stderr",
     "output_type": "stream",
     "text": [
      "100%|███████████████████████████████████████████| 15/15 [00:04<00:00,  3.50it/s]\n"
     ]
    },
    {
     "name": "stdout",
     "output_type": "stream",
     "text": [
      "Completed imputation for fold 4:\n",
      "X_res with imputed values (subset):\n",
      "[[0 0 0 22 1 0 7]\n",
      " [1 1 1 38 3.4001643657684326 0 71]\n",
      " [1 1 1 35 1 0 53]\n",
      " [0 0 0 35 0 0 8]\n",
      " [0 0 0 27 0 0 8]]\n",
      "Metrics for this fold: {'nrmse': 1.3313, 'col_0_error_rate': 0.2647, 'col_1_error_rate': 0.2083, 'col_2_error_rate': 0.3182, 'total_error_rate': 0.2745, 'clf_aucroc': 0.8224}\n",
      "\n",
      "Fold 5\n",
      "Generated incomplete data with missing values for fold 5:\n",
      "Original data with missing values (subset):\n",
      "[[0 0 0 22 1 0 7]\n",
      " [nan 1 1 38 1 0 71]\n",
      " [1 0 1 26 0 0 8]\n",
      " [1 1 1 35 1 0 53]\n",
      " [nan 0 0 27 0 0 8]]\n"
     ]
    },
    {
     "name": "stderr",
     "output_type": "stream",
     "text": [
      "100%|███████████████████████████████████████████| 15/15 [00:03<00:00,  3.85it/s]\n"
     ]
    },
    {
     "name": "stdout",
     "output_type": "stream",
     "text": [
      "Completed imputation for fold 5:\n",
      "X_res with imputed values (subset):\n",
      "[[0 0 0 22 1 0 7]\n",
      " [1 1 1 38 1 0 71]\n",
      " [1 0 1 26 0 0 8]\n",
      " [1 1 1 35 1 0 53]\n",
      " [0 0 0 27 0 0 8]]\n",
      "Metrics for this fold: {'nrmse': 0.9508, 'col_0_error_rate': 0.2188, 'col_1_error_rate': 0.5, 'col_2_error_rate': 0.3125, 'total_error_rate': 0.35, 'clf_aucroc': 0.8563}\n",
      "\n",
      "Fold 6\n",
      "Insufficient data for validation, breaking loop\n",
      "Average nrmse for 5% missing data: 1.03928\n",
      "Average col_0_error_rate for 5% missing data: 0.32016\n",
      "Average col_1_error_rate for 5% missing data: 0.36476\n",
      "Average col_2_error_rate for 5% missing data: 0.39172\n",
      "Average total_error_rate for 5% missing data: 0.36751999999999996\n",
      "Average clf_aucroc for 5% missing data: 0.85212\n",
      "\n",
      "Processing 10% missing data\n",
      "\n",
      "Fold 1\n",
      "Generated incomplete data with missing values for fold 1:\n",
      "Original data with missing values (subset):\n",
      "[[1 0 1 26 0 0 8]\n",
      " [1 1 1 35 1 0 53]\n",
      " [0 0 0 35 0 0 8]\n",
      " [0 0 0 27 0 0 8]\n",
      " [0 1 0 54 0 0 52]]\n"
     ]
    },
    {
     "name": "stderr",
     "output_type": "stream",
     "text": [
      "100%|███████████████████████████████████████████| 15/15 [00:03<00:00,  4.50it/s]\n"
     ]
    },
    {
     "name": "stdout",
     "output_type": "stream",
     "text": [
      "Completed imputation for fold 1:\n",
      "X_res with imputed values (subset):\n",
      "[[1 0 1 26 0 0 8]\n",
      " [1 1 1 35 1 0 53]\n",
      " [0 0 0 35 0 0 8]\n",
      " [0 0 0 27 0 0 8]\n",
      " [0 1 0 54 0 0 52]]\n",
      "Metrics for this fold: {'nrmse': 0.6386, 'col_0_error_rate': 0.411, 'col_1_error_rate': 0.4286, 'col_2_error_rate': 0.4561, 'total_error_rate': 0.43, 'clf_aucroc': 0.8619}\n",
      "\n",
      "Fold 2\n",
      "Generated incomplete data with missing values for fold 2:\n",
      "Original data with missing values (subset):\n",
      "[[0 0 nan nan 1 0 7]\n",
      " [1 nan 1 38 1 0 71]\n",
      " [1 0 1 26 0 0 8]\n",
      " [1 1 1 nan 1 0 nan]\n",
      " [0 0 0 35 0 0 nan]]\n"
     ]
    },
    {
     "name": "stderr",
     "output_type": "stream",
     "text": [
      "100%|███████████████████████████████████████████| 15/15 [00:03<00:00,  4.23it/s]\n"
     ]
    },
    {
     "name": "stdout",
     "output_type": "stream",
     "text": [
      "Completed imputation for fold 2:\n",
      "X_res with imputed values (subset):\n",
      "[[0 0 0 25.23448944091797 1 0 7]\n",
      " [1 1 1 38 1 0 71]\n",
      " [1 0 1 26 0 0 8]\n",
      " [1 1 1 21.49752426147461 1 0 33.14897537231445]\n",
      " [0 0 0 35 0 0 11.147013664245605]]\n",
      "Metrics for this fold: {'nrmse': 0.9298, 'col_0_error_rate': 0.236, 'col_1_error_rate': 0.5195, 'col_2_error_rate': 0.2923, 'total_error_rate': 0.3463, 'clf_aucroc': 0.9153}\n",
      "\n",
      "Fold 3\n",
      "Generated incomplete data with missing values for fold 3:\n",
      "Original data with missing values (subset):\n",
      "[[0 0 0 22 1 0 7]\n",
      " [1 1 1 38 1 0 71]\n",
      " [1 0 1 nan 0 0 8]\n",
      " [0 0 0 35 0 0 8]\n",
      " [0 0 0 27 0 0 8]]\n"
     ]
    },
    {
     "name": "stderr",
     "output_type": "stream",
     "text": [
      "100%|███████████████████████████████████████████| 15/15 [00:03<00:00,  4.55it/s]\n"
     ]
    },
    {
     "name": "stdout",
     "output_type": "stream",
     "text": [
      "Completed imputation for fold 3:\n",
      "X_res with imputed values (subset):\n",
      "[[0 0 0 22 1 0 7]\n",
      " [1 1 1 38 1 0 71]\n",
      " [1 0 1 26.198911666870117 0 0 8]\n",
      " [0 0 0 35 0 0 8]\n",
      " [0 0 0 27 0 0 8]]\n",
      "Metrics for this fold: {'nrmse': 0.6441, 'col_0_error_rate': 0.2361, 'col_1_error_rate': 0.3662, 'col_2_error_rate': 0.5513, 'total_error_rate': 0.3891, 'clf_aucroc': 0.8013}\n",
      "\n",
      "Fold 4\n",
      "Generated incomplete data with missing values for fold 4:\n",
      "Original data with missing values (subset):\n",
      "[[0 0 0 22 1 0 7]\n",
      " [1 1 1 38 1 nan 71]\n",
      " [1 1 1 35 1 0 53]\n",
      " [0 0 0 35 0 0 nan]\n",
      " [0 0 0 27 0 0 8]]\n"
     ]
    },
    {
     "name": "stderr",
     "output_type": "stream",
     "text": [
      "100%|███████████████████████████████████████████| 15/15 [00:03<00:00,  4.45it/s]\n"
     ]
    },
    {
     "name": "stdout",
     "output_type": "stream",
     "text": [
      "Completed imputation for fold 4:\n",
      "X_res with imputed values (subset):\n",
      "[[0 0 0 22 1 0 7]\n",
      " [1 1 1 38 1 0.5358657240867615 71]\n",
      " [1 1 1 35 1 0 53]\n",
      " [0 0 0 35 0 0 14.175859451293945]\n",
      " [0 0 0 27 0 0 8]]\n",
      "Metrics for this fold: {'nrmse': 1.02, 'col_0_error_rate': 0.5375, 'col_1_error_rate': 0.2794, 'col_2_error_rate': 0.1316, 'total_error_rate': 0.3214, 'clf_aucroc': 0.8231}\n",
      "\n",
      "Fold 5\n",
      "Generated incomplete data with missing values for fold 5:\n",
      "Original data with missing values (subset):\n",
      "[[0 0 0 22 1 0 7]\n",
      " [1 1 1 38 1 0 71]\n",
      " [1 0 1 26 0 0 8]\n",
      " [1 1 1 35 1 0 53]\n",
      " [0 0 nan 27 0 0 8]]\n"
     ]
    },
    {
     "name": "stderr",
     "output_type": "stream",
     "text": [
      "100%|███████████████████████████████████████████| 15/15 [00:03<00:00,  4.30it/s]\n"
     ]
    },
    {
     "name": "stdout",
     "output_type": "stream",
     "text": [
      "Completed imputation for fold 5:\n",
      "X_res with imputed values (subset):\n",
      "[[0 0 0 22 1 0 7]\n",
      " [1 1 1 38 1 0 71]\n",
      " [1 0 1 26 0 0 8]\n",
      " [1 1 1 35 1 0 53]\n",
      " [0 0 0 27 0 0 8]]\n",
      "Metrics for this fold: {'nrmse': 0.5938, 'col_0_error_rate': 0.3375, 'col_1_error_rate': 0.3191, 'col_2_error_rate': 0.3571, 'total_error_rate': 0.3401, 'clf_aucroc': 0.8523}\n",
      "\n",
      "Fold 6\n",
      "Insufficient data for validation, breaking loop\n",
      "Average nrmse for 10% missing data: 0.7652599999999999\n",
      "Average col_0_error_rate for 10% missing data: 0.35161999999999993\n",
      "Average col_1_error_rate for 10% missing data: 0.38256\n",
      "Average col_2_error_rate for 10% missing data: 0.35768\n",
      "Average total_error_rate for 10% missing data: 0.36538000000000004\n",
      "Average clf_aucroc for 10% missing data: 0.85078\n",
      "\n",
      "Processing 15% missing data\n",
      "\n",
      "Fold 1\n",
      "Generated incomplete data with missing values for fold 1:\n",
      "Original data with missing values (subset):\n",
      "[[1 0 1 26 0 0 8]\n",
      " [1 nan 1 35 nan 0 nan]\n",
      " [0 0 0 35 0 nan 8]\n",
      " [0 0 0 27 0 0 8]\n",
      " [0 1 0 54 nan 0 52]]\n"
     ]
    },
    {
     "name": "stderr",
     "output_type": "stream",
     "text": [
      "100%|███████████████████████████████████████████| 15/15 [00:03<00:00,  4.46it/s]\n"
     ]
    },
    {
     "name": "stdout",
     "output_type": "stream",
     "text": [
      "Completed imputation for fold 1:\n",
      "X_res with imputed values (subset):\n",
      "[[1 0 1 26 0 0 8]\n",
      " [1 2 1 35 2.413994073867798 0 16.289121627807617]\n",
      " [0 0 0 35 0 0.5770098567008972 8]\n",
      " [0 0 0 27 0 0 8]\n",
      " [0 1 0 54 2.1022958755493164 0 52]]\n",
      "Metrics for this fold: {'nrmse': 0.9773, 'col_0_error_rate': 0.5376, 'col_1_error_rate': 0.2593, 'col_2_error_rate': 0.3053, 'total_error_rate': 0.3615, 'clf_aucroc': 0.8359}\n",
      "\n",
      "Fold 2\n",
      "Generated incomplete data with missing values for fold 2:\n",
      "Original data with missing values (subset):\n",
      "[[0 0 0 22 1 0 7]\n",
      " [1 1 1 38 1 0 71]\n",
      " [1 0 1 26 0 0 8]\n",
      " [1 1 1 35 1 0 53]\n",
      " [0 0 nan 35 0 0 nan]]\n"
     ]
    },
    {
     "name": "stderr",
     "output_type": "stream",
     "text": [
      "100%|███████████████████████████████████████████| 15/15 [00:03<00:00,  4.43it/s]\n"
     ]
    },
    {
     "name": "stdout",
     "output_type": "stream",
     "text": [
      "Completed imputation for fold 2:\n",
      "X_res with imputed values (subset):\n",
      "[[0 0 0 22 1 0 7]\n",
      " [1 1 1 38 1 0 71]\n",
      " [1 0 1 26 0 0 8]\n",
      " [1 1 1 35 1 0 53]\n",
      " [0 0 0 35 0 0 55.74292755126953]]\n",
      "Metrics for this fold: {'nrmse': 0.8926, 'col_0_error_rate': 0.3483, 'col_1_error_rate': 0.6396, 'col_2_error_rate': 0.4087, 'total_error_rate': 0.473, 'clf_aucroc': 0.9214}\n",
      "\n",
      "Fold 3\n",
      "Generated incomplete data with missing values for fold 3:\n",
      "Original data with missing values (subset):\n",
      "[[0 0 0 22 1 0 7]\n",
      " [1 1 1 nan 1 0 71]\n",
      " [1 0 nan 26 0 0 8]\n",
      " [0 0 0 35 0 nan 8]\n",
      " [0 0 0 nan 0 0 nan]]\n"
     ]
    },
    {
     "name": "stderr",
     "output_type": "stream",
     "text": [
      "100%|███████████████████████████████████████████| 15/15 [00:03<00:00,  4.59it/s]\n"
     ]
    },
    {
     "name": "stdout",
     "output_type": "stream",
     "text": [
      "Completed imputation for fold 3:\n",
      "X_res with imputed values (subset):\n",
      "[[0 0 0 22 1 0 7]\n",
      " [1 1 1 27.296133041381836 1 0 71]\n",
      " [1 0 1 26 0 0 8]\n",
      " [0 0 0 35 0 1.930166244506836 8]\n",
      " [0 0 0 25.54746437072754 0 0 53.35728073120117]]\n",
      "Metrics for this fold: {'nrmse': 1.0957, 'col_0_error_rate': 0.3186, 'col_1_error_rate': 0.404, 'col_2_error_rate': 0.4057, 'total_error_rate': 0.3742, 'clf_aucroc': 0.808}\n",
      "\n",
      "Fold 4\n",
      "Generated incomplete data with missing values for fold 4:\n",
      "Original data with missing values (subset):\n",
      "[[0 0 0 22 nan nan 7]\n",
      " [1 1 1 38 nan 0 71]\n",
      " [1 1 1 35 1 0 53]\n",
      " [0 0 nan 35 0 0 8]\n",
      " [0 0 0 27 0 0 8]]\n"
     ]
    },
    {
     "name": "stderr",
     "output_type": "stream",
     "text": [
      "100%|███████████████████████████████████████████| 15/15 [00:03<00:00,  4.29it/s]\n"
     ]
    },
    {
     "name": "stdout",
     "output_type": "stream",
     "text": [
      "Completed imputation for fold 4:\n",
      "X_res with imputed values (subset):\n",
      "[[0 0 0 22 0.9011366963386536 0.22693775594234467 7]\n",
      " [1 1 1 38 2.2795894145965576 0 71]\n",
      " [1 1 1 35 1 0 53]\n",
      " [0 0 0 35 0 0 8]\n",
      " [0 0 0 27 0 0 8]]\n",
      "Metrics for this fold: {'nrmse': 1.4482, 'col_0_error_rate': 0.2703, 'col_1_error_rate': 0.2653, 'col_2_error_rate': 0.4463, 'total_error_rate': 0.3333, 'clf_aucroc': 0.812}\n",
      "\n",
      "Fold 5\n",
      "Generated incomplete data with missing values for fold 5:\n",
      "Original data with missing values (subset):\n",
      "[[0 0 0 22 1 0 7]\n",
      " [1 1 1 38 1 0 71]\n",
      " [1 nan 1 nan 0 0 nan]\n",
      " [1 1 nan 35 1 0 53]\n",
      " [0 0 nan 27 nan 0 8]]\n"
     ]
    },
    {
     "name": "stderr",
     "output_type": "stream",
     "text": [
      "100%|███████████████████████████████████████████| 15/15 [00:03<00:00,  4.33it/s]\n"
     ]
    },
    {
     "name": "stdout",
     "output_type": "stream",
     "text": [
      "Completed imputation for fold 5:\n",
      "X_res with imputed values (subset):\n",
      "[[0 0 0 22 1 0 7]\n",
      " [1 1 1 38 1 0 71]\n",
      " [1 0 1 26.476531982421875 0 0 73.03582000732422]\n",
      " [1 1 1 35 1 0 53]\n",
      " [0 0 0 27 0.7108156681060791 0 8]]\n",
      "Metrics for this fold: {'nrmse': 0.8243, 'col_0_error_rate': 0.3434, 'col_1_error_rate': 0.3814, 'col_2_error_rate': 0.3426, 'total_error_rate': 0.3553, 'clf_aucroc': 0.8575}\n",
      "\n",
      "Fold 6\n",
      "Insufficient data for validation, breaking loop\n",
      "Average nrmse for 15% missing data: 1.04762\n",
      "Average col_0_error_rate for 15% missing data: 0.36363999999999996\n",
      "Average col_1_error_rate for 15% missing data: 0.38992\n",
      "Average col_2_error_rate for 15% missing data: 0.38171999999999995\n",
      "Average total_error_rate for 15% missing data: 0.37945999999999996\n",
      "Average clf_aucroc for 15% missing data: 0.8469599999999999\n",
      "\n",
      "Processing 20% missing data\n",
      "\n",
      "Fold 1\n",
      "Generated incomplete data with missing values for fold 1:\n",
      "Original data with missing values (subset):\n",
      "[[1 0 nan nan 0 0 8]\n",
      " [nan 1 1 35 1 0 53]\n",
      " [0 0 0 35 0 0 8]\n",
      " [nan 0 0 27 nan 0 8]\n",
      " [0 nan 0 54 0 0 52]]\n"
     ]
    },
    {
     "name": "stderr",
     "output_type": "stream",
     "text": [
      "100%|███████████████████████████████████████████| 15/15 [00:03<00:00,  4.15it/s]\n"
     ]
    },
    {
     "name": "stdout",
     "output_type": "stream",
     "text": [
      "Completed imputation for fold 1:\n",
      "X_res with imputed values (subset):\n",
      "[[1 0 1 32.40189743041992 0 0 8]\n",
      " [1 1 1 35 1 0 53]\n",
      " [0 0 0 35 0 0 8]\n",
      " [0 0 0 27 0.7667214274406433 0 8]\n",
      " [0 1 0 54 0 0 52]]\n",
      "Metrics for this fold: {'nrmse': 1.2944, 'col_0_error_rate': 0.3613, 'col_1_error_rate': 0.292, 'col_2_error_rate': 0.3143, 'total_error_rate': 0.3241, 'clf_aucroc': 0.8632}\n",
      "\n",
      "Fold 2\n",
      "Generated incomplete data with missing values for fold 2:\n",
      "Original data with missing values (subset):\n",
      "[[nan 0 0 22 1 0 7]\n",
      " [1 nan nan 38 1 nan nan]\n",
      " [nan 0 1 26 0 0 8]\n",
      " [1 1 1 35 1 0 53]\n",
      " [nan 0 0 35 0 0 nan]]\n"
     ]
    },
    {
     "name": "stderr",
     "output_type": "stream",
     "text": [
      "100%|███████████████████████████████████████████| 15/15 [00:04<00:00,  3.40it/s]\n"
     ]
    },
    {
     "name": "stdout",
     "output_type": "stream",
     "text": [
      "Completed imputation for fold 2:\n",
      "X_res with imputed values (subset):\n",
      "[[0 0 0 22 1 0 7]\n",
      " [1 1 0 38 1 0.697891891002655 14.02755069732666]\n",
      " [0 0 1 26 0 0 8]\n",
      " [1 1 1 35 1 0 53]\n",
      " [0 0 0 35 0 0 26.55202293395996]]\n",
      "Metrics for this fold: {'nrmse': 0.9991, 'col_0_error_rate': 0.3691, 'col_1_error_rate': 0.7143, 'col_2_error_rate': 0.3221, 'total_error_rate': 0.4749, 'clf_aucroc': 0.8864}\n",
      "\n",
      "Fold 3\n",
      "Generated incomplete data with missing values for fold 3:\n",
      "Original data with missing values (subset):\n",
      "[[0 0 0 22 1 0 7]\n",
      " [1 nan 1 38 1 0 71]\n",
      " [1 0 1 26 0 0 8]\n",
      " [0 nan nan nan 0 nan 8]\n",
      " [0 0 nan 27 nan 0 8]]\n"
     ]
    },
    {
     "name": "stderr",
     "output_type": "stream",
     "text": [
      "100%|███████████████████████████████████████████| 15/15 [00:03<00:00,  4.36it/s]\n"
     ]
    },
    {
     "name": "stdout",
     "output_type": "stream",
     "text": [
      "Completed imputation for fold 3:\n",
      "X_res with imputed values (subset):\n",
      "[[0 0 0 22 1 0 7]\n",
      " [1 2 1 38 1 0 71]\n",
      " [1 0 1 26 0 0 8]\n",
      " [0 0 0 27.635210037231445 0 0.3982674777507782 8]\n",
      " [0 0 0 27 1.3875157833099365 0 8]]\n",
      "Metrics for this fold: {'nrmse': 0.7478, 'col_0_error_rate': 0.3986, 'col_1_error_rate': 0.6579, 'col_2_error_rate': 0.2857, 'total_error_rate': 0.4591, 'clf_aucroc': 0.7915}\n",
      "\n",
      "Fold 4\n",
      "Generated incomplete data with missing values for fold 4:\n",
      "Original data with missing values (subset):\n",
      "[[0 0 0 22 1 0 7]\n",
      " [nan 1 1 38 nan nan 71]\n",
      " [nan nan nan 35 1 0 53]\n",
      " [0 nan 0 35 0 0 8]\n",
      " [0 0 0 27 0 0 8]]\n"
     ]
    },
    {
     "name": "stderr",
     "output_type": "stream",
     "text": [
      "100%|███████████████████████████████████████████| 15/15 [00:04<00:00,  3.46it/s]\n"
     ]
    },
    {
     "name": "stdout",
     "output_type": "stream",
     "text": [
      "Completed imputation for fold 4:\n",
      "X_res with imputed values (subset):\n",
      "[[0 0 0 22 1 0 7]\n",
      " [1 1 1 38 2.020275592803955 2.527261734008789 71]\n",
      " [1 0 0 35 1 0 53]\n",
      " [0 0 0 35 0 0 8]\n",
      " [0 0 0 27 0 0 8]]\n",
      "Metrics for this fold: {'nrmse': 0.763, 'col_0_error_rate': 0.4551, 'col_1_error_rate': 0.4715, 'col_2_error_rate': 0.2532, 'total_error_rate': 0.388, 'clf_aucroc': 0.8284}\n",
      "\n",
      "Fold 5\n",
      "Generated incomplete data with missing values for fold 5:\n",
      "Original data with missing values (subset):\n",
      "[[0 0 0 22 1 0 7]\n",
      " [1 1 1 38 1 0 71]\n",
      " [1 0 1 26 nan 0 8]\n",
      " [1 1 1 35 1 nan nan]\n",
      " [nan 0 0 27 0 0 nan]]\n"
     ]
    },
    {
     "name": "stderr",
     "output_type": "stream",
     "text": [
      "100%|███████████████████████████████████████████| 15/15 [00:03<00:00,  3.99it/s]"
     ]
    },
    {
     "name": "stdout",
     "output_type": "stream",
     "text": [
      "Completed imputation for fold 5:\n",
      "X_res with imputed values (subset):\n",
      "[[0 0 0 22 1 0 7]\n",
      " [1 1 1 38 1 0 71]\n",
      " [1 0 1 26 1.3410472869873047 0 8]\n",
      " [1 1 1 35 1 0.40731361508369446 66.6235122680664]\n",
      " [0 0 0 27 0 0 18.985668182373047]]\n",
      "Metrics for this fold: {'nrmse': 0.856, 'col_0_error_rate': 0.3385, 'col_1_error_rate': 0.561, 'col_2_error_rate': 0.381, 'total_error_rate': 0.4225, 'clf_aucroc': 0.8455}\n",
      "\n",
      "Fold 6\n",
      "Insufficient data for validation, breaking loop\n",
      "Average nrmse for 20% missing data: 0.9320599999999999\n",
      "Average col_0_error_rate for 20% missing data: 0.38452000000000003\n",
      "Average col_1_error_rate for 20% missing data: 0.5393399999999999\n",
      "Average col_2_error_rate for 20% missing data: 0.31126\n",
      "Average total_error_rate for 20% missing data: 0.41372\n",
      "Average clf_aucroc for 20% missing data: 0.8430000000000002\n",
      "Completed all iterations\n"
     ]
    },
    {
     "name": "stderr",
     "output_type": "stream",
     "text": [
      "\n"
     ]
    }
   ],
   "source": [
    "data_name_lst = ['titanic']\n",
    "\n",
    "result_dir = './results_titanic'\n",
    "os.makedirs(result_dir)\n",
    "\n",
    "for data_name in data_name_lst:\n",
    "    results = experiment_run(data_name, config, test=True)\n",
    "    results['config'] = config\n",
    "    results['dataset'] = data_name\n",
    "    result_path = os.path.join(result_dir, '{}.json'.format(data_name))\n",
    "    write_json(results, result_path)"
   ]
  },
  {
   "cell_type": "code",
   "execution_count": null,
   "id": "2648f022",
   "metadata": {},
   "outputs": [],
   "source": []
  }
 ],
 "metadata": {
  "kernelspec": {
   "display_name": "Python 3 (ipykernel)",
   "language": "python",
   "name": "python3"
  },
  "language_info": {
   "codemirror_mode": {
    "name": "ipython",
    "version": 3
   },
   "file_extension": ".py",
   "mimetype": "text/x-python",
   "name": "python",
   "nbconvert_exporter": "python",
   "pygments_lexer": "ipython3",
   "version": "3.10.9"
  }
 },
 "nbformat": 4,
 "nbformat_minor": 5
}
