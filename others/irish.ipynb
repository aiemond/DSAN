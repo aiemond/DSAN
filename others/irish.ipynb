{
 "cells": [
  {
   "cell_type": "code",
   "execution_count": 1,
   "id": "24a0ccea",
   "metadata": {},
   "outputs": [
    {
     "name": "stdout",
     "output_type": "stream",
     "text": [
      "zsh:1: command not found: nvidia-smi\r\n"
     ]
    }
   ],
   "source": [
    "!nvidia-smi"
   ]
  },
  {
   "cell_type": "code",
   "execution_count": 2,
   "id": "c98c8440",
   "metadata": {},
   "outputs": [
    {
     "name": "stdout",
     "output_type": "stream",
     "text": [
      "Requirement already satisfied: missingpy in /Users/emondemoniac/anaconda3/lib/python3.10/site-packages (0.2.0)\r\n"
     ]
    }
   ],
   "source": [
    "!pip install missingpy"
   ]
  },
  {
   "cell_type": "code",
   "execution_count": 1,
   "id": "a6d450d1",
   "metadata": {},
   "outputs": [],
   "source": [
    "import pandas as pd\n",
    "import numpy as np\n",
    "import matplotlib.pyplot as plt\n",
    "import seaborn as sns\n",
    "from sklearn.metrics import roc_auc_score\n",
    "import math"
   ]
  },
  {
   "cell_type": "code",
   "execution_count": 4,
   "id": "ccd8278a",
   "metadata": {},
   "outputs": [],
   "source": [
    "import sklearn.neighbors._base\n",
    "sys.modules['sklearn.neighbors.base'] = sklearn.neighbors._base"
   ]
  },
  {
   "cell_type": "code",
   "execution_count": 5,
   "id": "52783fac",
   "metadata": {},
   "outputs": [],
   "source": [
    "import sys\n",
    "import numpy as np\n",
    "import pandas as pd\n",
    "\n",
    "from missingpy import MissForest\n",
    "from dsan import Imputer as DSANImputer\n",
    "from utils import *\n",
    "\n",
    "import warnings\n",
    "warnings.filterwarnings('ignore')"
   ]
  },
  {
   "cell_type": "code",
   "execution_count": 6,
   "id": "bcca8afb",
   "metadata": {},
   "outputs": [],
   "source": [
    "seed = 128\n",
    "set_seed(seed)"
   ]
  },
  {
   "cell_type": "code",
   "execution_count": 7,
   "id": "e89794b8",
   "metadata": {},
   "outputs": [],
   "source": [
    "def get_imputer(config):\n",
    "    \n",
    "    model = config['model']\n",
    "    \n",
    "    if model == 'DSAN':\n",
    "        imputer = DSANImputer(rep_dim=config['rep_dim'],\n",
    "                num_heads=config['num_heads'],\n",
    "                n_hidden=config['n_hidden'],\n",
    "                lr=config['lr'],\n",
    "                weight_decay=config['weight_decay'],\n",
    "                batch_size=config['batch_size'],\n",
    "                epochs=config['epochs'],\n",
    "                noise_percent=config['noise_percent'],\n",
    "                stopped_epoch=config['stopped_epoch'])\n",
    "    \n",
    "    elif model == 'MissForest':\n",
    "        imputer = MissForest(random_state=0)\n",
    "        \n",
    "    elif model == 'Statistics':\n",
    "        imputer = None\n",
    "        \n",
    "    return imputer"
   ]
  },
  {
   "cell_type": "code",
   "execution_count": 8,
   "id": "b575cd25",
   "metadata": {},
   "outputs": [],
   "source": [
    "def experiment_run(data_name, config, test=False):\n",
    "    # Retrieve dataset\n",
    "    dataset = get_data(data_name)\n",
    "    print(f\"Retrieved dataset for {data_name}\")\n",
    "\n",
    "    # Limit to 1000 samples if test flag is true\n",
    "    if test:\n",
    "        dataset = (dataset[0][:1000], dataset[1], dataset[2], dataset[3])\n",
    "        print(\"Limited dataset to 1000 samples for testing\")\n",
    "\n",
    "    k = 5\n",
    "    percent_missing_lst = [p for p in range(5, 25, 5)]\n",
    "    X_origin, n_col, num_vars, cat_vars = dataset\n",
    "\n",
    "   # Apply category mapping\n",
    "    X_origin = category_mapping(X_origin, cat_vars)\n",
    "    print(\"Applied category mapping\")\n",
    "\n",
    "    # Check if X_origin is modified in-place or replaced\n",
    "    if X_origin is not None:\n",
    "        print(\"X_origin is replaced with a new version where categorical variables have been mapped to numerical values.\")\n",
    "    else:\n",
    "        print(\"X_origin is modified in-place, with categorical variables mapped to numerical values.\")\n",
    "\n",
    "    # Print data size\n",
    "    print(\"Data Size: {}\".format(X_origin.shape))\n",
    "\n",
    "\n",
    "    n_sample = X_origin.shape[0]\n",
    "    idx_lst = list(range(n_sample))\n",
    "    np.random.shuffle(idx_lst)\n",
    "\n",
    "    # k-fold validation setup\n",
    "    n_valid = len(idx_lst) // k\n",
    "    print(f\"Starting k-fold validation with k={k}\")\n",
    "\n",
    "    results = {}\n",
    "    for percent_missing in percent_missing_lst:\n",
    "        result = []\n",
    "        print(f\"\\nProcessing {percent_missing}% missing data\")\n",
    "\n",
    "        for it, n in enumerate(range(0, n_sample, n_valid)):\n",
    "            print(f\"\\nFold {it + 1}\")\n",
    "            valid_idx = idx_lst[n: n+n_valid]\n",
    "\n",
    "            if len(valid_idx) < n_valid:\n",
    "                print(\"Insufficient data for validation, breaking loop\")\n",
    "                break\n",
    "\n",
    "            train_idx = list(set(idx_lst) - set(valid_idx))\n",
    "            X = X_origin[train_idx, :]\n",
    "            X_test = X_origin[valid_idx, :]\n",
    "\n",
    "            # Generating incomplete data\n",
    "            missing_mask = generate_missing_mask(X, percent_missing=percent_missing)\n",
    "            X_incomplete = X.copy()\n",
    "            X_incomplete[missing_mask] = np.nan\n",
    "            print(\"Generated incomplete data with missing values for fold {}:\".format(it+1))\n",
    "            print(\"Original data with missing values (subset):\")\n",
    "            print(X_incomplete[:5])  # Adjust the number of rows as needed\n",
    "\n",
    "            # Imputation\n",
    "            imputer = get_imputer(config)\n",
    "            X_imputed = imputer.fit_transform(X_incomplete, cat_vars=cat_vars)\n",
    "            print(\"Completed imputation for fold {}:\".format(it+1))\n",
    "\n",
    "            X_res = X.copy()\n",
    "            X_res[missing_mask] = X_imputed[missing_mask]\n",
    "            print(\"X_res with imputed values (subset):\")\n",
    "            print(X_res[:5])  # Adjust the number of rows as needed\n",
    "\n",
    "            # Calculate metrics\n",
    "            metric = cal_metric_numpy(X_res, X, missing_mask, num_vars, cat_vars)\n",
    "            score = ex_classify(data_name=data_name, train_array=X_res, test_array=X_test, num_vars=num_vars, cat_vars=cat_vars)\n",
    "            \n",
    "            metric['clf_aucroc'] = round(score, 4)\n",
    "            result.append(metric)\n",
    "            print(\"Metrics for this fold:\", metric)\n",
    "\n",
    "        # Average results\n",
    "        avg_result = dict()\n",
    "        for key in result[0].keys():\n",
    "            value = np.mean([m[key] for m in result])\n",
    "            avg_result[key] = value \n",
    "            print(f\"Average {key} for {percent_missing}% missing data: {value}\")\n",
    "\n",
    "        results[percent_missing] = avg_result\n",
    "\n",
    "    print(\"Completed all iterations\")\n",
    "    return results\n"
   ]
  },
  {
   "cell_type": "code",
   "execution_count": 9,
   "id": "99bd3b19",
   "metadata": {},
   "outputs": [],
   "source": [
    "config = {\n",
    "    'model': 'DSAN',\n",
    "    'rep_dim': 32,\n",
    "    'num_heads': 8,\n",
    "    'n_hidden': 2,\n",
    "    'lr': 3e-3,\n",
    "    'weight_decay': 1e-5,\n",
    "    'batch_size': 128,\n",
    "    'epochs': 25,\n",
    "    'noise_percent': 10,\n",
    "    'stopped_epoch': 25\n",
    "}"
   ]
  },
  {
   "cell_type": "code",
   "execution_count": 10,
   "id": "fbda9174",
   "metadata": {},
   "outputs": [
    {
     "name": "stdout",
     "output_type": "stream",
     "text": [
      "Retrieved dataset for iris\n",
      "Limited dataset to 1000 samples for testing\n",
      "Applied category mapping\n",
      "X_origin is replaced with a new version where categorical variables have been mapped to numerical values.\n",
      "Data Size: (150, 5)\n",
      "Starting k-fold validation with k=5\n",
      "\n",
      "Processing 5% missing data\n",
      "\n",
      "Fold 1\n",
      "Generated incomplete data with missing values for fold 1:\n",
      "Original data with missing values (subset):\n",
      "[[5.1 nan 1.4 0.2 0. ]\n",
      " [4.9 3.  nan 0.2 0. ]\n",
      " [4.6 3.1 1.5 0.2 0. ]\n",
      " [5.  3.6 1.4 0.2 0. ]\n",
      " [5.4 3.9 1.7 0.4 0. ]]\n"
     ]
    },
    {
     "name": "stderr",
     "output_type": "stream",
     "text": [
      "100%|███████████████████████████████████████████| 25/25 [00:01<00:00, 21.65it/s]\n"
     ]
    },
    {
     "name": "stdout",
     "output_type": "stream",
     "text": [
      "Completed imputation for fold 1:\n",
      "X_res with imputed values (subset):\n",
      "[[5.1        3.75170827 1.4        0.2        0.        ]\n",
      " [4.9        3.         1.43910265 0.2        0.        ]\n",
      " [4.6        3.1        1.5        0.2        0.        ]\n",
      " [5.         3.6        1.4        0.2        0.        ]\n",
      " [5.4        3.9        1.7        0.4        0.        ]]\n",
      "Metrics for this fold: {'nrmse': 0.4058, 'col_4_error_rate': 0.0, 'total_error_rate': 0.0, 'clf_aucroc': 1.0}\n",
      "\n",
      "Fold 2\n",
      "Generated incomplete data with missing values for fold 2:\n",
      "Original data with missing values (subset):\n",
      "[[5.1 3.5 1.4 nan 0. ]\n",
      " [4.9 3.  1.4 0.2 0. ]\n",
      " [4.7 3.2 1.3 0.2 0. ]\n",
      " [4.6 3.1 nan 0.2 0. ]\n",
      " [5.  3.6 1.4 0.2 0. ]]\n"
     ]
    },
    {
     "name": "stderr",
     "output_type": "stream",
     "text": [
      "100%|███████████████████████████████████████████| 25/25 [00:01<00:00, 23.13it/s]\n"
     ]
    },
    {
     "name": "stdout",
     "output_type": "stream",
     "text": [
      "Completed imputation for fold 2:\n",
      "X_res with imputed values (subset):\n",
      "[[5.1        3.5        1.4        0.58063442 0.        ]\n",
      " [4.9        3.         1.4        0.2        0.        ]\n",
      " [4.7        3.2        1.3        0.2        0.        ]\n",
      " [4.6        3.1        1.39080715 0.2        0.        ]\n",
      " [5.         3.6        1.4        0.2        0.        ]]\n",
      "Metrics for this fold: {'nrmse': 0.3009, 'col_4_error_rate': 0.125, 'total_error_rate': 0.125, 'clf_aucroc': 1.0}\n",
      "\n",
      "Fold 3\n",
      "Generated incomplete data with missing values for fold 3:\n",
      "Original data with missing values (subset):\n",
      "[[5.1 nan 1.4 0.2 0. ]\n",
      " [4.9 3.  1.4 nan 0. ]\n",
      " [4.7 3.2 1.3 0.2 0. ]\n",
      " [5.  3.6 1.4 0.2 0. ]\n",
      " [4.6 3.4 1.4 0.3 0. ]]\n"
     ]
    },
    {
     "name": "stderr",
     "output_type": "stream",
     "text": [
      "100%|███████████████████████████████████████████| 25/25 [00:01<00:00, 23.13it/s]\n"
     ]
    },
    {
     "name": "stdout",
     "output_type": "stream",
     "text": [
      "Completed imputation for fold 3:\n",
      "X_res with imputed values (subset):\n",
      "[[5.1        3.46124196 1.4        0.2        0.        ]\n",
      " [4.9        3.         1.4        0.26106587 0.        ]\n",
      " [4.7        3.2        1.3        0.2        0.        ]\n",
      " [5.         3.6        1.4        0.2        0.        ]\n",
      " [4.6        3.4        1.4        0.3        0.        ]]\n",
      "Metrics for this fold: {'nrmse': 0.3595, 'col_4_error_rate': 0.5, 'total_error_rate': 0.5, 'clf_aucroc': 1.0}\n",
      "\n",
      "Fold 4\n",
      "Generated incomplete data with missing values for fold 4:\n",
      "Original data with missing values (subset):\n",
      "[[5.1 3.5 1.4 0.2 0. ]\n",
      " [4.9 3.  1.4 0.2 0. ]\n",
      " [4.7 nan 1.3 0.2 0. ]\n",
      " [4.6 nan 1.5 0.2 0. ]\n",
      " [nan 3.9 1.7 0.4 0. ]]\n"
     ]
    },
    {
     "name": "stderr",
     "output_type": "stream",
     "text": [
      "100%|███████████████████████████████████████████| 25/25 [00:00<00:00, 27.08it/s]\n"
     ]
    },
    {
     "name": "stdout",
     "output_type": "stream",
     "text": [
      "Completed imputation for fold 4:\n",
      "X_res with imputed values (subset):\n",
      "[[5.1        3.5        1.4        0.2        0.        ]\n",
      " [4.9        3.         1.4        0.2        0.        ]\n",
      " [4.7        2.91856265 1.3        0.2        0.        ]\n",
      " [4.6        2.90951705 1.5        0.2        0.        ]\n",
      " [5.13755751 3.9        1.7        0.4        0.        ]]\n",
      "Metrics for this fold: {'nrmse': 0.475, 'col_4_error_rate': 0.0, 'total_error_rate': 0.0, 'clf_aucroc': 0.9962}\n",
      "\n",
      "Fold 5\n",
      "Generated incomplete data with missing values for fold 5:\n",
      "Original data with missing values (subset):\n",
      "[[4.7 nan 1.3 0.2 0. ]\n",
      " [4.6 3.1 1.5 0.2 0. ]\n",
      " [5.  3.6 1.4 0.2 0. ]\n",
      " [5.4 3.9 1.7 0.4 0. ]\n",
      " [4.6 3.4 1.4 0.3 0. ]]\n"
     ]
    },
    {
     "name": "stderr",
     "output_type": "stream",
     "text": [
      "100%|███████████████████████████████████████████| 25/25 [00:00<00:00, 31.77it/s]\n"
     ]
    },
    {
     "name": "stdout",
     "output_type": "stream",
     "text": [
      "Completed imputation for fold 5:\n",
      "X_res with imputed values (subset):\n",
      "[[4.7        3.61538339 1.3        0.2        0.        ]\n",
      " [4.6        3.1        1.5        0.2        0.        ]\n",
      " [5.         3.6        1.4        0.2        0.        ]\n",
      " [5.4        3.9        1.7        0.4        0.        ]\n",
      " [4.6        3.4        1.4        0.3        0.        ]]\n",
      "Metrics for this fold: {'nrmse': 0.4154, 'col_4_error_rate': 0.0, 'total_error_rate': 0.0, 'clf_aucroc': 0.9944}\n",
      "Average nrmse for 5% missing data: 0.39132\n",
      "Average col_4_error_rate for 5% missing data: 0.125\n",
      "Average total_error_rate for 5% missing data: 0.125\n",
      "Average clf_aucroc for 5% missing data: 0.9981199999999999\n",
      "\n",
      "Processing 10% missing data\n",
      "\n",
      "Fold 1\n",
      "Generated incomplete data with missing values for fold 1:\n",
      "Original data with missing values (subset):\n",
      "[[5.1 3.5 1.4 0.2 0. ]\n",
      " [4.9 3.  1.4 0.2 0. ]\n",
      " [4.6 nan 1.5 0.2 nan]\n",
      " [5.  3.6 1.4 0.2 0. ]\n",
      " [5.4 nan 1.7 0.4 0. ]]\n"
     ]
    },
    {
     "name": "stderr",
     "output_type": "stream",
     "text": [
      "100%|███████████████████████████████████████████| 25/25 [00:00<00:00, 31.84it/s]\n"
     ]
    },
    {
     "name": "stdout",
     "output_type": "stream",
     "text": [
      "Completed imputation for fold 1:\n",
      "X_res with imputed values (subset):\n",
      "[[5.1        3.5        1.4        0.2        0.        ]\n",
      " [4.9        3.         1.4        0.2        0.        ]\n",
      " [4.6        3.17579889 1.5        0.2        0.        ]\n",
      " [5.         3.6        1.4        0.2        0.        ]\n",
      " [5.4        3.14000869 1.7        0.4        0.        ]]\n",
      "Metrics for this fold: {'nrmse': 0.3288, 'col_4_error_rate': 0.25, 'total_error_rate': 0.25, 'clf_aucroc': 1.0}\n",
      "\n",
      "Fold 2\n",
      "Generated incomplete data with missing values for fold 2:\n",
      "Original data with missing values (subset):\n",
      "[[5.1 3.5 1.4 0.2 0. ]\n",
      " [4.9 3.  1.4 0.2 0. ]\n",
      " [4.7 3.2 1.3 nan 0. ]\n",
      " [4.6 3.1 1.5 0.2 0. ]\n",
      " [5.  3.6 1.4 0.2 0. ]]\n"
     ]
    },
    {
     "name": "stderr",
     "output_type": "stream",
     "text": [
      "100%|███████████████████████████████████████████| 25/25 [00:00<00:00, 30.86it/s]\n"
     ]
    },
    {
     "name": "stdout",
     "output_type": "stream",
     "text": [
      "Completed imputation for fold 2:\n",
      "X_res with imputed values (subset):\n",
      "[[5.1        3.5        1.4        0.2        0.        ]\n",
      " [4.9        3.         1.4        0.2        0.        ]\n",
      " [4.7        3.2        1.3        0.71018195 0.        ]\n",
      " [4.6        3.1        1.5        0.2        0.        ]\n",
      " [5.         3.6        1.4        0.2        0.        ]]\n",
      "Metrics for this fold: {'nrmse': 0.4467, 'col_4_error_rate': 0.2727, 'total_error_rate': 0.2727, 'clf_aucroc': 0.9877}\n",
      "\n",
      "Fold 3\n",
      "Generated incomplete data with missing values for fold 3:\n",
      "Original data with missing values (subset):\n",
      "[[5.1 3.5 1.4 0.2 0. ]\n",
      " [4.9 3.  1.4 0.2 0. ]\n",
      " [4.7 3.2 1.3 0.2 0. ]\n",
      " [5.  3.6 1.4 0.2 0. ]\n",
      " [4.6 3.4 1.4 nan 0. ]]\n"
     ]
    },
    {
     "name": "stderr",
     "output_type": "stream",
     "text": [
      "100%|███████████████████████████████████████████| 25/25 [00:00<00:00, 25.32it/s]\n"
     ]
    },
    {
     "name": "stdout",
     "output_type": "stream",
     "text": [
      "Completed imputation for fold 3:\n",
      "X_res with imputed values (subset):\n",
      "[[ 5.1         3.5         1.4         0.2         0.        ]\n",
      " [ 4.9         3.          1.4         0.2         0.        ]\n",
      " [ 4.7         3.2         1.3         0.2         0.        ]\n",
      " [ 5.          3.6         1.4         0.2         0.        ]\n",
      " [ 4.6         3.4         1.4        -0.18403861  0.        ]]\n",
      "Metrics for this fold: {'nrmse': 0.4587, 'col_4_error_rate': 0.0909, 'total_error_rate': 0.0909, 'clf_aucroc': 1.0}\n",
      "\n",
      "Fold 4\n",
      "Generated incomplete data with missing values for fold 4:\n",
      "Original data with missing values (subset):\n",
      "[[5.1 3.5 nan 0.2 0. ]\n",
      " [nan 3.  1.4 0.2 0. ]\n",
      " [4.7 3.2 1.3 0.2 0. ]\n",
      " [4.6 3.1 1.5 0.2 0. ]\n",
      " [5.4 nan 1.7 0.4 0. ]]\n"
     ]
    },
    {
     "name": "stderr",
     "output_type": "stream",
     "text": [
      "100%|███████████████████████████████████████████| 25/25 [00:00<00:00, 32.64it/s]\n"
     ]
    },
    {
     "name": "stdout",
     "output_type": "stream",
     "text": [
      "Completed imputation for fold 4:\n",
      "X_res with imputed values (subset):\n",
      "[[5.1        3.5        2.39724374 0.2        0.        ]\n",
      " [4.98875856 3.         1.4        0.2        0.        ]\n",
      " [4.7        3.2        1.3        0.2        0.        ]\n",
      " [4.6        3.1        1.5        0.2        0.        ]\n",
      " [5.4        3.47465658 1.7        0.4        0.        ]]\n",
      "Metrics for this fold: {'nrmse': 0.4452, 'col_4_error_rate': 0.0, 'total_error_rate': 0.0, 'clf_aucroc': 0.9962}\n",
      "\n",
      "Fold 5\n",
      "Generated incomplete data with missing values for fold 5:\n",
      "Original data with missing values (subset):\n",
      "[[4.7 3.2 1.3 0.2 nan]\n",
      " [4.6 3.1 1.5 0.2 0. ]\n",
      " [5.  3.6 1.4 0.2 0. ]\n",
      " [5.4 3.9 1.7 0.4 0. ]\n",
      " [4.6 3.4 1.4 0.3 0. ]]\n"
     ]
    },
    {
     "name": "stderr",
     "output_type": "stream",
     "text": [
      "100%|███████████████████████████████████████████| 25/25 [00:00<00:00, 30.59it/s]\n"
     ]
    },
    {
     "name": "stdout",
     "output_type": "stream",
     "text": [
      "Completed imputation for fold 5:\n",
      "X_res with imputed values (subset):\n",
      "[[4.7 3.2 1.3 0.2 0. ]\n",
      " [4.6 3.1 1.5 0.2 0. ]\n",
      " [5.  3.6 1.4 0.2 0. ]\n",
      " [5.4 3.9 1.7 0.4 0. ]\n",
      " [4.6 3.4 1.4 0.3 0. ]]\n",
      "Metrics for this fold: {'nrmse': 0.4717, 'col_4_error_rate': 0.0, 'total_error_rate': 0.0, 'clf_aucroc': 0.9806}\n",
      "Average nrmse for 10% missing data: 0.43022\n",
      "Average col_4_error_rate for 10% missing data: 0.12271999999999998\n",
      "Average total_error_rate for 10% missing data: 0.12271999999999998\n",
      "Average clf_aucroc for 10% missing data: 0.9929\n",
      "\n",
      "Processing 15% missing data\n",
      "\n",
      "Fold 1\n",
      "Generated incomplete data with missing values for fold 1:\n",
      "Original data with missing values (subset):\n",
      "[[nan 3.5 1.4 0.2 0. ]\n",
      " [nan 3.  1.4 0.2 0. ]\n",
      " [4.6 nan 1.5 0.2 0. ]\n",
      " [5.  nan 1.4 0.2 0. ]\n",
      " [5.4 3.9 1.7 0.4 0. ]]\n"
     ]
    },
    {
     "name": "stderr",
     "output_type": "stream",
     "text": [
      "100%|███████████████████████████████████████████| 25/25 [00:00<00:00, 31.16it/s]\n"
     ]
    },
    {
     "name": "stdout",
     "output_type": "stream",
     "text": [
      "Completed imputation for fold 1:\n",
      "X_res with imputed values (subset):\n",
      "[[4.89763737 3.5        1.4        0.2        0.        ]\n",
      " [4.56990671 3.         1.4        0.2        0.        ]\n",
      " [4.6        3.02295446 1.5        0.2        0.        ]\n",
      " [5.         3.22872686 1.4        0.2        0.        ]\n",
      " [5.4        3.9        1.7        0.4        0.        ]]\n",
      "Metrics for this fold: {'nrmse': 0.2947, 'col_4_error_rate': 0.2667, 'total_error_rate': 0.2667, 'clf_aucroc': 1.0}\n",
      "\n",
      "Fold 2\n",
      "Generated incomplete data with missing values for fold 2:\n",
      "Original data with missing values (subset):\n",
      "[[5.1 3.5 1.4 0.2 0. ]\n",
      " [4.9 nan nan 0.2 0. ]\n",
      " [4.7 3.2 1.3 0.2 nan]\n",
      " [4.6 nan 1.5 0.2 0. ]\n",
      " [5.  3.6 1.4 0.2 0. ]]\n"
     ]
    },
    {
     "name": "stderr",
     "output_type": "stream",
     "text": [
      "100%|███████████████████████████████████████████| 25/25 [00:00<00:00, 28.78it/s]\n"
     ]
    },
    {
     "name": "stdout",
     "output_type": "stream",
     "text": [
      "Completed imputation for fold 2:\n",
      "X_res with imputed values (subset):\n",
      "[[5.1        3.5        1.4        0.2        0.        ]\n",
      " [4.9        3.64620447 1.69280863 0.2        0.        ]\n",
      " [4.7        3.2        1.3        0.2        0.        ]\n",
      " [4.6        3.69085932 1.5        0.2        0.        ]\n",
      " [5.         3.6        1.4        0.2        0.        ]]\n",
      "Metrics for this fold: {'nrmse': 0.3769, 'col_4_error_rate': 0.125, 'total_error_rate': 0.125, 'clf_aucroc': 1.0}\n",
      "\n",
      "Fold 3\n",
      "Generated incomplete data with missing values for fold 3:\n",
      "Original data with missing values (subset):\n",
      "[[5.1 nan nan 0.2 nan]\n",
      " [nan 3.  nan nan 0. ]\n",
      " [4.7 3.2 1.3 0.2 0. ]\n",
      " [5.  3.6 1.4 0.2 0. ]\n",
      " [4.6 3.4 1.4 0.3 0. ]]\n"
     ]
    },
    {
     "name": "stderr",
     "output_type": "stream",
     "text": [
      "100%|███████████████████████████████████████████| 25/25 [00:00<00:00, 27.52it/s]\n"
     ]
    },
    {
     "name": "stdout",
     "output_type": "stream",
     "text": [
      "Completed imputation for fold 3:\n",
      "X_res with imputed values (subset):\n",
      "[[5.1        3.44331503 4.01731014 0.2        0.        ]\n",
      " [6.31239319 3.         3.13163805 0.03874445 0.        ]\n",
      " [4.7        3.2        1.3        0.2        0.        ]\n",
      " [5.         3.6        1.4        0.2        0.        ]\n",
      " [4.6        3.4        1.4        0.3        0.        ]]\n",
      "Metrics for this fold: {'nrmse': 0.5437, 'col_4_error_rate': 0.0833, 'total_error_rate': 0.0833, 'clf_aucroc': 0.9948}\n",
      "\n",
      "Fold 4\n",
      "Generated incomplete data with missing values for fold 4:\n",
      "Original data with missing values (subset):\n",
      "[[5.1 nan nan 0.2 0. ]\n",
      " [4.9 3.  1.4 0.2 0. ]\n",
      " [4.7 nan 1.3 0.2 0. ]\n",
      " [4.6 3.1 1.5 nan 0. ]\n",
      " [5.4 3.9 1.7 0.4 0. ]]\n"
     ]
    },
    {
     "name": "stderr",
     "output_type": "stream",
     "text": [
      "100%|███████████████████████████████████████████| 25/25 [00:00<00:00, 29.90it/s]\n"
     ]
    },
    {
     "name": "stdout",
     "output_type": "stream",
     "text": [
      "Completed imputation for fold 4:\n",
      "X_res with imputed values (subset):\n",
      "[[ 5.1         3.33763075  2.56024337  0.2         0.        ]\n",
      " [ 4.9         3.          1.4         0.2         0.        ]\n",
      " [ 4.7         3.26025343  1.3         0.2         0.        ]\n",
      " [ 4.6         3.1         1.5        -0.09623729  0.        ]\n",
      " [ 5.4         3.9         1.7         0.4         0.        ]]\n",
      "Metrics for this fold: {'nrmse': 0.4043, 'col_4_error_rate': 0.0, 'total_error_rate': 0.0, 'clf_aucroc': 0.9924}\n",
      "\n",
      "Fold 5\n",
      "Generated incomplete data with missing values for fold 5:\n",
      "Original data with missing values (subset):\n",
      "[[4.7 3.2 1.3 nan 0. ]\n",
      " [4.6 3.1 nan 0.2 nan]\n",
      " [5.  3.6 1.4 0.2 0. ]\n",
      " [5.4 3.9 1.7 0.4 nan]\n",
      " [4.6 3.4 1.4 0.3 0. ]]\n"
     ]
    },
    {
     "name": "stderr",
     "output_type": "stream",
     "text": [
      "100%|███████████████████████████████████████████| 25/25 [00:01<00:00, 24.77it/s]\n"
     ]
    },
    {
     "name": "stdout",
     "output_type": "stream",
     "text": [
      "Completed imputation for fold 5:\n",
      "X_res with imputed values (subset):\n",
      "[[4.7        3.2        1.3        1.18041515 0.        ]\n",
      " [4.6        3.1        2.36659956 0.2        1.        ]\n",
      " [5.         3.6        1.4        0.2        0.        ]\n",
      " [5.4        3.9        1.7        0.4        0.        ]\n",
      " [4.6        3.4        1.4        0.3        0.        ]]\n",
      "Metrics for this fold: {'nrmse': 0.3857, 'col_4_error_rate': 0.2, 'total_error_rate': 0.2, 'clf_aucroc': 0.9889}\n",
      "Average nrmse for 15% missing data: 0.40106\n",
      "Average col_4_error_rate for 15% missing data: 0.135\n",
      "Average total_error_rate for 15% missing data: 0.135\n",
      "Average clf_aucroc for 15% missing data: 0.99522\n",
      "\n",
      "Processing 20% missing data\n",
      "\n",
      "Fold 1\n",
      "Generated incomplete data with missing values for fold 1:\n",
      "Original data with missing values (subset):\n",
      "[[5.1 3.5 1.4 0.2 0. ]\n",
      " [nan 3.  1.4 0.2 0. ]\n",
      " [nan 3.1 1.5 nan 0. ]\n",
      " [nan 3.6 1.4 nan nan]\n",
      " [5.4 3.9 nan 0.4 0. ]]\n"
     ]
    },
    {
     "name": "stderr",
     "output_type": "stream",
     "text": [
      "100%|███████████████████████████████████████████| 25/25 [00:00<00:00, 25.28it/s]\n"
     ]
    },
    {
     "name": "stdout",
     "output_type": "stream",
     "text": [
      "Completed imputation for fold 1:\n",
      "X_res with imputed values (subset):\n",
      "[[5.1        3.5        1.4        0.2        0.        ]\n",
      " [5.66219234 3.         1.4        0.2        0.        ]\n",
      " [5.47725773 3.1        1.5        0.15902828 0.        ]\n",
      " [5.72588539 3.6        1.4        0.17855726 0.        ]\n",
      " [5.4        3.9        2.67292333 0.4        0.        ]]\n",
      "Metrics for this fold: {'nrmse': 0.3683, 'col_4_error_rate': 0.28, 'total_error_rate': 0.28, 'clf_aucroc': 0.9924}\n",
      "\n",
      "Fold 2\n",
      "Generated incomplete data with missing values for fold 2:\n",
      "Original data with missing values (subset):\n",
      "[[nan nan nan 0.2 0. ]\n",
      " [4.9 nan 1.4 0.2 nan]\n",
      " [4.7 nan 1.3 nan 0. ]\n",
      " [4.6 3.1 1.5 0.2 0. ]\n",
      " [5.  3.6 1.4 nan 0. ]]\n"
     ]
    },
    {
     "name": "stderr",
     "output_type": "stream",
     "text": [
      "100%|███████████████████████████████████████████| 25/25 [00:01<00:00, 23.34it/s]\n"
     ]
    },
    {
     "name": "stdout",
     "output_type": "stream",
     "text": [
      "Completed imputation for fold 2:\n",
      "X_res with imputed values (subset):\n",
      "[[5.67516947 3.6136992  1.36309814 0.2        0.        ]\n",
      " [4.9        3.73414469 1.4        0.2        0.        ]\n",
      " [4.7        3.5907011  1.3        0.12332743 0.        ]\n",
      " [4.6        3.1        1.5        0.2        0.        ]\n",
      " [5.         3.6        1.4        0.27012599 0.        ]]\n",
      "Metrics for this fold: {'nrmse': 0.4741, 'col_4_error_rate': 0.2308, 'total_error_rate': 0.2308, 'clf_aucroc': 0.9728}\n",
      "\n",
      "Fold 3\n",
      "Generated incomplete data with missing values for fold 3:\n",
      "Original data with missing values (subset):\n",
      "[[5.1 nan nan 0.2 0. ]\n",
      " [4.9 3.  nan 0.2 0. ]\n",
      " [4.7 3.2 1.3 0.2 0. ]\n",
      " [5.  3.6 1.4 0.2 0. ]\n",
      " [4.6 3.4 1.4 nan nan]]\n"
     ]
    },
    {
     "name": "stderr",
     "output_type": "stream",
     "text": [
      "100%|███████████████████████████████████████████| 25/25 [00:00<00:00, 27.63it/s]\n"
     ]
    },
    {
     "name": "stdout",
     "output_type": "stream",
     "text": [
      "Completed imputation for fold 3:\n",
      "X_res with imputed values (subset):\n",
      "[[5.1        2.87859058 3.50134683 0.2        0.        ]\n",
      " [4.9        3.         2.75997519 0.2        0.        ]\n",
      " [4.7        3.2        1.3        0.2        0.        ]\n",
      " [5.         3.6        1.4        0.2        0.        ]\n",
      " [4.6        3.4        1.4        0.2999137  0.        ]]\n",
      "Metrics for this fold: {'nrmse': 0.4014, 'col_4_error_rate': 0.0909, 'total_error_rate': 0.0909, 'clf_aucroc': 1.0}\n",
      "\n",
      "Fold 4\n",
      "Generated incomplete data with missing values for fold 4:\n",
      "Original data with missing values (subset):\n",
      "[[5.1 3.5 1.4 0.2 0. ]\n",
      " [4.9 3.  1.4 nan 0. ]\n",
      " [4.7 3.2 1.3 0.2 0. ]\n",
      " [4.6 3.1 1.5 0.2 nan]\n",
      " [5.4 3.9 1.7 0.4 nan]]\n"
     ]
    },
    {
     "name": "stderr",
     "output_type": "stream",
     "text": [
      "100%|███████████████████████████████████████████| 25/25 [00:01<00:00, 23.90it/s]\n"
     ]
    },
    {
     "name": "stdout",
     "output_type": "stream",
     "text": [
      "Completed imputation for fold 4:\n",
      "X_res with imputed values (subset):\n",
      "[[ 5.1         3.5         1.4         0.2         0.        ]\n",
      " [ 4.9         3.          1.4        -0.52324694  0.        ]\n",
      " [ 4.7         3.2         1.3         0.2         0.        ]\n",
      " [ 4.6         3.1         1.5         0.2         0.        ]\n",
      " [ 5.4         3.9         1.7         0.4         0.        ]]\n",
      "Metrics for this fold: {'nrmse': 0.4506, 'col_4_error_rate': 0.0882, 'total_error_rate': 0.0882, 'clf_aucroc': 0.9962}\n",
      "\n",
      "Fold 5\n",
      "Generated incomplete data with missing values for fold 5:\n",
      "Original data with missing values (subset):\n",
      "[[4.7 3.2 1.3 0.2 0. ]\n",
      " [4.6 3.1 1.5 0.2 0. ]\n",
      " [5.  nan 1.4 0.2 0. ]\n",
      " [5.4 3.9 nan 0.4 0. ]\n",
      " [4.6 nan 1.4 0.3 nan]]\n"
     ]
    },
    {
     "name": "stderr",
     "output_type": "stream",
     "text": [
      "100%|███████████████████████████████████████████| 25/25 [00:01<00:00, 23.45it/s]\n"
     ]
    },
    {
     "name": "stdout",
     "output_type": "stream",
     "text": [
      "Completed imputation for fold 5:\n",
      "X_res with imputed values (subset):\n",
      "[[4.7        3.2        1.3        0.2        0.        ]\n",
      " [4.6        3.1        1.5        0.2        0.        ]\n",
      " [5.         3.46504998 1.4        0.2        0.        ]\n",
      " [5.4        3.9        1.6803509  0.4        0.        ]\n",
      " [4.6        3.0136838  1.4        0.3        0.        ]]\n",
      "Metrics for this fold: {'nrmse': 0.4621, 'col_4_error_rate': 0.375, 'total_error_rate': 0.375, 'clf_aucroc': 0.9778}\n",
      "Average nrmse for 20% missing data: 0.43129999999999996\n",
      "Average col_4_error_rate for 20% missing data: 0.21298\n",
      "Average total_error_rate for 20% missing data: 0.21298\n",
      "Average clf_aucroc for 20% missing data: 0.9878399999999999\n",
      "Completed all iterations\n"
     ]
    }
   ],
   "source": [
    "data_name_lst = ['iris']\n",
    "\n",
    "result_dir = './results_iris'\n",
    "os.makedirs(result_dir)\n",
    "\n",
    "for data_name in data_name_lst:\n",
    "    results = experiment_run(data_name, config, test=True)\n",
    "    results['config'] = config\n",
    "    results['dataset'] = data_name\n",
    "    result_path = os.path.join(result_dir, '{}.json'.format(data_name))\n",
    "    write_json(results, result_path)"
   ]
  },
  {
   "cell_type": "code",
   "execution_count": null,
   "id": "323b0d86",
   "metadata": {},
   "outputs": [],
   "source": [
    "[[5.1 3.5 1.4 0.2 0. ]\n",
    " [4.9 3.  1.4 0.2 0. ]\n",
    " [4.7 3.2 1.3 0.2 0. ]\n",
    " [4.6 3.1 1.5 0.2 0. ]\n",
    " [5.  3.6 1.4 0.2 0. ]\n",
    " [5.4 3.9 1.7 0.4 0. ]\n",
    " [4.6 3.4 1.4 0.3 0. ]\n",
    " [5.  3.4 1.5 0.2 0. ]\n",
    " [4.4 2.9 1.4 0.2 0. ]\n",
    " [4.9 3.1 1.5 0.1 0. ]]"
   ]
  },
  {
   "cell_type": "code",
   "execution_count": 12,
   "id": "d381a2ae",
   "metadata": {},
   "outputs": [
    {
     "name": "stdout",
     "output_type": "stream",
     "text": [
      "[[5.1 3.5 1.4 0.2 0. ]\n",
      " [4.9 3.  1.4 0.2 0. ]\n",
      " [4.7 3.2 1.3 0.2 0. ]\n",
      " [4.6 3.1 1.5 0.2 0. ]\n",
      " [5.  3.6 1.4 0.2 0. ]\n",
      " [5.4 3.9 1.7 0.4 0. ]\n",
      " [4.6 3.4 1.4 0.3 0. ]\n",
      " [5.  3.4 1.5 0.2 0. ]\n",
      " [4.4 2.9 1.4 0.2 0. ]\n",
      " [4.9 3.1 1.5 0.1 0. ]]\n"
     ]
    }
   ],
   "source": [
    "from sklearn.datasets import load_iris\n",
    "import numpy as np\n",
    "\n",
    "# Load the Iris dataset\n",
    "iris = load_iris()\n",
    "X, y = iris.data, iris.target\n",
    "\n",
    "# Combine the features and target labels into one array for display\n",
    "X_origin = np.concatenate([X, y.reshape(-1, 1)], axis=1)\n",
    "\n",
    "# Display the first 5 rows of the combined dataset\n",
    "print(X_origin[:10, :])\n"
   ]
  },
  {
   "cell_type": "code",
   "execution_count": null,
   "id": "0b19a48b",
   "metadata": {},
   "outputs": [],
   "source": []
  }
 ],
 "metadata": {
  "kernelspec": {
   "display_name": "Python 3 (ipykernel)",
   "language": "python",
   "name": "python3"
  },
  "language_info": {
   "codemirror_mode": {
    "name": "ipython",
    "version": 3
   },
   "file_extension": ".py",
   "mimetype": "text/x-python",
   "name": "python",
   "nbconvert_exporter": "python",
   "pygments_lexer": "ipython3",
   "version": "3.10.9"
  }
 },
 "nbformat": 4,
 "nbformat_minor": 5
}
