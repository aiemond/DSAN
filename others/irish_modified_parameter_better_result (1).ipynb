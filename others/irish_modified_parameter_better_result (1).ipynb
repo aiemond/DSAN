{
 "cells": [
  {
   "cell_type": "code",
   "execution_count": 13,
   "id": "24a0ccea",
   "metadata": {},
   "outputs": [
    {
     "name": "stdout",
     "output_type": "stream",
     "text": [
      "zsh:1: command not found: nvidia-smi\r\n"
     ]
    }
   ],
   "source": [
    "!nvidia-smi"
   ]
  },
  {
   "cell_type": "code",
   "execution_count": 14,
   "id": "c98c8440",
   "metadata": {},
   "outputs": [
    {
     "name": "stdout",
     "output_type": "stream",
     "text": [
      "Requirement already satisfied: missingpy in /Users/emondemoniac/anaconda3/lib/python3.10/site-packages (0.2.0)\r\n"
     ]
    }
   ],
   "source": [
    "!pip install missingpy"
   ]
  },
  {
   "cell_type": "code",
   "execution_count": 15,
   "id": "a6d450d1",
   "metadata": {},
   "outputs": [],
   "source": [
    "import pandas as pd\n",
    "import numpy as np\n",
    "import matplotlib.pyplot as plt\n",
    "import seaborn as sns\n",
    "from sklearn.metrics import roc_auc_score\n",
    "import math"
   ]
  },
  {
   "cell_type": "code",
   "execution_count": 16,
   "id": "ccd8278a",
   "metadata": {},
   "outputs": [],
   "source": [
    "import sklearn.neighbors._base\n",
    "sys.modules['sklearn.neighbors.base'] = sklearn.neighbors._base"
   ]
  },
  {
   "cell_type": "code",
   "execution_count": 17,
   "id": "52783fac",
   "metadata": {},
   "outputs": [],
   "source": [
    "import sys\n",
    "import numpy as np\n",
    "import pandas as pd\n",
    "\n",
    "from missingpy import MissForest\n",
    "from dsan import Imputer as DSANImputer\n",
    "from utils import *\n",
    "\n",
    "import warnings\n",
    "warnings.filterwarnings('ignore')"
   ]
  },
  {
   "cell_type": "code",
   "execution_count": 37,
   "id": "bcca8afb",
   "metadata": {},
   "outputs": [],
   "source": [
    "seed = 32\n",
    "set_seed(seed)"
   ]
  },
  {
   "cell_type": "code",
   "execution_count": 38,
   "id": "e89794b8",
   "metadata": {},
   "outputs": [],
   "source": [
    "def get_imputer(config):\n",
    "    \n",
    "    model = config['model']\n",
    "    \n",
    "    if model == 'DSAN':\n",
    "        imputer = DSANImputer(rep_dim=config['rep_dim'],\n",
    "                num_heads=config['num_heads'],\n",
    "                n_hidden=config['n_hidden'],\n",
    "                lr=config['lr'],\n",
    "                weight_decay=config['weight_decay'],\n",
    "                batch_size=config['batch_size'],\n",
    "                epochs=config['epochs'],\n",
    "                noise_percent=config['noise_percent'],\n",
    "                stopped_epoch=config['stopped_epoch'])\n",
    "    \n",
    "    elif model == 'MissForest':\n",
    "        imputer = MissForest(random_state=0)\n",
    "        \n",
    "    elif model == 'Statistics':\n",
    "        imputer = None\n",
    "        \n",
    "    return imputer"
   ]
  },
  {
   "cell_type": "code",
   "execution_count": 44,
   "id": "b575cd25",
   "metadata": {},
   "outputs": [],
   "source": [
    "def experiment_run(data_name, config, test=False):\n",
    "    # Retrieve dataset\n",
    "    dataset = get_data(data_name)\n",
    "    print(f\"Retrieved dataset for {data_name}\")\n",
    "\n",
    "    # Limit to 1000 samples if test flag is true\n",
    "    if test:\n",
    "        dataset = (dataset[0][:1000], dataset[1], dataset[2], dataset[3])\n",
    "        print(\"Limited dataset to 1000 samples for testing\")\n",
    "\n",
    "    k = 5\n",
    "    percent_missing_lst = [p for p in range(5, 25, 5)]\n",
    "    X_origin, n_col, num_vars, cat_vars = dataset\n",
    "\n",
    "   # Apply category mapping\n",
    "    X_origin = category_mapping(X_origin, cat_vars)\n",
    "    print(\"Applied category mapping\")\n",
    "\n",
    "    # Check if X_origin is modified in-place or replaced\n",
    "    if X_origin is not None:\n",
    "        print(\"X_origin is replaced with a new version where categorical variables have been mapped to numerical values.\")\n",
    "    else:\n",
    "        print(\"X_origin is modified in-place, with categorical variables mapped to numerical values.\")\n",
    "\n",
    "    # Print data size\n",
    "    print(\"Data Size: {}\".format(X_origin.shape))\n",
    "\n",
    "\n",
    "    n_sample = X_origin.shape[0]\n",
    "    idx_lst = list(range(n_sample))\n",
    "    np.random.shuffle(idx_lst)\n",
    "\n",
    "    # k-fold validation setup\n",
    "    n_valid = len(idx_lst) // k\n",
    "    print(f\"Starting k-fold validation with k={k}\")\n",
    "\n",
    "    results = {}\n",
    "    for percent_missing in percent_missing_lst:\n",
    "        result = []\n",
    "        print(f\"\\nProcessing {percent_missing}% missing data\")\n",
    "\n",
    "        for it, n in enumerate(range(0, n_sample, n_valid)):\n",
    "            print(f\"\\nFold {it + 1}\")\n",
    "            valid_idx = idx_lst[n: n+n_valid]\n",
    "\n",
    "            if len(valid_idx) < n_valid:\n",
    "                print(\"Insufficient data for validation, breaking loop\")\n",
    "                break\n",
    "\n",
    "            train_idx = list(set(idx_lst) - set(valid_idx))\n",
    "            X = X_origin[train_idx, :]\n",
    "            X_test = X_origin[valid_idx, :]\n",
    "\n",
    "            # Generating incomplete data\n",
    "            missing_mask = generate_missing_mask(X, percent_missing=percent_missing)\n",
    "            X_incomplete = X.copy()\n",
    "            X_incomplete[missing_mask] = np.nan\n",
    "            print(\"Generated incomplete data with missing values for fold {}:\".format(it+1))\n",
    "            print(\"Original data with missing values (subset):\")\n",
    "            print(X_incomplete[:5])  # Adjust the number of rows as needed\n",
    "\n",
    "            # Imputation\n",
    "            imputer = get_imputer(config)\n",
    "            X_imputed = imputer.fit_transform(X_incomplete, cat_vars=cat_vars)\n",
    "            print(\"Completed imputation for fold {}:\".format(it+1))\n",
    "\n",
    "            X_res = X.copy()\n",
    "            X_res[missing_mask] = X_imputed[missing_mask]\n",
    "            print(\"X_res with imputed values (subset):\")\n",
    "            print(X_res[:5])  # Adjust the number of rows as needed\n",
    "\n",
    "            # Calculate metrics\n",
    "            metric = cal_metric_numpy(X_res, X, missing_mask, num_vars, cat_vars)\n",
    "            score = ex_classify(data_name=data_name, train_array=X_res, test_array=X_test, num_vars=num_vars, cat_vars=cat_vars)\n",
    "            \n",
    "            metric['clf_aucroc'] = round(score, 4)\n",
    "            result.append(metric)\n",
    "            print(\"Metrics for this fold:\", metric)\n",
    "\n",
    "        # Average results\n",
    "        avg_result = dict()\n",
    "        for key in result[0].keys():\n",
    "            value = np.mean([m[key] for m in result])\n",
    "            avg_result[key] = value \n",
    "            print(f\"Average {key} for {percent_missing}% missing data: {value}\")\n",
    "\n",
    "        results[percent_missing] = avg_result\n",
    "\n",
    "    print(\"Completed all iterations\")\n",
    "    return results\n"
   ]
  },
  {
   "cell_type": "code",
   "execution_count": 45,
   "id": "99bd3b19",
   "metadata": {},
   "outputs": [],
   "source": [
    "config = {\n",
    "    'model': 'DSAN',\n",
    "    'rep_dim': 32,\n",
    "    'num_heads': 4,\n",
    "    'n_hidden': 2,\n",
    "    'lr': 3e-2,\n",
    "    'weight_decay': 1e-5,\n",
    "    'batch_size': 32,\n",
    "    'epochs': 34,\n",
    "    'noise_percent': 15,\n",
    "    'stopped_epoch': 15\n",
    "}"
   ]
  },
  {
   "cell_type": "code",
   "execution_count": 46,
   "id": "fbda9174",
   "metadata": {},
   "outputs": [
    {
     "name": "stdout",
     "output_type": "stream",
     "text": [
      "Retrieved dataset for iris\n",
      "Limited dataset to 1000 samples for testing\n",
      "Applied category mapping\n",
      "X_origin is replaced with a new version where categorical variables have been mapped to numerical values.\n",
      "Data Size: (150, 5)\n",
      "Starting k-fold validation with k=5\n",
      "\n",
      "Processing 5% missing data\n",
      "\n",
      "Fold 1\n",
      "Generated incomplete data with missing values for fold 1:\n",
      "Original data with missing values (subset):\n",
      "[[5.1 3.5 1.4 0.2 0. ]\n",
      " [4.9 3.  1.4 0.2 0. ]\n",
      " [4.7 3.2 1.3 0.2 0. ]\n",
      " [4.6 3.1 1.5 0.2 0. ]\n",
      " [5.  3.6 1.4 0.2 0. ]]\n"
     ]
    },
    {
     "name": "stderr",
     "output_type": "stream",
     "text": [
      "100%|███████████████████████████████████████████| 34/34 [00:03<00:00,  8.51it/s]\n"
     ]
    },
    {
     "name": "stdout",
     "output_type": "stream",
     "text": [
      "Completed imputation for fold 1:\n",
      "X_res with imputed values (subset):\n",
      "[[5.1 3.5 1.4 0.2 0. ]\n",
      " [4.9 3.  1.4 0.2 0. ]\n",
      " [4.7 3.2 1.3 0.2 0. ]\n",
      " [4.6 3.1 1.5 0.2 0. ]\n",
      " [5.  3.6 1.4 0.2 0. ]]\n",
      "Metrics for this fold: {'nrmse': 0.3729, 'col_4_error_rate': 0.0, 'total_error_rate': 0.0, 'clf_aucroc': 0.9969}\n",
      "\n",
      "Fold 2\n",
      "Generated incomplete data with missing values for fold 2:\n",
      "Original data with missing values (subset):\n",
      "[[5.1 3.5 1.4 0.2 0. ]\n",
      " [4.6 3.1 1.5 0.2 0. ]\n",
      " [5.  3.6 1.4 0.2 0. ]\n",
      " [5.4 3.9 1.7 0.4 nan]\n",
      " [4.6 3.4 1.4 0.3 0. ]]\n"
     ]
    },
    {
     "name": "stderr",
     "output_type": "stream",
     "text": [
      "100%|███████████████████████████████████████████| 34/34 [00:02<00:00, 12.74it/s]\n"
     ]
    },
    {
     "name": "stdout",
     "output_type": "stream",
     "text": [
      "Completed imputation for fold 2:\n",
      "X_res with imputed values (subset):\n",
      "[[5.1 3.5 1.4 0.2 0. ]\n",
      " [4.6 3.1 1.5 0.2 0. ]\n",
      " [5.  3.6 1.4 0.2 0. ]\n",
      " [5.4 3.9 1.7 0.4 0. ]\n",
      " [4.6 3.4 1.4 0.3 0. ]]\n",
      "Metrics for this fold: {'nrmse': 0.234, 'col_4_error_rate': 0.2, 'total_error_rate': 0.2, 'clf_aucroc': 1.0}\n",
      "\n",
      "Fold 3\n",
      "Generated incomplete data with missing values for fold 3:\n",
      "Original data with missing values (subset):\n",
      "[[5.1 3.5 1.4 0.2 0. ]\n",
      " [nan 3.  1.4 0.2 0. ]\n",
      " [4.7 3.2 1.3 0.2 nan]\n",
      " [4.6 3.1 1.5 0.2 0. ]\n",
      " [5.  3.6 1.4 0.2 0. ]]\n"
     ]
    },
    {
     "name": "stderr",
     "output_type": "stream",
     "text": [
      "100%|███████████████████████████████████████████| 34/34 [00:03<00:00, 11.30it/s]\n"
     ]
    },
    {
     "name": "stdout",
     "output_type": "stream",
     "text": [
      "Completed imputation for fold 3:\n",
      "X_res with imputed values (subset):\n",
      "[[5.1        3.5        1.4        0.2        0.        ]\n",
      " [5.20267582 3.         1.4        0.2        0.        ]\n",
      " [4.7        3.2        1.3        0.2        0.        ]\n",
      " [4.6        3.1        1.5        0.2        0.        ]\n",
      " [5.         3.6        1.4        0.2        0.        ]]\n",
      "Metrics for this fold: {'nrmse': 0.3371, 'col_4_error_rate': 0.125, 'total_error_rate': 0.125, 'clf_aucroc': 1.0}\n",
      "\n",
      "Fold 4\n",
      "Generated incomplete data with missing values for fold 4:\n",
      "Original data with missing values (subset):\n",
      "[[4.9 3.  1.4 0.2 0. ]\n",
      " [4.7 3.2 1.3 0.2 0. ]\n",
      " [5.  3.6 1.4 0.2 0. ]\n",
      " [5.4 3.9 1.7 0.4 0. ]\n",
      " [4.6 nan 1.4 0.3 0. ]]\n"
     ]
    },
    {
     "name": "stderr",
     "output_type": "stream",
     "text": [
      "100%|███████████████████████████████████████████| 34/34 [00:03<00:00, 10.65it/s]\n"
     ]
    },
    {
     "name": "stdout",
     "output_type": "stream",
     "text": [
      "Completed imputation for fold 4:\n",
      "X_res with imputed values (subset):\n",
      "[[4.9        3.         1.4        0.2        0.        ]\n",
      " [4.7        3.2        1.3        0.2        0.        ]\n",
      " [5.         3.6        1.4        0.2        0.        ]\n",
      " [5.4        3.9        1.7        0.4        0.        ]\n",
      " [4.6        2.81255436 1.4        0.3        0.        ]]\n",
      "Metrics for this fold: {'nrmse': 0.209, 'col_4_error_rate': 0.0, 'total_error_rate': 0.0, 'clf_aucroc': 1.0}\n",
      "\n",
      "Fold 5\n",
      "Generated incomplete data with missing values for fold 5:\n",
      "Original data with missing values (subset):\n",
      "[[5.1 3.5 1.4 0.2 0. ]\n",
      " [4.9 3.  1.4 nan 0. ]\n",
      " [4.7 3.2 1.3 0.2 0. ]\n",
      " [4.6 3.1 1.5 0.2 0. ]\n",
      " [4.6 nan 1.4 0.3 0. ]]\n"
     ]
    },
    {
     "name": "stderr",
     "output_type": "stream",
     "text": [
      "100%|███████████████████████████████████████████| 34/34 [00:03<00:00, 10.07it/s]\n"
     ]
    },
    {
     "name": "stdout",
     "output_type": "stream",
     "text": [
      "Completed imputation for fold 5:\n",
      "X_res with imputed values (subset):\n",
      "[[5.1        3.5        1.4        0.2        0.        ]\n",
      " [4.9        3.         1.4        0.00892146 0.        ]\n",
      " [4.7        3.2        1.3        0.2        0.        ]\n",
      " [4.6        3.1        1.5        0.2        0.        ]\n",
      " [4.6        2.9321053  1.4        0.3        0.        ]]\n",
      "Metrics for this fold: {'nrmse': 0.2334, 'col_4_error_rate': 0.3, 'total_error_rate': 0.3, 'clf_aucroc': 1.0}\n",
      "Average nrmse for 5% missing data: 0.27728\n",
      "Average col_4_error_rate for 5% missing data: 0.125\n",
      "Average total_error_rate for 5% missing data: 0.125\n",
      "Average clf_aucroc for 5% missing data: 0.99938\n",
      "\n",
      "Processing 10% missing data\n",
      "\n",
      "Fold 1\n",
      "Generated incomplete data with missing values for fold 1:\n",
      "Original data with missing values (subset):\n",
      "[[nan 3.5 1.4 0.2 0. ]\n",
      " [4.9 3.  1.4 0.2 0. ]\n",
      " [4.7 3.2 1.3 0.2 nan]\n",
      " [4.6 3.1 1.5 0.2 0. ]\n",
      " [5.  3.6 1.4 0.2 0. ]]\n"
     ]
    },
    {
     "name": "stderr",
     "output_type": "stream",
     "text": [
      "100%|███████████████████████████████████████████| 34/34 [00:03<00:00,  9.47it/s]\n"
     ]
    },
    {
     "name": "stdout",
     "output_type": "stream",
     "text": [
      "Completed imputation for fold 1:\n",
      "X_res with imputed values (subset):\n",
      "[[5.40544176 3.5        1.4        0.2        0.        ]\n",
      " [4.9        3.         1.4        0.2        0.        ]\n",
      " [4.7        3.2        1.3        0.2        0.        ]\n",
      " [4.6        3.1        1.5        0.2        0.        ]\n",
      " [5.         3.6        1.4        0.2        0.        ]]\n",
      "Metrics for this fold: {'nrmse': 0.267, 'col_4_error_rate': 0.0909, 'total_error_rate': 0.0909, 'clf_aucroc': 0.9907}\n",
      "\n",
      "Fold 2\n",
      "Generated incomplete data with missing values for fold 2:\n",
      "Original data with missing values (subset):\n",
      "[[5.1 3.5 1.4 0.2 0. ]\n",
      " [4.6 3.1 1.5 nan 0. ]\n",
      " [5.  3.6 nan 0.2 0. ]\n",
      " [5.4 3.9 1.7 0.4 0. ]\n",
      " [4.6 3.4 1.4 0.3 0. ]]\n"
     ]
    },
    {
     "name": "stderr",
     "output_type": "stream",
     "text": [
      "100%|███████████████████████████████████████████| 34/34 [00:02<00:00, 11.77it/s]\n"
     ]
    },
    {
     "name": "stdout",
     "output_type": "stream",
     "text": [
      "Completed imputation for fold 2:\n",
      "X_res with imputed values (subset):\n",
      "[[5.1        3.5        1.4        0.2        0.        ]\n",
      " [4.6        3.1        1.5        0.34106478 0.        ]\n",
      " [5.         3.6        2.28507829 0.2        0.        ]\n",
      " [5.4        3.9        1.7        0.4        0.        ]\n",
      " [4.6        3.4        1.4        0.3        0.        ]]\n",
      "Metrics for this fold: {'nrmse': 0.3329, 'col_4_error_rate': 0.2, 'total_error_rate': 0.2, 'clf_aucroc': 0.9944}\n",
      "\n",
      "Fold 3\n",
      "Generated incomplete data with missing values for fold 3:\n",
      "Original data with missing values (subset):\n",
      "[[5.1 3.5 1.4 0.2 0. ]\n",
      " [4.9 3.  1.4 0.2 0. ]\n",
      " [nan 3.2 1.3 0.2 nan]\n",
      " [4.6 3.1 1.5 0.2 0. ]\n",
      " [5.  3.6 1.4 0.2 0. ]]\n"
     ]
    },
    {
     "name": "stderr",
     "output_type": "stream",
     "text": [
      "100%|███████████████████████████████████████████| 34/34 [00:04<00:00,  8.20it/s]\n"
     ]
    },
    {
     "name": "stdout",
     "output_type": "stream",
     "text": [
      "Completed imputation for fold 3:\n",
      "X_res with imputed values (subset):\n",
      "[[5.1        3.5        1.4        0.2        0.        ]\n",
      " [4.9        3.         1.4        0.2        0.        ]\n",
      " [5.85925531 3.2        1.3        0.2        1.        ]\n",
      " [4.6        3.1        1.5        0.2        0.        ]\n",
      " [5.         3.6        1.4        0.2        0.        ]]\n",
      "Metrics for this fold: {'nrmse': 0.2768, 'col_4_error_rate': 0.2353, 'total_error_rate': 0.2353, 'clf_aucroc': 0.9897}\n",
      "\n",
      "Fold 4\n",
      "Generated incomplete data with missing values for fold 4:\n",
      "Original data with missing values (subset):\n",
      "[[4.9 3.  1.4 0.2 0. ]\n",
      " [4.7 nan 1.3 0.2 nan]\n",
      " [5.  3.6 1.4 0.2 nan]\n",
      " [5.4 3.9 1.7 0.4 0. ]\n",
      " [4.6 3.4 1.4 0.3 0. ]]\n"
     ]
    },
    {
     "name": "stderr",
     "output_type": "stream",
     "text": [
      "100%|███████████████████████████████████████████| 34/34 [00:03<00:00,  9.59it/s]\n"
     ]
    },
    {
     "name": "stdout",
     "output_type": "stream",
     "text": [
      "Completed imputation for fold 4:\n",
      "X_res with imputed values (subset):\n",
      "[[4.9        3.         1.4        0.2        0.        ]\n",
      " [4.7        3.12165308 1.3        0.2        0.        ]\n",
      " [5.         3.6        1.4        0.2        0.        ]\n",
      " [5.4        3.9        1.7        0.4        0.        ]\n",
      " [4.6        3.4        1.4        0.3        0.        ]]\n",
      "Metrics for this fold: {'nrmse': 0.1943, 'col_4_error_rate': 0.0909, 'total_error_rate': 0.0909, 'clf_aucroc': 0.997}\n",
      "\n",
      "Fold 5\n",
      "Generated incomplete data with missing values for fold 5:\n",
      "Original data with missing values (subset):\n",
      "[[5.1 nan nan 0.2 0. ]\n",
      " [4.9 3.  1.4 0.2 0. ]\n",
      " [4.7 3.2 nan 0.2 0. ]\n",
      " [4.6 3.1 1.5 0.2 0. ]\n",
      " [nan 3.4 1.4 0.3 0. ]]\n"
     ]
    },
    {
     "name": "stderr",
     "output_type": "stream",
     "text": [
      "100%|███████████████████████████████████████████| 34/34 [00:03<00:00,  9.41it/s]\n"
     ]
    },
    {
     "name": "stdout",
     "output_type": "stream",
     "text": [
      "Completed imputation for fold 5:\n",
      "X_res with imputed values (subset):\n",
      "[[5.1        2.91372132 2.0571053  0.2        0.        ]\n",
      " [4.9        3.         1.4        0.2        0.        ]\n",
      " [4.7        3.2        2.10325599 0.2        0.        ]\n",
      " [4.6        3.1        1.5        0.2        0.        ]\n",
      " [5.60389042 3.4        1.4        0.3        0.        ]]\n",
      "Metrics for this fold: {'nrmse': 0.3452, 'col_4_error_rate': 0.1429, 'total_error_rate': 0.1429, 'clf_aucroc': 0.9985}\n",
      "Average nrmse for 10% missing data: 0.28324\n",
      "Average col_4_error_rate for 10% missing data: 0.152\n",
      "Average total_error_rate for 10% missing data: 0.152\n",
      "Average clf_aucroc for 10% missing data: 0.9940599999999999\n",
      "\n",
      "Processing 15% missing data\n",
      "\n",
      "Fold 1\n",
      "Generated incomplete data with missing values for fold 1:\n",
      "Original data with missing values (subset):\n",
      "[[5.1 3.5 1.4 0.2 0. ]\n",
      " [4.9 3.  1.4 0.2 0. ]\n",
      " [nan 3.2 1.3 nan 0. ]\n",
      " [4.6 3.1 1.5 0.2 0. ]\n",
      " [5.  nan 1.4 0.2 0. ]]\n"
     ]
    },
    {
     "name": "stderr",
     "output_type": "stream",
     "text": [
      "100%|███████████████████████████████████████████| 34/34 [00:03<00:00,  9.43it/s]\n"
     ]
    },
    {
     "name": "stdout",
     "output_type": "stream",
     "text": [
      "Completed imputation for fold 1:\n",
      "X_res with imputed values (subset):\n",
      "[[5.1        3.5        1.4        0.2        0.        ]\n",
      " [4.9        3.         1.4        0.2        0.        ]\n",
      " [4.96710825 3.2        1.3        0.30862203 0.        ]\n",
      " [4.6        3.1        1.5        0.2        0.        ]\n",
      " [5.         3.35102272 1.4        0.2        0.        ]]\n",
      "Metrics for this fold: {'nrmse': 0.3339, 'col_4_error_rate': 0.1818, 'total_error_rate': 0.1818, 'clf_aucroc': 0.9969}\n",
      "\n",
      "Fold 2\n",
      "Generated incomplete data with missing values for fold 2:\n",
      "Original data with missing values (subset):\n",
      "[[5.1 3.5 1.4 0.2 0. ]\n",
      " [4.6 3.1 1.5 0.2 0. ]\n",
      " [nan 3.6 1.4 0.2 0. ]\n",
      " [5.4 3.9 1.7 0.4 0. ]\n",
      " [4.6 3.4 1.4 nan 0. ]]\n"
     ]
    },
    {
     "name": "stderr",
     "output_type": "stream",
     "text": [
      "100%|███████████████████████████████████████████| 34/34 [00:03<00:00, 10.77it/s]\n"
     ]
    },
    {
     "name": "stdout",
     "output_type": "stream",
     "text": [
      "Completed imputation for fold 2:\n",
      "X_res with imputed values (subset):\n",
      "[[5.1        3.5        1.4        0.2        0.        ]\n",
      " [4.6        3.1        1.5        0.2        0.        ]\n",
      " [5.34998035 3.6        1.4        0.2        0.        ]\n",
      " [5.4        3.9        1.7        0.4        0.        ]\n",
      " [4.6        3.4        1.4        0.19533242 0.        ]]\n",
      "Metrics for this fold: {'nrmse': 0.2747, 'col_4_error_rate': 0.5333, 'total_error_rate': 0.5333, 'clf_aucroc': 0.9957}\n",
      "\n",
      "Fold 3\n",
      "Generated incomplete data with missing values for fold 3:\n",
      "Original data with missing values (subset):\n",
      "[[5.1 3.5 1.4 0.2 0. ]\n",
      " [4.9 nan 1.4 0.2 0. ]\n",
      " [4.7 nan 1.3 0.2 0. ]\n",
      " [4.6 3.1 1.5 0.2 nan]\n",
      " [5.  3.6 1.4 0.2 nan]]\n"
     ]
    },
    {
     "name": "stderr",
     "output_type": "stream",
     "text": [
      "100%|███████████████████████████████████████████| 34/34 [00:04<00:00,  8.48it/s]\n"
     ]
    },
    {
     "name": "stdout",
     "output_type": "stream",
     "text": [
      "Completed imputation for fold 3:\n",
      "X_res with imputed values (subset):\n",
      "[[5.1        3.5        1.4        0.2        0.        ]\n",
      " [4.9        3.01348567 1.4        0.2        0.        ]\n",
      " [4.7        3.09403157 1.3        0.2        0.        ]\n",
      " [4.6        3.1        1.5        0.2        0.        ]\n",
      " [5.         3.6        1.4        0.2        0.        ]]\n",
      "Metrics for this fold: {'nrmse': 0.2777, 'col_4_error_rate': 0.15, 'total_error_rate': 0.15, 'clf_aucroc': 0.9897}\n",
      "\n",
      "Fold 4\n",
      "Generated incomplete data with missing values for fold 4:\n",
      "Original data with missing values (subset):\n",
      "[[4.9 3.  1.4 0.2 0. ]\n",
      " [4.7 nan 1.3 0.2 nan]\n",
      " [5.  3.6 1.4 0.2 0. ]\n",
      " [5.4 nan 1.7 0.4 0. ]\n",
      " [4.6 3.4 1.4 0.3 0. ]]\n"
     ]
    },
    {
     "name": "stderr",
     "output_type": "stream",
     "text": [
      "100%|███████████████████████████████████████████| 34/34 [00:03<00:00,  9.81it/s]\n"
     ]
    },
    {
     "name": "stdout",
     "output_type": "stream",
     "text": [
      "Completed imputation for fold 4:\n",
      "X_res with imputed values (subset):\n",
      "[[4.9        3.         1.4        0.2        0.        ]\n",
      " [4.7        3.19508028 1.3        0.2        0.        ]\n",
      " [5.         3.6        1.4        0.2        0.        ]\n",
      " [5.4        3.22833371 1.7        0.4        0.        ]\n",
      " [4.6        3.4        1.4        0.3        0.        ]]\n",
      "Metrics for this fold: {'nrmse': 0.3893, 'col_4_error_rate': 0.0667, 'total_error_rate': 0.0667, 'clf_aucroc': 1.0}\n",
      "\n",
      "Fold 5\n",
      "Generated incomplete data with missing values for fold 5:\n",
      "Original data with missing values (subset):\n",
      "[[5.1 3.5 1.4 0.2 0. ]\n",
      " [4.9 3.  1.4 0.2 nan]\n",
      " [4.7 3.2 1.3 nan 0. ]\n",
      " [4.6 3.1 1.5 0.2 nan]\n",
      " [4.6 3.4 1.4 0.3 0. ]]\n"
     ]
    },
    {
     "name": "stderr",
     "output_type": "stream",
     "text": [
      "100%|███████████████████████████████████████████| 34/34 [00:04<00:00,  6.81it/s]\n"
     ]
    },
    {
     "name": "stdout",
     "output_type": "stream",
     "text": [
      "Completed imputation for fold 5:\n",
      "X_res with imputed values (subset):\n",
      "[[ 5.1         3.5         1.4         0.2         0.        ]\n",
      " [ 4.9         3.          1.4         0.2         0.        ]\n",
      " [ 4.7         3.2         1.3        -0.19014129  0.        ]\n",
      " [ 4.6         3.1         1.5         0.2         0.        ]\n",
      " [ 4.6         3.4         1.4         0.3         0.        ]]\n",
      "Metrics for this fold: {'nrmse': 0.4038, 'col_4_error_rate': 0.1053, 'total_error_rate': 0.1053, 'clf_aucroc': 1.0}\n",
      "Average nrmse for 15% missing data: 0.33588\n",
      "Average col_4_error_rate for 15% missing data: 0.20742\n",
      "Average total_error_rate for 15% missing data: 0.20742\n",
      "Average clf_aucroc for 15% missing data: 0.9964600000000001\n",
      "\n",
      "Processing 20% missing data\n",
      "\n",
      "Fold 1\n",
      "Generated incomplete data with missing values for fold 1:\n",
      "Original data with missing values (subset):\n",
      "[[5.1 3.5 1.4 0.2 0. ]\n",
      " [4.9 3.  1.4 nan 0. ]\n",
      " [4.7 3.2 1.3 0.2 nan]\n",
      " [4.6 3.1 1.5 0.2 0. ]\n",
      " [5.  nan 1.4 0.2 0. ]]\n"
     ]
    },
    {
     "name": "stderr",
     "output_type": "stream",
     "text": [
      "100%|███████████████████████████████████████████| 34/34 [00:03<00:00, 10.12it/s]\n"
     ]
    },
    {
     "name": "stdout",
     "output_type": "stream",
     "text": [
      "Completed imputation for fold 1:\n",
      "X_res with imputed values (subset):\n",
      "[[5.1        3.5        1.4        0.2        0.        ]\n",
      " [4.9        3.         1.4        0.39865521 0.        ]\n",
      " [4.7        3.2        1.3        0.2        0.        ]\n",
      " [4.6        3.1        1.5        0.2        0.        ]\n",
      " [5.         3.31161857 1.4        0.2        0.        ]]\n",
      "Metrics for this fold: {'nrmse': 0.516, 'col_4_error_rate': 0.16, 'total_error_rate': 0.16, 'clf_aucroc': 1.0}\n",
      "\n",
      "Fold 2\n",
      "Generated incomplete data with missing values for fold 2:\n",
      "Original data with missing values (subset):\n",
      "[[5.1 3.5 1.4 nan 0. ]\n",
      " [4.6 3.1 1.5 nan 0. ]\n",
      " [nan nan 1.4 0.2 0. ]\n",
      " [5.4 nan nan 0.4 0. ]\n",
      " [4.6 nan 1.4 0.3 0. ]]\n"
     ]
    },
    {
     "name": "stderr",
     "output_type": "stream",
     "text": [
      "100%|███████████████████████████████████████████| 34/34 [00:03<00:00,  9.25it/s]\n"
     ]
    },
    {
     "name": "stdout",
     "output_type": "stream",
     "text": [
      "Completed imputation for fold 2:\n",
      "X_res with imputed values (subset):\n",
      "[[5.1        3.5        1.4        0.36513245 0.        ]\n",
      " [4.6        3.1        1.5        0.09019958 0.        ]\n",
      " [5.56800795 3.26151705 1.4        0.2        0.        ]\n",
      " [5.4        3.16853523 1.56374443 0.4        0.        ]\n",
      " [4.6        3.18802977 1.4        0.3        0.        ]]\n",
      "Metrics for this fold: {'nrmse': 0.3655, 'col_4_error_rate': 0.12, 'total_error_rate': 0.12, 'clf_aucroc': 0.9957}\n",
      "\n",
      "Fold 3\n",
      "Generated incomplete data with missing values for fold 3:\n",
      "Original data with missing values (subset):\n",
      "[[nan 3.5 1.4 0.2 nan]\n",
      " [4.9 3.  1.4 0.2 0. ]\n",
      " [4.7 3.2 1.3 0.2 nan]\n",
      " [4.6 3.1 1.5 nan 0. ]\n",
      " [5.  3.6 1.4 0.2 0. ]]\n"
     ]
    },
    {
     "name": "stderr",
     "output_type": "stream",
     "text": [
      "100%|███████████████████████████████████████████| 34/34 [00:03<00:00,  9.47it/s]\n"
     ]
    },
    {
     "name": "stdout",
     "output_type": "stream",
     "text": [
      "Completed imputation for fold 3:\n",
      "X_res with imputed values (subset):\n",
      "[[5.58920479 3.5        1.4        0.2        0.        ]\n",
      " [4.9        3.         1.4        0.2        0.        ]\n",
      " [4.7        3.2        1.3        0.2        0.        ]\n",
      " [4.6        3.1        1.5        0.03810065 0.        ]\n",
      " [5.         3.6        1.4        0.2        0.        ]]\n",
      "Metrics for this fold: {'nrmse': 0.2709, 'col_4_error_rate': 0.12, 'total_error_rate': 0.12, 'clf_aucroc': 0.9897}\n",
      "\n",
      "Fold 4\n",
      "Generated incomplete data with missing values for fold 4:\n",
      "Original data with missing values (subset):\n",
      "[[4.9 3.  1.4 0.2 0. ]\n",
      " [4.7 3.2 1.3 0.2 0. ]\n",
      " [5.  3.6 nan 0.2 0. ]\n",
      " [5.4 3.9 1.7 0.4 nan]\n",
      " [4.6 3.4 nan 0.3 nan]]\n"
     ]
    },
    {
     "name": "stderr",
     "output_type": "stream",
     "text": [
      "100%|███████████████████████████████████████████| 34/34 [00:03<00:00,  9.70it/s]\n"
     ]
    },
    {
     "name": "stdout",
     "output_type": "stream",
     "text": [
      "Completed imputation for fold 4:\n",
      "X_res with imputed values (subset):\n",
      "[[4.9        3.         1.4        0.2        0.        ]\n",
      " [4.7        3.2        1.3        0.2        0.        ]\n",
      " [5.         3.6        1.84961939 0.2        0.        ]\n",
      " [5.4        3.9        1.7        0.4        0.        ]\n",
      " [4.6        3.4        2.21190858 0.3        0.        ]]\n",
      "Metrics for this fold: {'nrmse': 0.3211, 'col_4_error_rate': 0.3333, 'total_error_rate': 0.3333, 'clf_aucroc': 1.0}\n",
      "\n",
      "Fold 5\n",
      "Generated incomplete data with missing values for fold 5:\n",
      "Original data with missing values (subset):\n",
      "[[5.1 3.5 1.4 0.2 nan]\n",
      " [4.9 nan nan 0.2 nan]\n",
      " [4.7 3.2 nan 0.2 0. ]\n",
      " [4.6 3.1 1.5 0.2 nan]\n",
      " [4.6 nan nan 0.3 0. ]]\n"
     ]
    },
    {
     "name": "stderr",
     "output_type": "stream",
     "text": [
      "100%|███████████████████████████████████████████| 34/34 [00:03<00:00,  9.75it/s]"
     ]
    },
    {
     "name": "stdout",
     "output_type": "stream",
     "text": [
      "Completed imputation for fold 5:\n",
      "X_res with imputed values (subset):\n",
      "[[5.1        3.5        1.4        0.2        0.        ]\n",
      " [4.9        3.03260398 4.11964464 0.2        0.        ]\n",
      " [4.7        3.2        3.85266042 0.2        0.        ]\n",
      " [4.6        3.1        1.5        0.2        0.        ]\n",
      " [4.6        3.13040543 3.33251834 0.3        0.        ]]\n",
      "Metrics for this fold: {'nrmse': 0.5309, 'col_4_error_rate': 0.3636, 'total_error_rate': 0.3636, 'clf_aucroc': 1.0}\n",
      "Average nrmse for 20% missing data: 0.40088\n",
      "Average col_4_error_rate for 20% missing data: 0.21938\n",
      "Average total_error_rate for 20% missing data: 0.21938\n",
      "Average clf_aucroc for 20% missing data: 0.9970800000000001\n",
      "Completed all iterations\n"
     ]
    },
    {
     "name": "stderr",
     "output_type": "stream",
     "text": [
      "\n"
     ]
    }
   ],
   "source": [
    "data_name_lst = ['iris']\n",
    "\n",
    "result_dir = './results_iris_'\n",
    "os.makedirs(result_dir)\n",
    "\n",
    "for data_name in data_name_lst:\n",
    "    results = experiment_run(data_name, config, test=True)\n",
    "    results['config'] = config\n",
    "    results['dataset'] = data_name\n",
    "    result_path = os.path.join(result_dir, '{}.json'.format(data_name))\n",
    "    write_json(results, result_path)"
   ]
  },
  {
   "cell_type": "code",
   "execution_count": null,
   "id": "323b0d86",
   "metadata": {},
   "outputs": [],
   "source": [
    "[[5.1 3.5 1.4 0.2 0. ]\n",
    " [4.9 3.  1.4 0.2 0. ]\n",
    " [4.7 3.2 1.3 0.2 0. ]\n",
    " [4.6 3.1 1.5 0.2 0. ]\n",
    " [5.  3.6 1.4 0.2 0. ]\n",
    " [5.4 3.9 1.7 0.4 0. ]\n",
    " [4.6 3.4 1.4 0.3 0. ]\n",
    " [5.  3.4 1.5 0.2 0. ]\n",
    " [4.4 2.9 1.4 0.2 0. ]\n",
    " [4.9 3.1 1.5 0.1 0. ]]"
   ]
  },
  {
   "cell_type": "code",
   "execution_count": 12,
   "id": "d381a2ae",
   "metadata": {},
   "outputs": [
    {
     "name": "stdout",
     "output_type": "stream",
     "text": [
      "[[5.1 3.5 1.4 0.2 0. ]\n",
      " [4.9 3.  1.4 0.2 0. ]\n",
      " [4.7 3.2 1.3 0.2 0. ]\n",
      " [4.6 3.1 1.5 0.2 0. ]\n",
      " [5.  3.6 1.4 0.2 0. ]\n",
      " [5.4 3.9 1.7 0.4 0. ]\n",
      " [4.6 3.4 1.4 0.3 0. ]\n",
      " [5.  3.4 1.5 0.2 0. ]\n",
      " [4.4 2.9 1.4 0.2 0. ]\n",
      " [4.9 3.1 1.5 0.1 0. ]]\n"
     ]
    }
   ],
   "source": [
    "from sklearn.datasets import load_iris\n",
    "import numpy as np\n",
    "\n",
    "# Load the Iris dataset\n",
    "iris = load_iris()\n",
    "X, y = iris.data, iris.target\n",
    "\n",
    "# Combine the features and target labels into one array for display\n",
    "X_origin = np.concatenate([X, y.reshape(-1, 1)], axis=1)\n",
    "\n",
    "# Display the first 5 rows of the combined dataset\n",
    "print(X_origin[:10, :])\n"
   ]
  },
  {
   "cell_type": "code",
   "execution_count": null,
   "id": "0b19a48b",
   "metadata": {},
   "outputs": [],
   "source": []
  }
 ],
 "metadata": {
  "kernelspec": {
   "display_name": "Python 3 (ipykernel)",
   "language": "python",
   "name": "python3"
  },
  "language_info": {
   "codemirror_mode": {
    "name": "ipython",
    "version": 3
   },
   "file_extension": ".py",
   "mimetype": "text/x-python",
   "name": "python",
   "nbconvert_exporter": "python",
   "pygments_lexer": "ipython3",
   "version": "3.10.9"
  }
 },
 "nbformat": 4,
 "nbformat_minor": 5
}
