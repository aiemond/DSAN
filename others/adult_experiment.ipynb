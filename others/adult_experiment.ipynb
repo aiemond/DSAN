{
 "cells": [
  {
   "cell_type": "code",
   "execution_count": 117,
   "id": "c9b9c01e",
   "metadata": {},
   "outputs": [
    {
     "name": "stdout",
     "output_type": "stream",
     "text": [
      "zsh:1: command not found: nvidia-smi\r\n"
     ]
    }
   ],
   "source": [
    "!nvidia-smi"
   ]
  },
  {
   "cell_type": "code",
   "execution_count": 118,
   "id": "bf255721",
   "metadata": {},
   "outputs": [
    {
     "name": "stdout",
     "output_type": "stream",
     "text": [
      "Requirement already satisfied: missingpy in /Users/emondemoniac/anaconda3/lib/python3.10/site-packages (0.2.0)\r\n"
     ]
    }
   ],
   "source": [
    "!pip install missingpy"
   ]
  },
  {
   "cell_type": "code",
   "execution_count": 119,
   "id": "76feb01f",
   "metadata": {},
   "outputs": [],
   "source": [
    "import pandas as pd\n",
    "import numpy as np\n",
    "import matplotlib.pyplot as plt\n",
    "import seaborn as sns\n",
    "from sklearn.metrics import roc_auc_score\n",
    "import math"
   ]
  },
  {
   "cell_type": "code",
   "execution_count": 120,
   "id": "83c1900d",
   "metadata": {},
   "outputs": [],
   "source": [
    "import sklearn.neighbors._base\n",
    "sys.modules['sklearn.neighbors.base'] = sklearn.neighbors._base"
   ]
  },
  {
   "cell_type": "code",
   "execution_count": 121,
   "id": "fa0aa64b",
   "metadata": {},
   "outputs": [],
   "source": [
    "import sys\n",
    "import numpy as np\n",
    "import pandas as pd\n",
    "\n",
    "from missingpy import MissForest\n",
    "from dsan import Imputer as DSANImputer\n",
    "from utils import *\n",
    "\n",
    "import warnings\n",
    "warnings.filterwarnings('ignore')"
   ]
  },
  {
   "cell_type": "code",
   "execution_count": 122,
   "id": "ea794fdb",
   "metadata": {},
   "outputs": [],
   "source": [
    "seed = 128\n",
    "set_seed(seed)"
   ]
  },
  {
   "cell_type": "code",
   "execution_count": 123,
   "id": "b56a61d1",
   "metadata": {},
   "outputs": [],
   "source": [
    "def get_imputer(config):\n",
    "    \n",
    "    model = config['model']\n",
    "    \n",
    "    if model == 'DSAN':\n",
    "        imputer = DSANImputer(rep_dim=config['rep_dim'],\n",
    "                num_heads=config['num_heads'],\n",
    "                n_hidden=config['n_hidden'],\n",
    "                lr=config['lr'],\n",
    "                weight_decay=config['weight_decay'],\n",
    "                batch_size=config['batch_size'],\n",
    "                epochs=config['epochs'],\n",
    "                noise_percent=config['noise_percent'],\n",
    "                stopped_epoch=config['stopped_epoch'])\n",
    "    \n",
    "    elif model == 'MissForest':\n",
    "        imputer = MissForest(random_state=0)\n",
    "        \n",
    "    elif model == 'Statistics':\n",
    "        imputer = None\n",
    "        \n",
    "    return imputer"
   ]
  },
  {
   "cell_type": "code",
   "execution_count": 124,
   "id": "bf04a690",
   "metadata": {},
   "outputs": [
    {
     "data": {
      "text/plain": [
       "'def experiment_run(data_name, config, test=False):\\n    \\n    # Retrieve dataset\\n    dataset = get_data(data_name)\\n    print(f\"Retrieved dataset for {data_name}\")\\n\\n    # Limit to 1000 samples if test flag is true\\n    if test:\\n        dataset = (dataset[0][:1000], dataset[1], dataset[2], dataset[3])\\n        print(\"Limited dataset to 1000 samples for testing\")\\n\\n    k = 5\\n    percent_missing_lst = [p for p in range(5, 25, 5)]    \\n    X_origin, n_col, num_vars, cat_vars = dataset\\n\\n    # Apply category mapping\\n    X_origin = category_mapping(X_origin, cat_vars)\\n    print(\"Applied category mapping\")\\n\\n    # Print data size\\n    print(\"Data Size: {}\".format(X_origin.shape))\\n\\n    n_sample = X_origin.shape[0]\\n    idx_lst = list(range(n_sample))\\n    np.random.shuffle(idx_lst)\\n\\n    # k-fold validation setup\\n    n_valid = len(idx_lst) // k\\n    print(f\"Starting k-fold validation with k={k}\")\\n\\n    results = {}\\n    for percent_missing in percent_missing_lst:\\n        result = []\\n        print(f\"\\nProcessing {percent_missing}% missing data\")\\n\\n        for it, n in enumerate(range(0, n_sample, n_valid)):\\n            print(f\"\\nFold {it + 1}\")\\n            valid_idx = idx_lst[n: n+n_valid]\\n\\n            if len(valid_idx) < n_valid:\\n                print(\"Insufficient data for validation, breaking loop\")\\n                break\\n\\n            train_idx = list(set(idx_lst) - set(valid_idx))\\n            X = X_origin[train_idx, :]\\n            X_test = X_origin[valid_idx, :]\\n\\n            # Generating incomplete data\\n            missing_mask = generate_missing_mask(X, percent_missing=percent_missing)\\n            X_incomplete = X.copy()\\n            X_incomplete[missing_mask] = np.nan\\n            print(\"Generated incomplete data with missing values\")\\n\\n            # Imputation\\n            imputer = get_imputer(config)\\n            X_imputed = imputer.fit_transform(X_incomplete, cat_vars=cat_vars)\\n            print(\"Completed imputation\")\\n            \\n            # Print a small subset of original and imputed data for comparison\\n            print(\"Original data with missing values (subset):\")\\n            print(X_incomplete[:5])  # Adjust the number of rows as needed\\n            #print(\"Imputed data (subset):\")\\n            #print(X_imputed[:5])  # Adjust the number of rows as needed\\n\\n\\n            X_res = X.copy()\\n            X_res[missing_mask] = X_imputed[missing_mask]\\n            \\n            print(\"X_res with imputed values (subset):\")\\n            print(X_res[:5]) \\n\\n            # Calculate metrics\\n            metric = cal_metric_numpy(X_res, X, missing_mask, num_vars, cat_vars)\\n            score = ex_classify(data_name=data_name, train_array=X_res, test_array=X_test, num_vars=num_vars, cat_vars=cat_vars)\\n            \\n            metric[\\'clf_aucroc\\'] = round(score, 4)\\n            result.append(metric)\\n            print(\"Metrics for this fold:\", metric)\\n\\n        # Average results\\n        avg_result = dict()\\n        for key in result[0].keys():\\n            value = np.mean([m[key] for m in result])\\n            avg_result[key] = value \\n            print(f\"Average {key} for {percent_missing}% missing data: {value}\")\\n\\n        results[percent_missing] = avg_result\\n\\n    print(\"Completed all iterations\")\\n    return results\\n'"
      ]
     },
     "execution_count": 124,
     "metadata": {},
     "output_type": "execute_result"
    }
   ],
   "source": [
    "'''def experiment_run(data_name, config, test=False):\n",
    "    \n",
    "    # Retrieve dataset\n",
    "    dataset = get_data(data_name)\n",
    "    print(f\"Retrieved dataset for {data_name}\")\n",
    "\n",
    "    # Limit to 1000 samples if test flag is true\n",
    "    if test:\n",
    "        dataset = (dataset[0][:1000], dataset[1], dataset[2], dataset[3])\n",
    "        print(\"Limited dataset to 1000 samples for testing\")\n",
    "\n",
    "    k = 5\n",
    "    percent_missing_lst = [p for p in range(5, 25, 5)]    \n",
    "    X_origin, n_col, num_vars, cat_vars = dataset\n",
    "\n",
    "    # Apply category mapping\n",
    "    X_origin = category_mapping(X_origin, cat_vars)\n",
    "    print(\"Applied category mapping\")\n",
    "\n",
    "    # Print data size\n",
    "    print(\"Data Size: {}\".format(X_origin.shape))\n",
    "\n",
    "    n_sample = X_origin.shape[0]\n",
    "    idx_lst = list(range(n_sample))\n",
    "    np.random.shuffle(idx_lst)\n",
    "\n",
    "    # k-fold validation setup\n",
    "    n_valid = len(idx_lst) // k\n",
    "    print(f\"Starting k-fold validation with k={k}\")\n",
    "\n",
    "    results = {}\n",
    "    for percent_missing in percent_missing_lst:\n",
    "        result = []\n",
    "        print(f\"\\nProcessing {percent_missing}% missing data\")\n",
    "\n",
    "        for it, n in enumerate(range(0, n_sample, n_valid)):\n",
    "            print(f\"\\nFold {it + 1}\")\n",
    "            valid_idx = idx_lst[n: n+n_valid]\n",
    "\n",
    "            if len(valid_idx) < n_valid:\n",
    "                print(\"Insufficient data for validation, breaking loop\")\n",
    "                break\n",
    "\n",
    "            train_idx = list(set(idx_lst) - set(valid_idx))\n",
    "            X = X_origin[train_idx, :]\n",
    "            X_test = X_origin[valid_idx, :]\n",
    "\n",
    "            # Generating incomplete data\n",
    "            missing_mask = generate_missing_mask(X, percent_missing=percent_missing)\n",
    "            X_incomplete = X.copy()\n",
    "            X_incomplete[missing_mask] = np.nan\n",
    "            print(\"Generated incomplete data with missing values\")\n",
    "\n",
    "            # Imputation\n",
    "            imputer = get_imputer(config)\n",
    "            X_imputed = imputer.fit_transform(X_incomplete, cat_vars=cat_vars)\n",
    "            print(\"Completed imputation\")\n",
    "            \n",
    "            # Print a small subset of original and imputed data for comparison\n",
    "            print(\"Original data with missing values (subset):\")\n",
    "            print(X_incomplete[:5])  # Adjust the number of rows as needed\n",
    "            #print(\"Imputed data (subset):\")\n",
    "            #print(X_imputed[:5])  # Adjust the number of rows as needed\n",
    "\n",
    "\n",
    "            X_res = X.copy()\n",
    "            X_res[missing_mask] = X_imputed[missing_mask]\n",
    "            \n",
    "            print(\"X_res with imputed values (subset):\")\n",
    "            print(X_res[:5]) \n",
    "\n",
    "            # Calculate metrics\n",
    "            metric = cal_metric_numpy(X_res, X, missing_mask, num_vars, cat_vars)\n",
    "            score = ex_classify(data_name=data_name, train_array=X_res, test_array=X_test, num_vars=num_vars, cat_vars=cat_vars)\n",
    "            \n",
    "            metric['clf_aucroc'] = round(score, 4)\n",
    "            result.append(metric)\n",
    "            print(\"Metrics for this fold:\", metric)\n",
    "\n",
    "        # Average results\n",
    "        avg_result = dict()\n",
    "        for key in result[0].keys():\n",
    "            value = np.mean([m[key] for m in result])\n",
    "            avg_result[key] = value \n",
    "            print(f\"Average {key} for {percent_missing}% missing data: {value}\")\n",
    "\n",
    "        results[percent_missing] = avg_result\n",
    "\n",
    "    print(\"Completed all iterations\")\n",
    "    return results\n",
    "'''"
   ]
  },
  {
   "cell_type": "code",
   "execution_count": 126,
   "id": "b3f0a7b2",
   "metadata": {},
   "outputs": [],
   "source": [
    "def experiment_run(data_name, config, test=False):\n",
    "    # Retrieve dataset\n",
    "    dataset = get_data(data_name)\n",
    "    print(f\"Retrieved dataset for {data_name}\")\n",
    "\n",
    "    # Limit to 1000 samples if test flag is true\n",
    "    if test:\n",
    "        dataset = (dataset[0][:1000], dataset[1], dataset[2], dataset[3])\n",
    "        print(\"Limited dataset to 1000 samples for testing\")\n",
    "\n",
    "    k = 5\n",
    "    percent_missing_lst = [p for p in range(5, 25, 5)]\n",
    "    X_origin, n_col, num_vars, cat_vars = dataset\n",
    "\n",
    "   # Apply category mapping\n",
    "    X_origin = category_mapping(X_origin, cat_vars)\n",
    "    print(\"Applied category mapping\")\n",
    "\n",
    "    # Check if X_origin is modified in-place or replaced\n",
    "    if X_origin is not None:\n",
    "        print(\"X_origin is replaced with a new version where categorical variables have been mapped to numerical values.\")\n",
    "    else:\n",
    "        print(\"X_origin is modified in-place, with categorical variables mapped to numerical values.\")\n",
    "\n",
    "    # Print data size\n",
    "    print(\"Data Size: {}\".format(X_origin.shape))\n",
    "\n",
    "\n",
    "    n_sample = X_origin.shape[0]\n",
    "    idx_lst = list(range(n_sample))\n",
    "    np.random.shuffle(idx_lst)\n",
    "\n",
    "    # k-fold validation setup\n",
    "    n_valid = len(idx_lst) // k\n",
    "    print(f\"Starting k-fold validation with k={k}\")\n",
    "\n",
    "    results = {}\n",
    "    for percent_missing in percent_missing_lst:\n",
    "        result = []\n",
    "        print(f\"\\nProcessing {percent_missing}% missing data\")\n",
    "\n",
    "        for it, n in enumerate(range(0, n_sample, n_valid)):\n",
    "            print(f\"\\nFold {it + 1}\")\n",
    "            valid_idx = idx_lst[n: n+n_valid]\n",
    "\n",
    "            if len(valid_idx) < n_valid:\n",
    "                print(\"Insufficient data for validation, breaking loop\")\n",
    "                break\n",
    "\n",
    "            train_idx = list(set(idx_lst) - set(valid_idx))\n",
    "            X = X_origin[train_idx, :]\n",
    "            X_test = X_origin[valid_idx, :]\n",
    "\n",
    "            # Generating incomplete data\n",
    "            missing_mask = generate_missing_mask(X, percent_missing=percent_missing)\n",
    "            X_incomplete = X.copy()\n",
    "            X_incomplete[missing_mask] = np.nan\n",
    "            print(\"Generated incomplete data with missing values for fold {}:\".format(it+1))\n",
    "            print(\"Original data with missing values (subset):\")\n",
    "            print(X_incomplete[:5])  # Adjust the number of rows as needed\n",
    "\n",
    "            # Imputation\n",
    "            imputer = get_imputer(config)\n",
    "            X_imputed = imputer.fit_transform(X_incomplete, cat_vars=cat_vars)\n",
    "            print(\"Completed imputation for fold {}:\".format(it+1))\n",
    "\n",
    "            X_res = X.copy()\n",
    "            X_res[missing_mask] = X_imputed[missing_mask]\n",
    "            print(\"X_res with imputed values (subset):\")\n",
    "            print(X_res[:5])  # Adjust the number of rows as needed\n",
    "\n",
    "            # Calculate metrics\n",
    "            metric = cal_metric_numpy(X_res, X, missing_mask, num_vars, cat_vars)\n",
    "            score = ex_classify(data_name=data_name, train_array=X_res, test_array=X_test, num_vars=num_vars, cat_vars=cat_vars)\n",
    "            \n",
    "            metric['clf_aucroc'] = round(score, 4)\n",
    "            result.append(metric)\n",
    "            print(\"Metrics for this fold:\", metric)\n",
    "\n",
    "        # Average results\n",
    "        avg_result = dict()\n",
    "        for key in result[0].keys():\n",
    "            value = np.mean([m[key] for m in result])\n",
    "            avg_result[key] = value \n",
    "            print(f\"Average {key} for {percent_missing}% missing data: {value}\")\n",
    "\n",
    "        results[percent_missing] = avg_result\n",
    "\n",
    "    print(\"Completed all iterations\")\n",
    "    return results\n"
   ]
  },
  {
   "cell_type": "code",
   "execution_count": 127,
   "id": "63a561c8",
   "metadata": {},
   "outputs": [],
   "source": [
    "config = {\n",
    "    'model': 'DSAN',\n",
    "    'rep_dim': 32,\n",
    "    'num_heads': 8,\n",
    "    'n_hidden': 2,\n",
    "    'lr': 3e-3,\n",
    "    'weight_decay': 1e-5,\n",
    "    'batch_size': 128,\n",
    "    'epochs': 15,\n",
    "    'noise_percent': 10,\n",
    "    'stopped_epoch': 10\n",
    "}"
   ]
  },
  {
   "cell_type": "code",
   "execution_count": 128,
   "id": "69c5c716",
   "metadata": {},
   "outputs": [],
   "source": [
    "import missingpy\n",
    "from missingpy import MissForest"
   ]
  },
  {
   "cell_type": "code",
   "execution_count": 129,
   "id": "7ed9ab0d",
   "metadata": {},
   "outputs": [
    {
     "name": "stdout",
     "output_type": "stream",
     "text": [
      "Retrieved dataset for adult\n",
      "Limited dataset to 1000 samples for testing\n",
      "Applied category mapping\n",
      "X_origin is replaced with a new version where categorical variables have been mapped to numerical values.\n",
      "Data Size: (1000, 15)\n",
      "Starting k-fold validation with k=5\n",
      "\n",
      "Processing 5% missing data\n",
      "\n",
      "Fold 1\n",
      "Generated incomplete data with missing values for fold 1:\n",
      "Original data with missing values (subset):\n",
      "[[41 0 264663 2 10 nan nan 2 0 0 nan 3900 40 0 0]\n",
      " [38 0 150601 3 6 2 4 1 0 1 0 nan 40 0 0]\n",
      " [74 1 88638 4 16 3 2 3 0 0 nan 3683 20 0 1]\n",
      " [68 2 422013 0 9 1 nan 0 0 0 0 3683 40 0 0]\n",
      " [38 3 nan 5 15 3 2 0 0 nan 0 2824 45 0 1]]\n"
     ]
    },
    {
     "name": "stderr",
     "output_type": "stream",
     "text": [
      "100%|███████████████████████████████████████████| 15/15 [00:14<00:00,  1.03it/s]\n"
     ]
    },
    {
     "name": "stdout",
     "output_type": "stream",
     "text": [
      "Completed imputation for fold 1:\n",
      "X_res with imputed values (subset):\n",
      "[[41 0 264663 2 10 4 2 2 0 0 0.42824387550354004 3900 40 0 0]\n",
      " [38 0 150601 3 6 2 4 1 0 1 0 2021.291259765625 40 0 0]\n",
      " [74 1 88638 4 16 3 2 3 0 0 -1.2451661825180054 3683 20 0 1]\n",
      " [68 2 422013 0 9 1 3 0 0 0 0 3683 40 0 0]\n",
      " [38 3 136020.734375 5 15 3 2 0 0 0 0 2824 45 0 1]]\n",
      "Metrics for this fold: {'nrmse': 0.3958, 'col_1_error_rate': 0.425, 'col_3_error_rate': 0.1628, 'col_5_error_rate': 0.2308, 'col_6_error_rate': 0.6667, 'col_7_error_rate': 0.1316, 'col_8_error_rate': 0.0513, 'col_9_error_rate': 0.0385, 'col_13_error_rate': 0.0435, 'col_14_error_rate': 0.0789, 'total_error_rate': 0.1818, 'clf_aucroc': 0.8556}\n",
      "\n",
      "Fold 2\n",
      "Generated incomplete data with missing values for fold 2:\n",
      "Original data with missing values (subset):\n",
      "[[82 0 132870 0 9 0 0 0 0 0 0 4356 18 0 0]\n",
      " [54 0 140359 1 4 1 1 1 0 0 0 3900 40 0 0]\n",
      " [41 0 264663 2 10 nan 2 2 0 0 0 3900 40 0 0]\n",
      " [34 0 216864 0 9 1 nan 1 0 0 0 3770 45 0 0]\n",
      " [38 0 150601 3 6 2 4 1 0 1 0 3770 40 0 0]]\n"
     ]
    },
    {
     "name": "stderr",
     "output_type": "stream",
     "text": [
      "100%|███████████████████████████████████████████| 15/15 [00:13<00:00,  1.09it/s]\n"
     ]
    },
    {
     "name": "stdout",
     "output_type": "stream",
     "text": [
      "Completed imputation for fold 2:\n",
      "X_res with imputed values (subset):\n",
      "[[82 0 132870 0 9 0 0 0 0 0 0 4356 18 0 0]\n",
      " [54 0 140359 1 4 1 1 1 0 0 0 3900 40 0 0]\n",
      " [41 0 264663 2 10 3 2 2 0 0 0 3900 40 0 0]\n",
      " [34 0 216864 0 9 1 9 1 0 0 0 3770 45 0 0]\n",
      " [38 0 150601 3 6 2 4 1 0 1 0 3770 40 0 0]]\n",
      "Metrics for this fold: {'nrmse': 0.5191, 'col_1_error_rate': 0.3235, 'col_3_error_rate': 0.5, 'col_5_error_rate': 0.2791, 'col_6_error_rate': 0.5135, 'col_7_error_rate': 0.1667, 'col_8_error_rate': 0.0667, 'col_9_error_rate': 0.1579, 'col_13_error_rate': 0.0526, 'col_14_error_rate': 0.0811, 'total_error_rate': 0.233, 'clf_aucroc': 0.8996}\n",
      "\n",
      "Fold 3\n",
      "Generated incomplete data with missing values for fold 3:\n",
      "Original data with missing values (subset):\n",
      "[[82 0 132870 0 9 0 0 0 0 0 0 4356 18 0 0]\n",
      " [nan 0 140359 1 4 1 1 1 0 0 0 3900 40 0 0]\n",
      " [41 0 264663 2 10 2 2 2 0 0 0 3900 40 0 0]\n",
      " [34 0 216864 0 9 1 3 1 0 0 0 3770 45 0 0]\n",
      " [38 0 150601 3 6 nan 4 1 0 nan 0 3770 40 0 0]]\n"
     ]
    },
    {
     "name": "stderr",
     "output_type": "stream",
     "text": [
      "100%|███████████████████████████████████████████| 15/15 [00:14<00:00,  1.04it/s]\n"
     ]
    },
    {
     "name": "stdout",
     "output_type": "stream",
     "text": [
      "Completed imputation for fold 3:\n",
      "X_res with imputed values (subset):\n",
      "[[82 0 132870 0 9 0 0 0 0 0 0 4356 18 0 0]\n",
      " [41.68035888671875 0 140359 1 4 1 1 1 0 0 0 3900 40 0 0]\n",
      " [41 0 264663 2 10 2 2 2 0 0 0 3900 40 0 0]\n",
      " [34 0 216864 0 9 1 3 1 0 0 0 3770 45 0 0]\n",
      " [38 0 150601 3 6 4 4 1 0 0 0 3770 40 0 0]]\n",
      "Metrics for this fold: {'nrmse': 0.5223, 'col_1_error_rate': 0.381, 'col_3_error_rate': 0.3125, 'col_5_error_rate': 0.2162, 'col_6_error_rate': 0.8298, 'col_7_error_rate': 0.1724, 'col_8_error_rate': 0.075, 'col_9_error_rate': 0.0962, 'col_13_error_rate': 0.0857, 'col_14_error_rate': 0.1944, 'total_error_rate': 0.2743, 'clf_aucroc': 0.8708}\n",
      "\n",
      "Fold 4\n",
      "Generated incomplete data with missing values for fold 4:\n",
      "Original data with missing values (subset):\n",
      "[[82 0 132870 0 9 0 nan 0 0 0 0 4356 18 0 0]\n",
      " [54 0 140359 1 4 1 1 1 0 0 0 3900 40 0 0]\n",
      " [41 0 264663 2 10 2 2 2 0 0 0 nan 40 0 0]\n",
      " [34 0 216864 0 9 1 3 1 0 0 0 3770 45 0 0]\n",
      " [38 0 150601 3 6 2 4 1 0 1 0 3770 40 0 0]]\n"
     ]
    },
    {
     "name": "stderr",
     "output_type": "stream",
     "text": [
      "100%|███████████████████████████████████████████| 15/15 [00:14<00:00,  1.02it/s]\n"
     ]
    },
    {
     "name": "stdout",
     "output_type": "stream",
     "text": [
      "Completed imputation for fold 4:\n",
      "X_res with imputed values (subset):\n",
      "[[82 0 132870 0 9 0 3 0 0 0 0 4356 18 0 0]\n",
      " [54 0 140359 1 4 1 1 1 0 0 0 3900 40 0 0]\n",
      " [41 0 264663 2 10 2 2 2 0 0 0 2073.50927734375 40 0 0]\n",
      " [34 0 216864 0 9 1 3 1 0 0 0 3770 45 0 0]\n",
      " [38 0 150601 3 6 2 4 1 0 1 0 3770 40 0 0]]\n",
      "Metrics for this fold: {'nrmse': 0.5165, 'col_1_error_rate': 0.1282, 'col_3_error_rate': 0.3056, 'col_5_error_rate': 0.2778, 'col_6_error_rate': 0.6, 'col_7_error_rate': 0.1143, 'col_8_error_rate': 0.0606, 'col_9_error_rate': 0.05, 'col_13_error_rate': 0.1316, 'col_14_error_rate': 0.1795, 'total_error_rate': 0.2083, 'clf_aucroc': 0.8571}\n",
      "\n",
      "Fold 5\n",
      "Generated incomplete data with missing values for fold 5:\n",
      "Original data with missing values (subset):\n",
      "[[82 0 132870 0 9 nan 0 0 0 0 0 4356 18 0 0]\n",
      " [54 0 140359 1 4 1 1 1 0 0 0 nan nan 0 0]\n",
      " [34 0 216864 0 9 1 3 1 0 0 0 3770 45 0 0]\n",
      " [74 1 88638 4 16 3 2 3 0 0 0 3683 20 0 1]\n",
      " [68 2 422013 0 9 1 2 0 0 0 nan 3683 40 0 0]]\n"
     ]
    },
    {
     "name": "stderr",
     "output_type": "stream",
     "text": [
      "100%|███████████████████████████████████████████| 15/15 [00:13<00:00,  1.10it/s]\n"
     ]
    },
    {
     "name": "stdout",
     "output_type": "stream",
     "text": [
      "Completed imputation for fold 5:\n",
      "X_res with imputed values (subset):\n",
      "[[82 0 132870 0 9 3 0 0 0 0 0 4356 18 0 0]\n",
      " [54 0 140359 1 4 1 1 1 0 0 0 2201.376953125 42.8134651184082 0 0]\n",
      " [34 0 216864 0 9 1 3 1 0 0 0 3770 45 0 0]\n",
      " [74 1 88638 4 16 3 2 3 0 0 0 3683 20 0 1]\n",
      " [68 2 422013 0 9 1 2 0 0 0 -0.5503003597259521 3683 40 0 0]]\n",
      "Metrics for this fold: {'nrmse': 0.5819, 'col_1_error_rate': 0.4516, 'col_3_error_rate': 0.1795, 'col_5_error_rate': 0.1429, 'col_6_error_rate': 0.5862, 'col_7_error_rate': 0.0857, 'col_8_error_rate': 0.0857, 'col_9_error_rate': 0.2, 'col_13_error_rate': 0.1667, 'col_14_error_rate': 0.0769, 'total_error_rate': 0.207, 'clf_aucroc': 0.8886}\n",
      "Average nrmse for 5% missing data: 0.50712\n",
      "Average col_1_error_rate for 5% missing data: 0.34186\n",
      "Average col_3_error_rate for 5% missing data: 0.29208\n",
      "Average col_5_error_rate for 5% missing data: 0.22936\n",
      "Average col_6_error_rate for 5% missing data: 0.63924\n",
      "Average col_7_error_rate for 5% missing data: 0.13413999999999998\n",
      "Average col_8_error_rate for 5% missing data: 0.06786\n",
      "Average col_9_error_rate for 5% missing data: 0.10851999999999999\n",
      "Average col_13_error_rate for 5% missing data: 0.09602\n",
      "Average col_14_error_rate for 5% missing data: 0.12216\n",
      "Average total_error_rate for 5% missing data: 0.22088000000000002\n",
      "Average clf_aucroc for 5% missing data: 0.8743399999999999\n",
      "\n",
      "Processing 10% missing data\n",
      "\n",
      "Fold 1\n",
      "Generated incomplete data with missing values for fold 1:\n",
      "Original data with missing values (subset):\n",
      "[[41 nan 264663 2 10 2 2 2 0 0 0 3900 40 nan 0]\n",
      " [38 0 150601 3 6 nan 4 1 0 1 nan 3770 40 0 0]\n",
      " [74 1 88638 nan 16 3 2 3 0 0 0 3683 20 0 1]\n",
      " [68 2 422013 0 9 1 2 0 0 0 0 3683 40 0 0]\n",
      " [38 3 164526 5 15 3 2 0 0 1 0 nan 45 0 1]]\n"
     ]
    },
    {
     "name": "stderr",
     "output_type": "stream",
     "text": [
      "100%|███████████████████████████████████████████| 15/15 [00:13<00:00,  1.14it/s]\n"
     ]
    },
    {
     "name": "stdout",
     "output_type": "stream",
     "text": [
      "Completed imputation for fold 1:\n",
      "X_res with imputed values (subset):\n",
      "[[41 0 264663 2 10 2 2 2 0 0 0 3900 40 0 0]\n",
      " [38 0 150601 3 6 3 4 1 0 1 0.4176700711250305 3770 40 0 0]\n",
      " [74 1 88638 4 16 3 2 3 0 0 0 3683 20 0 1]\n",
      " [68 2 422013 0 9 1 2 0 0 0 0 3683 40 0 0]\n",
      " [38 3 164526 5 15 3 2 0 0 1 0 2006.9136962890625 45 0 1]]\n",
      "Metrics for this fold: {'nrmse': 0.5028, 'col_1_error_rate': 0.3333, 'col_3_error_rate': 0.18, 'col_5_error_rate': 0.1224, 'col_6_error_rate': 0.7246, 'col_7_error_rate': 0.1923, 'col_8_error_rate': 0.0667, 'col_9_error_rate': 0.1282, 'col_13_error_rate': 0.1111, 'col_14_error_rate': 0.0698, 'total_error_rate': 0.2063, 'clf_aucroc': 0.8633}\n",
      "\n",
      "Fold 2\n",
      "Generated incomplete data with missing values for fold 2:\n",
      "Original data with missing values (subset):\n",
      "[[82 0 132870 0 9 0 0 0 0 0 0 4356 18 0 0]\n",
      " [54 0 140359 1 4 nan 1 1 0 nan 0 3900 40 0 0]\n",
      " [41 0 264663 2 10 2 2 2 0 0 0 3900 40 0 0]\n",
      " [34 0 216864 0 9 1 nan 1 0 0 nan 3770 45 0 0]\n",
      " [nan 0 150601 3 6 2 4 1 0 1 0 3770 40 0 0]]\n"
     ]
    },
    {
     "name": "stderr",
     "output_type": "stream",
     "text": [
      "100%|███████████████████████████████████████████| 15/15 [00:13<00:00,  1.09it/s]\n"
     ]
    },
    {
     "name": "stdout",
     "output_type": "stream",
     "text": [
      "Completed imputation for fold 2:\n",
      "X_res with imputed values (subset):\n",
      "[[82 0 132870 0 9 0 0 0 0 0 0 4356 18 0 0]\n",
      " [54 0 140359 1 4 4 1 1 0 0 0 3900 40 0 0]\n",
      " [41 0 264663 2 10 2 2 2 0 0 0 3900 40 0 0]\n",
      " [34 0 216864 0 9 1 7 1 0 0 0.015799224376678467 3770 45 0 0]\n",
      " [44.38090133666992 0 150601 3 6 2 4 1 0 1 0 3770 40 0 0]]\n",
      "Metrics for this fold: {'nrmse': 0.4955, 'col_1_error_rate': 0.4648, 'col_3_error_rate': 0.2603, 'col_5_error_rate': 0.1184, 'col_6_error_rate': 0.6552, 'col_7_error_rate': 0.1519, 'col_8_error_rate': 0.1124, 'col_9_error_rate': 0.0854, 'col_13_error_rate': 0.0423, 'col_14_error_rate': 0.0759, 'total_error_rate': 0.2207, 'clf_aucroc': 0.8982}\n",
      "\n",
      "Fold 3\n",
      "Generated incomplete data with missing values for fold 3:\n",
      "Original data with missing values (subset):\n",
      "[[82 0 132870 0 9 0 0 nan 0 0 0 4356 nan 0 0]\n",
      " [54 0 140359 1 4 1 1 1 0 0 0 nan 40 0 0]\n",
      " [41 0 264663 2 10 nan nan 2 0 0 0 3900 40 0 0]\n",
      " [34 0 216864 0 9 1 nan 1 0 0 0 3770 45 0 0]\n",
      " [38 nan 150601 3 6 nan 4 1 0 1 0 3770 nan 0 0]]\n"
     ]
    },
    {
     "name": "stderr",
     "output_type": "stream",
     "text": [
      "100%|███████████████████████████████████████████| 15/15 [00:13<00:00,  1.11it/s]\n"
     ]
    },
    {
     "name": "stdout",
     "output_type": "stream",
     "text": [
      "Completed imputation for fold 3:\n",
      "X_res with imputed values (subset):\n",
      "[[82 0 132870 0 9 0 0 0 0 0 0 4356 45.5616569519043 0 0]\n",
      " [54 0 140359 1 4 1 1 1 0 0 0 2145.9091796875 40 0 0]\n",
      " [41 0 264663 2 10 4 4 2 0 0 0 3900 40 0 0]\n",
      " [34 0 216864 0 9 1 4 1 0 0 0 3770 45 0 0]\n",
      " [38 0 150601 3 6 3 4 1 0 1 0 3770 58.521820068359375 0 0]]\n",
      "Metrics for this fold: {'nrmse': 0.4655, 'col_1_error_rate': 0.3167, 'col_3_error_rate': 0.209, 'col_5_error_rate': 0.2111, 'col_6_error_rate': 0.7447, 'col_7_error_rate': 0.1556, 'col_8_error_rate': 0.0923, 'col_9_error_rate': 0.1818, 'col_13_error_rate': 0.0563, 'col_14_error_rate': 0.1111, 'total_error_rate': 0.2449, 'clf_aucroc': 0.8761}\n",
      "\n",
      "Fold 4\n",
      "Generated incomplete data with missing values for fold 4:\n",
      "Original data with missing values (subset):\n",
      "[[82 0 132870 0 9 0 0 0 0 0 0 4356 nan nan 0]\n",
      " [54 0 140359 1 4 1 nan 1 0 0 0 3900 40 0 0]\n",
      " [41 nan 264663 2 10 2 2 2 0 0 0 3900 40 0 0]\n",
      " [34 0 216864 0 nan 1 3 1 0 0 0 nan 45 0 0]\n",
      " [38 0 nan 3 6 2 4 1 nan 1 0 3770 40 0 0]]\n"
     ]
    },
    {
     "name": "stderr",
     "output_type": "stream",
     "text": [
      "100%|███████████████████████████████████████████| 15/15 [00:14<00:00,  1.01it/s]\n"
     ]
    },
    {
     "name": "stdout",
     "output_type": "stream",
     "text": [
      "Completed imputation for fold 4:\n",
      "X_res with imputed values (subset):\n",
      "[[82 0 132870 0 9 0 0 0 0 0 0 4356 40.00960922241211 0 0]\n",
      " [54 0 140359 1 4 1 2 1 0 0 0 3900 40 0 0]\n",
      " [41 0 264663 2 10 2 2 2 0 0 0 3900 40 0 0]\n",
      " [34 0 216864 0 10.701727867126465 1 3 1 0 0 0 2163.972900390625 45 0 0]\n",
      " [38 0 211290.734375 3 6 2 4 1 0 1 0 3770 40 0 0]]\n",
      "Metrics for this fold: {'nrmse': 0.4356, 'col_1_error_rate': 0.3478, 'col_3_error_rate': 0.1739, 'col_5_error_rate': 0.2273, 'col_6_error_rate': 0.7805, 'col_7_error_rate': 0.2143, 'col_8_error_rate': 0.1528, 'col_9_error_rate': 0.0909, 'col_13_error_rate': 0.0506, 'col_14_error_rate': 0.1154, 'total_error_rate': 0.2461, 'clf_aucroc': 0.8505}\n",
      "\n",
      "Fold 5\n",
      "Generated incomplete data with missing values for fold 5:\n",
      "Original data with missing values (subset):\n",
      "[[82 0 132870 0 9 0 0 0 0 0 0 nan 18 0 0]\n",
      " [54 0 140359 1 4 1 1 1 0 0 0 3900 40 0 0]\n",
      " [34 0 216864 nan 9 1 3 1 nan 0 nan 3770 45 nan 0]\n",
      " [74 1 88638 4 16 3 2 3 0 0 0 3683 20 0 1]\n",
      " [68 nan 422013 nan 9 1 2 0 0 0 0 3683 40 nan nan]]\n"
     ]
    },
    {
     "name": "stderr",
     "output_type": "stream",
     "text": [
      "100%|███████████████████████████████████████████| 15/15 [00:13<00:00,  1.08it/s]\n"
     ]
    },
    {
     "name": "stdout",
     "output_type": "stream",
     "text": [
      "Completed imputation for fold 5:\n",
      "X_res with imputed values (subset):\n",
      "[[82 0 132870 0 9 0 0 0 0 0 0 2073.908935546875 18 0 0]\n",
      " [54 0 140359 1 4 1 1 1 0 0 0 3900 40 0 0]\n",
      " [34 0 216864 0 9 1 3 1 0 0 0.9836171865463257 3770 45 0 0]\n",
      " [74 1 88638 4 16 3 2 3 0 0 0 3683 20 0 1]\n",
      " [68 0 422013 0 9 1 2 0 0 0 0 3683 40 0 0]]\n",
      "Metrics for this fold: {'nrmse': 0.5526, 'col_1_error_rate': 0.4167, 'col_3_error_rate': 0.2892, 'col_5_error_rate': 0.1566, 'col_6_error_rate': 0.7206, 'col_7_error_rate': 0.1765, 'col_8_error_rate': 0.0482, 'col_9_error_rate': 0.1, 'col_13_error_rate': 0.022, 'col_14_error_rate': 0.1216, 'total_error_rate': 0.2142, 'clf_aucroc': 0.881}\n",
      "Average nrmse for 10% missing data: 0.4904\n",
      "Average col_1_error_rate for 10% missing data: 0.37586\n",
      "Average col_3_error_rate for 10% missing data: 0.22248\n",
      "Average col_5_error_rate for 10% missing data: 0.16716\n",
      "Average col_6_error_rate for 10% missing data: 0.72512\n",
      "Average col_7_error_rate for 10% missing data: 0.17812\n",
      "Average col_8_error_rate for 10% missing data: 0.09448\n",
      "Average col_9_error_rate for 10% missing data: 0.11725999999999999\n",
      "Average col_13_error_rate for 10% missing data: 0.056459999999999996\n",
      "Average col_14_error_rate for 10% missing data: 0.09876\n",
      "Average total_error_rate for 10% missing data: 0.22644000000000003\n",
      "Average clf_aucroc for 10% missing data: 0.87382\n",
      "\n",
      "Processing 15% missing data\n",
      "\n",
      "Fold 1\n",
      "Generated incomplete data with missing values for fold 1:\n",
      "Original data with missing values (subset):\n",
      "[[41 nan 264663 2 10 2 2 2 0 0 0 3900 40 nan 0]\n",
      " [38 0 nan 3 6 2 4 1 0 1 0 3770 40 0 0]\n",
      " [74 nan 88638 4 16 nan 2 3 0 0 0 3683 20 nan nan]\n",
      " [68 2 422013 0 9 1 2 0 0 0 0 3683 40 nan 0]\n",
      " [38 3 164526 5 15 3 2 0 0 nan 0 2824 45 0 nan]]\n"
     ]
    },
    {
     "name": "stderr",
     "output_type": "stream",
     "text": [
      "100%|███████████████████████████████████████████| 15/15 [00:13<00:00,  1.12it/s]\n"
     ]
    },
    {
     "name": "stdout",
     "output_type": "stream",
     "text": [
      "Completed imputation for fold 1:\n",
      "X_res with imputed values (subset):\n",
      "[[41 0 264663 2 10 2 2 2 0 0 0 3900 40 0 0]\n",
      " [38 0 129007.59375 3 6 2 4 1 0 1 0 3770 40 0 0]\n",
      " [74 0 88638 4 16 1 2 3 0 0 0 3683 20 0 1]\n",
      " [68 2 422013 0 9 1 2 0 0 0 0 3683 40 0 0]\n",
      " [38 3 164526 5 15 3 2 0 0 0 0 2824 45 0 0]]\n",
      "Metrics for this fold: {'nrmse': 0.4809, 'col_1_error_rate': 0.2941, 'col_3_error_rate': 0.3719, 'col_5_error_rate': 0.1679, 'col_6_error_rate': 0.6695, 'col_7_error_rate': 0.3186, 'col_8_error_rate': 0.1066, 'col_9_error_rate': 0.0986, 'col_13_error_rate': 0.029, 'col_14_error_rate': 0.1739, 'total_error_rate': 0.2395, 'clf_aucroc': 0.862}\n",
      "\n",
      "Fold 2\n",
      "Generated incomplete data with missing values for fold 2:\n",
      "Original data with missing values (subset):\n",
      "[[nan nan 132870 0 nan 0 0 0 0 0 0 4356 nan nan 0]\n",
      " [54 nan 140359 nan 4 nan 1 1 0 0 0 3900 40 0 0]\n",
      " [41 0 264663 2 10 2 2 2 nan 0 nan 3900 40 0 0]\n",
      " [34 0 216864 0 9 1 3 1 0 0 0 nan 45 0 0]\n",
      " [38 0 nan 3 6 2 4 1 0 1 0 3770 40 0 nan]]\n"
     ]
    },
    {
     "name": "stderr",
     "output_type": "stream",
     "text": [
      "100%|███████████████████████████████████████████| 15/15 [00:14<00:00,  1.06it/s]\n"
     ]
    },
    {
     "name": "stdout",
     "output_type": "stream",
     "text": [
      "Completed imputation for fold 2:\n",
      "X_res with imputed values (subset):\n",
      "[[41.06108093261719 0 132870 0 8.740769386291504 0 0 0 0 0 0 4356\n",
      "  46.508544921875 0 0]\n",
      " [54 0 140359 0 4 4 1 1 0 0 0 3900 40 0 0]\n",
      " [41 0 264663 2 10 2 2 2 0 0 -0.5144968032836914 3900 40 0 0]\n",
      " [34 0 216864 0 9 1 3 1 0 0 0 2085.02587890625 45 0 0]\n",
      " [38 0 189305.15625 3 6 2 4 1 0 1 0 3770 40 0 0]]\n",
      "Metrics for this fold: {'nrmse': 0.4443, 'col_1_error_rate': 0.4261, 'col_3_error_rate': 0.3304, 'col_5_error_rate': 0.1455, 'col_6_error_rate': 0.5827, 'col_7_error_rate': 0.1008, 'col_8_error_rate': 0.1022, 'col_9_error_rate': 0.1441, 'col_13_error_rate': 0.0661, 'col_14_error_rate': 0.176, 'total_error_rate': 0.2297, 'clf_aucroc': 0.8961}\n",
      "\n",
      "Fold 3\n",
      "Generated incomplete data with missing values for fold 3:\n",
      "Original data with missing values (subset):\n",
      "[[82 0 132870 0 9 nan 0 nan nan 0 0 4356 18 0 0]\n",
      " [54 0 140359 1 nan 1 1 1 0 0 0 3900 40 0 nan]\n",
      " [41 0 264663 2 10 2 2 2 0 0 0 3900 nan 0 0]\n",
      " [34 0 216864 0 nan 1 nan 1 0 nan nan 3770 45 0 0]\n",
      " [38 0 150601 3 6 nan nan nan 0 1 0 nan 40 0 0]]\n"
     ]
    },
    {
     "name": "stderr",
     "output_type": "stream",
     "text": [
      "100%|███████████████████████████████████████████| 15/15 [00:14<00:00,  1.04it/s]\n"
     ]
    },
    {
     "name": "stdout",
     "output_type": "stream",
     "text": [
      "Completed imputation for fold 3:\n",
      "X_res with imputed values (subset):\n",
      "[[82 0 132870 0 9 1 0 0 0 0 0 4356 18 0 0]\n",
      " [54 0 140359 1 9.853012084960938 1 1 1 0 0 0 3900 40 0 0]\n",
      " [41 0 264663 2 10 2 2 2 0 0 0 3900 39.67715072631836 0 0]\n",
      " [34 0 216864 0 12.405896186828613 1 4 1 0 0 0.0710560753941536 3770 45 0\n",
      "  0]\n",
      " [38 0 150601 3 6 3 1 0 0 1 0 2044.569580078125 40 0 0]]\n",
      "Metrics for this fold: {'nrmse': 0.4672, 'col_1_error_rate': 0.369, 'col_3_error_rate': 0.2764, 'col_5_error_rate': 0.211, 'col_6_error_rate': 0.7254, 'col_7_error_rate': 0.1636, 'col_8_error_rate': 0.1053, 'col_9_error_rate': 0.1239, 'col_13_error_rate': 0.0789, 'col_14_error_rate': 0.1034, 'total_error_rate': 0.2498, 'clf_aucroc': 0.8794}\n",
      "\n",
      "Fold 4\n",
      "Generated incomplete data with missing values for fold 4:\n",
      "Original data with missing values (subset):\n",
      "[[82 0 132870 0 9 0 0 0 0 0 0 nan 18 0 0]\n",
      " [54 0 140359 1 4 1 1 1 nan 0 0 3900 40 0 nan]\n",
      " [41 0 264663 2 10 2 2 nan 0 nan 0 3900 40 0 nan]\n",
      " [34 0 216864 0 9 nan 3 1 0 0 nan 3770 45 0 0]\n",
      " [38 0 150601 3 nan 2 4 nan 0 1 0 3770 40 0 0]]\n"
     ]
    },
    {
     "name": "stderr",
     "output_type": "stream",
     "text": [
      "100%|███████████████████████████████████████████| 15/15 [00:14<00:00,  1.00it/s]\n"
     ]
    },
    {
     "name": "stdout",
     "output_type": "stream",
     "text": [
      "Completed imputation for fold 4:\n",
      "X_res with imputed values (subset):\n",
      "[[82 0 132870 0 9 0 0 0 0 0 0 2142.1455078125 18 0 0]\n",
      " [54 0 140359 1 4 1 1 1 0 0 0 3900 40 0 0]\n",
      " [41 0 264663 2 10 2 2 0 0 1 0 3900 40 0 1]\n",
      " [34 0 216864 0 9 1 3 1 0 0 -0.10445743799209595 3770 45 0 0]\n",
      " [38 0 150601 3 7.261241436004639 2 4 0 0 1 0 3770 40 0 0]]\n",
      "Metrics for this fold: {'nrmse': 0.4574, 'col_1_error_rate': 0.3898, 'col_3_error_rate': 0.3495, 'col_5_error_rate': 0.2039, 'col_6_error_rate': 0.6364, 'col_7_error_rate': 0.1712, 'col_8_error_rate': 0.0331, 'col_9_error_rate': 0.1053, 'col_13_error_rate': 0.024, 'col_14_error_rate': 0.1667, 'total_error_rate': 0.2244, 'clf_aucroc': 0.8505}\n",
      "\n",
      "Fold 5\n",
      "Generated incomplete data with missing values for fold 5:\n",
      "Original data with missing values (subset):\n",
      "[[nan 0 132870 0 9 0 0 0 0 0 nan 4356 18 0 0]\n",
      " [nan 0 140359 1 4 1 1 1 nan nan 0 3900 40 0 0]\n",
      " [34 0 216864 0 9 1 3 1 0 0 0 3770 45 0 0]\n",
      " [74 nan 88638 4 16 3 2 nan 0 0 0 3683 20 0 nan]\n",
      " [68 2 422013 0 9 1 2 0 0 0 0 3683 nan 0 0]]\n"
     ]
    },
    {
     "name": "stderr",
     "output_type": "stream",
     "text": [
      "100%|███████████████████████████████████████████| 15/15 [00:13<00:00,  1.08it/s]\n"
     ]
    },
    {
     "name": "stdout",
     "output_type": "stream",
     "text": [
      "Completed imputation for fold 5:\n",
      "X_res with imputed values (subset):\n",
      "[[60.28064727783203 0 132870 0 9 0 0 0 0 0 0.801365852355957 4356 18 0 0]\n",
      " [43.264129638671875 0 140359 1 4 1 1 1 0 0 0 3900 40 0 0]\n",
      " [34 0 216864 0 9 1 3 1 0 0 0 3770 45 0 0]\n",
      " [74 0 88638 4 16 3 2 0 0 0 0 3683 20 0 1]\n",
      " [68 2 422013 0 9 1 2 0 0 0 0 3683 40.84974670410156 0 0]]\n",
      "Metrics for this fold: {'nrmse': 0.5503, 'col_1_error_rate': 0.408, 'col_3_error_rate': 0.2803, 'col_5_error_rate': 0.162, 'col_6_error_rate': 0.7248, 'col_7_error_rate': 0.1488, 'col_8_error_rate': 0.1026, 'col_9_error_rate': 0.0574, 'col_13_error_rate': 0.063, 'col_14_error_rate': 0.1405, 'total_error_rate': 0.2258, 'clf_aucroc': 0.8845}\n",
      "Average nrmse for 15% missing data: 0.48002\n",
      "Average col_1_error_rate for 15% missing data: 0.37739999999999996\n",
      "Average col_3_error_rate for 15% missing data: 0.3217\n",
      "Average col_5_error_rate for 15% missing data: 0.17806\n",
      "Average col_6_error_rate for 15% missing data: 0.66776\n",
      "Average col_7_error_rate for 15% missing data: 0.1806\n",
      "Average col_8_error_rate for 15% missing data: 0.08996\n",
      "Average col_9_error_rate for 15% missing data: 0.10586\n",
      "Average col_13_error_rate for 15% missing data: 0.0522\n",
      "Average col_14_error_rate for 15% missing data: 0.15209999999999999\n",
      "Average total_error_rate for 15% missing data: 0.23384\n",
      "Average clf_aucroc for 15% missing data: 0.8745\n",
      "\n",
      "Processing 20% missing data\n",
      "\n",
      "Fold 1\n",
      "Generated incomplete data with missing values for fold 1:\n",
      "Original data with missing values (subset):\n",
      "[[41 nan 264663 nan 10 2 2 2 nan nan 0 3900 40 0 0]\n",
      " [38 0 150601 3 6 nan 4 nan 0 1 0 3770 40 0 0]\n",
      " [74 1 88638 4 nan nan 2 3 nan 0 0 3683 20 nan 1]\n",
      " [68 2 422013 0 nan 1 2 0 0 0 nan nan nan nan 0]\n",
      " [38 3 164526 5 15 3 nan nan 0 1 0 2824 45 0 nan]]\n"
     ]
    },
    {
     "name": "stderr",
     "output_type": "stream",
     "text": [
      "100%|███████████████████████████████████████████| 15/15 [00:13<00:00,  1.07it/s]\n"
     ]
    },
    {
     "name": "stdout",
     "output_type": "stream",
     "text": [
      "Completed imputation for fold 1:\n",
      "X_res with imputed values (subset):\n",
      "[[41 0 264663 2 10 2 2 2 0 1 0 3900 40 0 0]\n",
      " [38 0 150601 3 6 4 4 4 0 1 0 3770 40 0 0]\n",
      " [74 1 88638 4 15.927189826965332 4 2 3 0 0 0 3683 20 0 1]\n",
      " [68 2 422013 0 10.903552055358887 1 2 0 0 0 -0.42481398582458496\n",
      "  2124.15625 38.45022201538086 0 0]\n",
      " [38 3 164526 5 15 3 0 4 0 1 0 2824 45 0 0]]\n",
      "Metrics for this fold: {'nrmse': 0.5191, 'col_1_error_rate': 0.3487, 'col_3_error_rate': 0.2738, 'col_5_error_rate': 0.2953, 'col_6_error_rate': 0.7692, 'col_7_error_rate': 0.3653, 'col_8_error_rate': 0.0473, 'col_9_error_rate': 0.1288, 'col_13_error_rate': 0.0694, 'col_14_error_rate': 0.1188, 'total_error_rate': 0.2724, 'clf_aucroc': 0.8607}\n",
      "\n",
      "Fold 2\n",
      "Generated incomplete data with missing values for fold 2:\n",
      "Original data with missing values (subset):\n",
      "[[82 0 132870 0 nan nan 0 nan 0 0 0 4356 nan 0 0]\n",
      " [54 nan 140359 1 nan 1 1 1 0 0 nan 3900 nan nan 0]\n",
      " [41 0 264663 2 10 nan 2 2 0 0 nan 3900 40 0 nan]\n",
      " [34 0 216864 0 9 1 3 1 0 0 0 3770 45 nan nan]\n",
      " [38 0 nan 3 6 2 4 nan 0 1 0 3770 40 0 nan]]\n"
     ]
    },
    {
     "name": "stderr",
     "output_type": "stream",
     "text": [
      "100%|███████████████████████████████████████████| 15/15 [00:13<00:00,  1.08it/s]\n"
     ]
    },
    {
     "name": "stdout",
     "output_type": "stream",
     "text": [
      "Completed imputation for fold 2:\n",
      "X_res with imputed values (subset):\n",
      "[[82 0 132870 0 11.14892292022705 4 0 0 0 0 0 4356 42.29835891723633 0 0]\n",
      " [54 0 140359 1 10.313096046447754 1 1 1 0 0 0.3119864761829376 3900\n",
      "  41.84883499145508 0 0]\n",
      " [41 0 264663 2 10 3 2 2 0 0 -0.10126227140426636 3900 40 0 1]\n",
      " [34 0 216864 0 9 1 3 1 0 0 0 3770 45 0 0]\n",
      " [38 0 155009.15625 3 6 2 4 0 0 1 0 3770 40 0 1]]\n",
      "Metrics for this fold: {'nrmse': 0.5238, 'col_1_error_rate': 0.362, 'col_3_error_rate': 0.2357, 'col_5_error_rate': 0.1392, 'col_6_error_rate': 0.65, 'col_7_error_rate': 0.1709, 'col_8_error_rate': 0.0952, 'col_9_error_rate': 0.1321, 'col_13_error_rate': 0.0706, 'col_14_error_rate': 0.1714, 'total_error_rate': 0.2253, 'clf_aucroc': 0.8973}\n",
      "\n",
      "Fold 3\n",
      "Generated incomplete data with missing values for fold 3:\n",
      "Original data with missing values (subset):\n",
      "[[82 0 132870 0 9 0 0 0 nan 0 0 4356 18 0 0]\n",
      " [54 0 nan 1 nan 1 1 1 0 0 0 nan 40 0 0]\n",
      " [41 0 264663 2 10 2 2 2 0 0 0 nan 40 0 0]\n",
      " [34 0 216864 0 9 1 nan 1 0 0 0 3770 45 0 0]\n",
      " [nan 0 150601 3 nan 2 4 1 0 1 0 3770 40 nan 0]]\n"
     ]
    },
    {
     "name": "stderr",
     "output_type": "stream",
     "text": [
      "100%|███████████████████████████████████████████| 15/15 [00:13<00:00,  1.09it/s]\n"
     ]
    },
    {
     "name": "stdout",
     "output_type": "stream",
     "text": [
      "Completed imputation for fold 3:\n",
      "X_res with imputed values (subset):\n",
      "[[82 0 132870 0 9 0 0 0 0 0 0 4356 18 0 0]\n",
      " [54 0 190719.109375 1 8.321946144104004 1 1 1 0 0 0 2050.2861328125 40 0\n",
      "  0]\n",
      " [41 0 264663 2 10 2 2 2 0 0 0 2096.576416015625 40 0 0]\n",
      " [34 0 216864 0 9 1 4 1 0 0 0 3770 45 0 0]\n",
      " [34.659175872802734 0 150601 3 8.091200828552246 2 4 1 0 1 0 3770 40 0 0]]\n",
      "Metrics for this fold: {'nrmse': 0.4551, 'col_1_error_rate': 0.306, 'col_3_error_rate': 0.3064, 'col_5_error_rate': 0.2424, 'col_6_error_rate': 0.6347, 'col_7_error_rate': 0.1818, 'col_8_error_rate': 0.0765, 'col_9_error_rate': 0.1465, 'col_13_error_rate': 0.0432, 'col_14_error_rate': 0.1849, 'total_error_rate': 0.2359, 'clf_aucroc': 0.8643}\n",
      "\n",
      "Fold 4\n",
      "Generated incomplete data with missing values for fold 4:\n",
      "Original data with missing values (subset):\n",
      "[[82 nan 132870 0 nan 0 0 0 0 0 0 4356 nan 0 0]\n",
      " [nan 0 140359 1 4 nan 1 1 0 0 0 3900 40 0 0]\n",
      " [41 0 nan 2 10 2 2 2 0 0 0 3900 nan nan nan]\n",
      " [34 0 216864 0 9 1 3 1 nan 0 0 3770 45 0 0]\n",
      " [38 0 nan 3 6 2 4 nan nan 1 0 3770 40 nan 0]]\n"
     ]
    },
    {
     "name": "stderr",
     "output_type": "stream",
     "text": [
      "100%|███████████████████████████████████████████| 15/15 [00:14<00:00,  1.02it/s]\n"
     ]
    },
    {
     "name": "stdout",
     "output_type": "stream",
     "text": [
      "Completed imputation for fold 4:\n",
      "X_res with imputed values (subset):\n",
      "[[82 0 132870 0 9.851913452148438 0 0 0 0 0 0 4356 32.657283782958984 0 0]\n",
      " [45.85426330566406 0 140359 1 4 4 1 1 0 0 0 3900 40 0 0]\n",
      " [41 0 154493.859375 2 10 2 2 2 0 0 0 3900 39.72895050048828 0 1]\n",
      " [34 0 216864 0 9 1 3 1 0 0 0 3770 45 0 0]\n",
      " [38 0 199159.953125 3 6 2 4 0 0 1 0 3770 40 0 0]]\n",
      "Metrics for this fold: {'nrmse': 0.5788, 'col_1_error_rate': 0.3273, 'col_3_error_rate': 0.3493, 'col_5_error_rate': 0.2875, 'col_6_error_rate': 0.6415, 'col_7_error_rate': 0.1726, 'col_8_error_rate': 0.0643, 'col_9_error_rate': 0.1267, 'col_13_error_rate': 0.0562, 'col_14_error_rate': 0.1418, 'total_error_rate': 0.2378, 'clf_aucroc': 0.8484}\n",
      "\n",
      "Fold 5\n",
      "Generated incomplete data with missing values for fold 5:\n",
      "Original data with missing values (subset):\n",
      "[[82 0 132870 nan 9 0 0 nan 0 0 0 nan 18 nan nan]\n",
      " [54 0 nan 1 4 nan 1 1 0 nan 0 nan 40 0 0]\n",
      " [34 nan nan 0 9 1 nan 1 nan 0 0 3770 nan 0 nan]\n",
      " [74 1 88638 nan 16 3 2 3 nan 0 nan nan 20 0 1]\n",
      " [68 2 422013 0 9 1 nan 0 0 0 0 nan 40 0 nan]]\n"
     ]
    },
    {
     "name": "stderr",
     "output_type": "stream",
     "text": [
      "100%|███████████████████████████████████████████| 15/15 [00:14<00:00,  1.03it/s]\n"
     ]
    },
    {
     "name": "stdout",
     "output_type": "stream",
     "text": [
      "Completed imputation for fold 5:\n",
      "X_res with imputed values (subset):\n",
      "[[82 0 132870 0 9 0 0 0 0 0 0 2054.958984375 18 0 1]\n",
      " [54 0 247192.234375 1 4 4 1 1 0 1 0 2155.4970703125 40 0 0]\n",
      " [34 0 241184.921875 0 9 1 4 1 0 0 0 3770 47.14485168457031 0 0]\n",
      " [74 1 88638 4 16 3 2 3 0 0 -0.34388917684555054 2008.1453857421875 20 0\n",
      "  1]\n",
      " [68 2 422013 0 9 1 4 0 0 0 0 1996.4923095703125 40 0 0]]\n",
      "Metrics for this fold: {'nrmse': 0.5286, 'col_1_error_rate': 0.2733, 'col_3_error_rate': 0.3879, 'col_5_error_rate': 0.2917, 'col_6_error_rate': 0.6923, 'col_7_error_rate': 0.1657, 'col_8_error_rate': 0.046, 'col_9_error_rate': 0.1677, 'col_13_error_rate': 0.06, 'col_14_error_rate': 0.1718, 'total_error_rate': 0.2438, 'clf_aucroc': 0.878}\n",
      "Average nrmse for 20% missing data: 0.52108\n",
      "Average col_1_error_rate for 20% missing data: 0.32345999999999997\n",
      "Average col_3_error_rate for 20% missing data: 0.31062\n",
      "Average col_5_error_rate for 20% missing data: 0.25122\n",
      "Average col_6_error_rate for 20% missing data: 0.67754\n",
      "Average col_7_error_rate for 20% missing data: 0.21126\n",
      "Average col_8_error_rate for 20% missing data: 0.06586\n",
      "Average col_9_error_rate for 20% missing data: 0.14035999999999998\n",
      "Average col_13_error_rate for 20% missing data: 0.05988\n",
      "Average col_14_error_rate for 20% missing data: 0.15774\n",
      "Average total_error_rate for 20% missing data: 0.24304\n",
      "Average clf_aucroc for 20% missing data: 0.86974\n",
      "Completed all iterations\n"
     ]
    }
   ],
   "source": [
    "data_name_lst = ['adult']\n",
    "\n",
    "result_dir = './results1'\n",
    "os.makedirs(result_dir)\n",
    "\n",
    "for data_name in data_name_lst:\n",
    "    results = experiment_run(data_name, config, test=True)\n",
    "    results['config'] = config\n",
    "    results['dataset'] = data_name\n",
    "    result_path = os.path.join(result_dir, '{}.json'.format(data_name))\n",
    "    write_json(results, result_path)"
   ]
  },
  {
   "cell_type": "code",
   "execution_count": null,
   "id": "d287c10f",
   "metadata": {},
   "outputs": [],
   "source": [
    "[38 nan 150601 3 6 nan 4 1 0 1 0 3770 nan 0 0]]\n",
    "[74 1 88638 4 16 3 2 3 0 0 0 3683 20 0 1]\n",
    "[41 0 264663 2 10 3 2 2 0 0 0 3900 40 0 0]\n",
    "[41 0 264663 2 10 nan nan 2 0 0 nan 3900 40 0 0]\n",
    "[41 0 264663 2 10 4 2 2 0 0 0.42824387550354004 3900 40 0 0"
   ]
  }
 ],
 "metadata": {
  "kernelspec": {
   "display_name": "Python 3 (ipykernel)",
   "language": "python",
   "name": "python3"
  },
  "language_info": {
   "codemirror_mode": {
    "name": "ipython",
    "version": 3
   },
   "file_extension": ".py",
   "mimetype": "text/x-python",
   "name": "python",
   "nbconvert_exporter": "python",
   "pygments_lexer": "ipython3",
   "version": "3.10.9"
  }
 },
 "nbformat": 4,
 "nbformat_minor": 5
}
