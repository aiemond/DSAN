{
 "cells": [
  {
   "cell_type": "code",
   "execution_count": 1,
   "id": "c548b2e7",
   "metadata": {},
   "outputs": [
    {
     "name": "stdout",
     "output_type": "stream",
     "text": [
      "zsh:1: command not found: nvidia-smi\n",
      "Requirement already satisfied: missingpy in /Users/emondemoniac/anaconda3/lib/python3.10/site-packages (0.2.0)\n"
     ]
    }
   ],
   "source": [
    "!nvidia-smi\n",
    "!pip install missingpy"
   ]
  },
  {
   "cell_type": "code",
   "execution_count": 12,
   "id": "a46d01ab",
   "metadata": {},
   "outputs": [],
   "source": [
    "import pandas as pd\n",
    "import numpy as np\n",
    "import matplotlib.pyplot as plt\n",
    "import seaborn as sns\n",
    "from sklearn.metrics import roc_auc_score\n",
    "import math"
   ]
  },
  {
   "cell_type": "code",
   "execution_count": 13,
   "id": "cbb7b2da",
   "metadata": {},
   "outputs": [],
   "source": [
    "import sklearn.neighbors._base\n",
    "sys.modules['sklearn.neighbors.base'] = sklearn.neighbors._base"
   ]
  },
  {
   "cell_type": "code",
   "execution_count": 14,
   "id": "231e9270",
   "metadata": {},
   "outputs": [],
   "source": [
    "import sys\n",
    "import numpy as np\n",
    "import pandas as pd\n",
    "\n",
    "from missingpy import MissForest\n",
    "from dsan import Imputer as DSANImputer\n",
    "from utils import *\n",
    "\n",
    "import warnings\n",
    "warnings.filterwarnings('ignore')"
   ]
  },
  {
   "cell_type": "code",
   "execution_count": 15,
   "id": "6f0c82fd",
   "metadata": {},
   "outputs": [],
   "source": [
    "seed = 32\n",
    "set_seed(seed)"
   ]
  },
  {
   "cell_type": "code",
   "execution_count": 16,
   "id": "5027dc57",
   "metadata": {},
   "outputs": [],
   "source": [
    "def get_imputer(config):\n",
    "    \n",
    "    model = config['model']\n",
    "    \n",
    "    if model == 'DSAN':\n",
    "        imputer = DSANImputer(rep_dim=config['rep_dim'],\n",
    "                num_heads=config['num_heads'],\n",
    "                n_hidden=config['n_hidden'],\n",
    "                lr=config['lr'],\n",
    "                weight_decay=config['weight_decay'],\n",
    "                batch_size=config['batch_size'],\n",
    "                epochs=config['epochs'],\n",
    "                noise_percent=config['noise_percent'],\n",
    "                stopped_epoch=config['stopped_epoch'])\n",
    "    \n",
    "    elif model == 'MissForest':\n",
    "        imputer = MissForest(random_state=0)\n",
    "        \n",
    "    elif model == 'Statistics':\n",
    "        imputer = None\n",
    "        \n",
    "    return imputer"
   ]
  },
  {
   "cell_type": "code",
   "execution_count": 17,
   "id": "5054bf29",
   "metadata": {},
   "outputs": [],
   "source": [
    "def experiment_run(data_name, config, test=False):\n",
    "    # Retrieve dataset\n",
    "    dataset = get_data(data_name)\n",
    "    print(f\"Retrieved dataset for {data_name}\")\n",
    "\n",
    "    # Limit to 1000 samples if test flag is true\n",
    "    if test:\n",
    "        dataset = (dataset[0][:1000], dataset[1], dataset[2], dataset[3])\n",
    "        print(\"Limited dataset to 1000 samples for testing\")\n",
    "\n",
    "    k = 5\n",
    "    percent_missing_lst = [p for p in range(5, 25, 5)]\n",
    "    X_origin, n_col, num_vars, cat_vars = dataset\n",
    "\n",
    "   # Apply category mapping\n",
    "    X_origin = category_mapping(X_origin, cat_vars)\n",
    "    print(\"Applied category mapping\")\n",
    "\n",
    "    # Check if X_origin is modified in-place or replaced\n",
    "    if X_origin is not None:\n",
    "        print(\"X_origin is replaced with a new version where categorical variables have been mapped to numerical values.\")\n",
    "    else:\n",
    "        print(\"X_origin is modified in-place, with categorical variables mapped to numerical values.\")\n",
    "\n",
    "    # Print data size\n",
    "    print(\"Data Size: {}\".format(X_origin.shape))\n",
    "\n",
    "\n",
    "    n_sample = X_origin.shape[0]\n",
    "    idx_lst = list(range(n_sample))\n",
    "    np.random.shuffle(idx_lst)\n",
    "\n",
    "    # k-fold validation setup\n",
    "    n_valid = len(idx_lst) // k\n",
    "    print(f\"Starting k-fold validation with k={k}\")\n",
    "\n",
    "    results = {}\n",
    "    for percent_missing in percent_missing_lst:\n",
    "        result = []\n",
    "        print(f\"\\nProcessing {percent_missing}% missing data\")\n",
    "\n",
    "        for it, n in enumerate(range(0, n_sample, n_valid)):\n",
    "            print(f\"\\nFold {it + 1}\")\n",
    "            valid_idx = idx_lst[n: n+n_valid]\n",
    "\n",
    "            if len(valid_idx) < n_valid:\n",
    "                print(\"Insufficient data for validation, breaking loop\")\n",
    "                break\n",
    "\n",
    "            train_idx = list(set(idx_lst) - set(valid_idx))\n",
    "            X = X_origin[train_idx, :]\n",
    "            X_test = X_origin[valid_idx, :]\n",
    "\n",
    "            # Generating incomplete data\n",
    "            missing_mask = generate_missing_mask(X, percent_missing=percent_missing)\n",
    "            X_incomplete = X.copy()\n",
    "            X_incomplete[missing_mask] = np.nan\n",
    "            print(\"Generated incomplete data with missing values for fold {}:\".format(it+1))\n",
    "            print(\"Original data with missing values (subset):\")\n",
    "            print(X_incomplete[:5])  # Adjust the number of rows as needed\n",
    "\n",
    "            # Imputation\n",
    "            imputer = get_imputer(config)\n",
    "            X_imputed = imputer.fit_transform(X_incomplete, cat_vars=cat_vars)\n",
    "            print(\"Completed imputation for fold {}:\".format(it+1))\n",
    "\n",
    "            X_res = X.copy()\n",
    "            X_res[missing_mask] = X_imputed[missing_mask]\n",
    "            print(\"X_res with imputed values (subset):\")\n",
    "            print(X_res[:5])  # Adjust the number of rows as needed\n",
    "\n",
    "            # Calculate metrics\n",
    "            metric = cal_metric_numpy(X_res, X, missing_mask, num_vars, cat_vars)\n",
    "            score = ex_regress(data_name=data_name, train_array=X_res, test_array=X_test, num_vars=num_vars, cat_vars=cat_vars)\n",
    "            \n",
    "            metric['clf_aucroc'] = round(score, 4)\n",
    "            result.append(metric)\n",
    "            print(\"Metrics for this fold:\", metric)\n",
    "\n",
    "        # Average results\n",
    "        avg_result = dict()\n",
    "        for key in result[0].keys():\n",
    "            value = np.mean([m[key] for m in result])\n",
    "            avg_result[key] = value \n",
    "            print(f\"Average {key} for {percent_missing}% missing data: {value}\")\n",
    "\n",
    "        results[percent_missing] = avg_result\n",
    "\n",
    "    print(\"Completed all iterations\")\n",
    "    return results\n"
   ]
  },
  {
   "cell_type": "code",
   "execution_count": 18,
   "id": "25c97533",
   "metadata": {},
   "outputs": [],
   "source": [
    "config = {\n",
    "    'model': 'DSAN',\n",
    "    'rep_dim': 32,\n",
    "    'num_heads': 8,\n",
    "    'n_hidden': 2,\n",
    "    'lr': 3e-3,\n",
    "    'weight_decay': 1e-5,\n",
    "    'batch_size': 32,\n",
    "    'epochs': 34,\n",
    "    'noise_percent': 15,\n",
    "    'stopped_epoch': 15\n",
    "}"
   ]
  },
  {
   "cell_type": "code",
   "execution_count": 19,
   "id": "005be95c",
   "metadata": {},
   "outputs": [
    {
     "name": "stdout",
     "output_type": "stream",
     "text": [
      "Retrieved dataset for insurance\n",
      "Limited dataset to 1000 samples for testing\n",
      "Applied category mapping\n",
      "X_origin is replaced with a new version where categorical variables have been mapped to numerical values.\n",
      "Data Size: (1000, 7)\n",
      "Starting k-fold validation with k=5\n",
      "\n",
      "Processing 5% missing data\n",
      "\n",
      "Fold 1\n",
      "Generated incomplete data with missing values for fold 1:\n",
      "Original data with missing values (subset):\n",
      "[[19 0 27.9 0 0 nan 16884.924]\n",
      " [18 1 33.77 1 1 nan 1725.5523]\n",
      " [28 1 33.0 3 1 1 4449.462]\n",
      " [32 1 28.88 0 1 2 nan]\n",
      " [31 0 25.74 0 1 1 3756.6216]]\n"
     ]
    },
    {
     "name": "stderr",
     "output_type": "stream",
     "text": [
      "100%|███████████████████████████████████████████| 34/34 [00:17<00:00,  1.89it/s]\n"
     ]
    },
    {
     "name": "stdout",
     "output_type": "stream",
     "text": [
      "Completed imputation for fold 1:\n",
      "X_res with imputed values (subset):\n",
      "[[19 0 27.9 0 0 0 16884.924]\n",
      " [18 1 33.77 1 1 3 1725.5523]\n",
      " [28 1 33.0 3 1 1 4449.462]\n",
      " [32 1 28.88 0 1 2 4809.94775390625]\n",
      " [31 0 25.74 0 1 1 3756.6216]]\n",
      "Metrics for this fold: {'nrmse': 0.3635, 'col_1_error_rate': 0.6111, 'col_4_error_rate': 0.0857, 'col_5_error_rate': 0.7442, 'total_error_rate': 0.5, 'clf_aucroc': 33141851.5382}\n",
      "\n",
      "Fold 2\n",
      "Generated incomplete data with missing values for fold 2:\n",
      "Original data with missing values (subset):\n",
      "[[nan 1 33.0 3 1 1 4449.462]\n",
      " [33 1 22.705 0 1 2 21984.47061]\n",
      " [32 1 28.88 0 1 2 3866.8552]\n",
      " [31 0 25.74 0 1 1 3756.6216]\n",
      " [46 0 33.44 1 1 1 8240.5896]]\n"
     ]
    },
    {
     "name": "stderr",
     "output_type": "stream",
     "text": [
      "100%|███████████████████████████████████████████| 34/34 [00:21<00:00,  1.55it/s]\n"
     ]
    },
    {
     "name": "stdout",
     "output_type": "stream",
     "text": [
      "Completed imputation for fold 2:\n",
      "X_res with imputed values (subset):\n",
      "[[30.002639770507812 1 33.0 3 1 1 4449.462]\n",
      " [33 1 22.705 0 1 2 21984.47061]\n",
      " [32 1 28.88 0 1 2 3866.8552]\n",
      " [31 0 25.74 0 1 1 3756.6216]\n",
      " [46 0 33.44 1 1 1 8240.5896]]\n",
      "Metrics for this fold: {'nrmse': 0.2447, 'col_1_error_rate': 0.4865, 'col_4_error_rate': 0.1304, 'col_5_error_rate': 0.8205, 'total_error_rate': 0.459, 'clf_aucroc': 31693369.7378}\n",
      "\n",
      "Fold 3\n",
      "Generated incomplete data with missing values for fold 3:\n",
      "Original data with missing values (subset):\n",
      "[[19 0 27.9 0 0 0 16884.924]\n",
      " [18 1 33.77 1 1 1 1725.5523]\n",
      " [33 1 22.705 0 1 2 21984.47061]\n",
      " [32 1 28.88 0 1 2 nan]\n",
      " [46 0 33.44 1 1 nan 8240.5896]]\n"
     ]
    },
    {
     "name": "stderr",
     "output_type": "stream",
     "text": [
      "100%|███████████████████████████████████████████| 34/34 [00:18<00:00,  1.83it/s]\n"
     ]
    },
    {
     "name": "stdout",
     "output_type": "stream",
     "text": [
      "Completed imputation for fold 3:\n",
      "X_res with imputed values (subset):\n",
      "[[19 0 27.9 0 0 0 16884.924]\n",
      " [18 1 33.77 1 1 1 1725.5523]\n",
      " [33 1 22.705 0 1 2 21984.47061]\n",
      " [32 1 28.88 0 1 2 5955.8232421875]\n",
      " [46 0 33.44 1 1 3 8240.5896]]\n",
      "Metrics for this fold: {'nrmse': 0.3471, 'col_1_error_rate': 0.5, 'col_4_error_rate': 0.0476, 'col_5_error_rate': 0.6818, 'total_error_rate': 0.4167, 'clf_aucroc': 38001725.1058}\n",
      "\n",
      "Fold 4\n",
      "Generated incomplete data with missing values for fold 4:\n",
      "Original data with missing values (subset):\n",
      "[[19 0 27.9 0 0 0 16884.924]\n",
      " [18 1 33.77 1 1 1 1725.5523]\n",
      " [28 1 33.0 3 1 1 4449.462]\n",
      " [33 1 nan 0 1 2 nan]\n",
      " [32 1 28.88 0 1 2 3866.8552]]\n"
     ]
    },
    {
     "name": "stderr",
     "output_type": "stream",
     "text": [
      "100%|███████████████████████████████████████████| 34/34 [00:26<00:00,  1.30it/s]\n"
     ]
    },
    {
     "name": "stdout",
     "output_type": "stream",
     "text": [
      "Completed imputation for fold 4:\n",
      "X_res with imputed values (subset):\n",
      "[[19 0 27.9 0 0 0 16884.924]\n",
      " [18 1 33.77 1 1 1 1725.5523]\n",
      " [28 1 33.0 3 1 1 4449.462]\n",
      " [33 1 30.083847045898438 0 1 2 6948.88427734375]\n",
      " [32 1 28.88 0 1 2 3866.8552]]\n",
      "Metrics for this fold: {'nrmse': 0.3821, 'col_1_error_rate': 0.4062, 'col_4_error_rate': 0.0952, 'col_5_error_rate': 0.6939, 'total_error_rate': 0.4146, 'clf_aucroc': 39985738.3235}\n",
      "\n",
      "Fold 5\n",
      "Generated incomplete data with missing values for fold 5:\n",
      "Original data with missing values (subset):\n",
      "[[19 0 27.9 0 0 nan 16884.924]\n",
      " [18 1 33.77 1 1 1 1725.5523]\n",
      " [28 1 33.0 3 1 1 4449.462]\n",
      " [33 1 22.705 0 1 2 21984.47061]\n",
      " [31 0 25.74 0 1 1 3756.6216]]\n"
     ]
    },
    {
     "name": "stderr",
     "output_type": "stream",
     "text": [
      "100%|███████████████████████████████████████████| 34/34 [00:21<00:00,  1.61it/s]\n"
     ]
    },
    {
     "name": "stdout",
     "output_type": "stream",
     "text": [
      "Completed imputation for fold 5:\n",
      "X_res with imputed values (subset):\n",
      "[[19 0 27.9 0 0 2 16884.924]\n",
      " [18 1 33.77 1 1 1 1725.5523]\n",
      " [28 1 33.0 3 1 1 4449.462]\n",
      " [33 1 22.705 0 1 2 21984.47061]\n",
      " [31 0 25.74 0 1 1 3756.6216]]\n",
      "Metrics for this fold: {'nrmse': 0.3727, 'col_1_error_rate': 0.475, 'col_4_error_rate': 0.0513, 'col_5_error_rate': 0.6739, 'total_error_rate': 0.416, 'clf_aucroc': 34430890.354}\n",
      "Average nrmse for 5% missing data: 0.34202000000000005\n",
      "Average col_1_error_rate for 5% missing data: 0.49576000000000003\n",
      "Average col_4_error_rate for 5% missing data: 0.08204\n",
      "Average col_5_error_rate for 5% missing data: 0.7228600000000001\n",
      "Average total_error_rate for 5% missing data: 0.44126000000000004\n",
      "Average clf_aucroc for 5% missing data: 35450715.01186\n",
      "\n",
      "Processing 10% missing data\n",
      "\n",
      "Fold 1\n",
      "Generated incomplete data with missing values for fold 1:\n",
      "Original data with missing values (subset):\n",
      "[[19 0 27.9 0 0 0 16884.924]\n",
      " [18 1 nan 1 1 1 1725.5523]\n",
      " [28 1 33.0 3 1 nan 4449.462]\n",
      " [nan 1 28.88 0 1 2 3866.8552]\n",
      " [31 0 25.74 0 1 1 3756.6216]]\n"
     ]
    },
    {
     "name": "stderr",
     "output_type": "stream",
     "text": [
      "100%|███████████████████████████████████████████| 34/34 [00:20<00:00,  1.70it/s]\n"
     ]
    },
    {
     "name": "stdout",
     "output_type": "stream",
     "text": [
      "Completed imputation for fold 1:\n",
      "X_res with imputed values (subset):\n",
      "[[19 0 27.9 0 0 0 16884.924]\n",
      " [18 1 32.77574920654297 1 1 1 1725.5523]\n",
      " [28 1 33.0 3 1 0 4449.462]\n",
      " [35.336647033691406 1 28.88 0 1 2 3866.8552]\n",
      " [31 0 25.74 0 1 1 3756.6216]]\n",
      "Metrics for this fold: {'nrmse': 0.4439, 'col_1_error_rate': 0.4321, 'col_4_error_rate': 0.0947, 'col_5_error_rate': 0.7083, 'total_error_rate': 0.3831, 'clf_aucroc': 32897908.2554}\n",
      "\n",
      "Fold 2\n",
      "Generated incomplete data with missing values for fold 2:\n",
      "Original data with missing values (subset):\n",
      "[[28 1 33.0 3 1 1 4449.462]\n",
      " [33 1 22.705 0 1 2 nan]\n",
      " [32 nan 28.88 0 1 2 3866.8552]\n",
      " [31 0 25.74 0 1 nan 3756.6216]\n",
      " [46 0 33.44 1 1 1 nan]]\n"
     ]
    },
    {
     "name": "stderr",
     "output_type": "stream",
     "text": [
      "100%|███████████████████████████████████████████| 34/34 [00:20<00:00,  1.69it/s]\n"
     ]
    },
    {
     "name": "stdout",
     "output_type": "stream",
     "text": [
      "Completed imputation for fold 2:\n",
      "X_res with imputed values (subset):\n",
      "[[28 1 33.0 3 1 1 4449.462]\n",
      " [33 1 22.705 0 1 2 4070.623779296875]\n",
      " [32 1 28.88 0 1 2 3866.8552]\n",
      " [31 0 25.74 0 1 3 3756.6216]\n",
      " [46 0 33.44 1 1 1 9735.7822265625]]\n",
      "Metrics for this fold: {'nrmse': 0.3902, 'col_1_error_rate': 0.481, 'col_4_error_rate': 0.1071, 'col_5_error_rate': 0.6374, 'total_error_rate': 0.4134, 'clf_aucroc': 31248971.7181}\n",
      "\n",
      "Fold 3\n",
      "Generated incomplete data with missing values for fold 3:\n",
      "Original data with missing values (subset):\n",
      "[[19 0 27.9 nan 0 0 16884.924]\n",
      " [18 1 33.77 1 nan 1 1725.5523]\n",
      " [33 1 22.705 0 1 2 21984.47061]\n",
      " [32 1 28.88 0 1 2 3866.8552]\n",
      " [46 0 33.44 1 1 1 8240.5896]]\n"
     ]
    },
    {
     "name": "stderr",
     "output_type": "stream",
     "text": [
      "100%|███████████████████████████████████████████| 34/34 [00:20<00:00,  1.65it/s]\n"
     ]
    },
    {
     "name": "stdout",
     "output_type": "stream",
     "text": [
      "Completed imputation for fold 3:\n",
      "X_res with imputed values (subset):\n",
      "[[19 0 27.9 0.7772734761238098 0 0 16884.924]\n",
      " [18 1 33.77 1 1 1 1725.5523]\n",
      " [33 1 22.705 0 1 2 21984.47061]\n",
      " [32 1 28.88 0 1 2 3866.8552]\n",
      " [46 0 33.44 1 1 1 8240.5896]]\n",
      "Metrics for this fold: {'nrmse': 0.3668, 'col_1_error_rate': 0.5132, 'col_4_error_rate': 0.1579, 'col_5_error_rate': 0.7283, 'total_error_rate': 0.4836, 'clf_aucroc': 38291152.1237}\n",
      "\n",
      "Fold 4\n",
      "Generated incomplete data with missing values for fold 4:\n",
      "Original data with missing values (subset):\n",
      "[[19 0 27.9 0 0 0 16884.924]\n",
      " [18 1 33.77 1 1 1 1725.5523]\n",
      " [28 1 33.0 3 1 1 4449.462]\n",
      " [33 1 22.705 0 nan 2 21984.47061]\n",
      " [32 1 28.88 0 1 2 3866.8552]]\n"
     ]
    },
    {
     "name": "stderr",
     "output_type": "stream",
     "text": [
      "100%|███████████████████████████████████████████| 34/34 [00:20<00:00,  1.63it/s]\n"
     ]
    },
    {
     "name": "stdout",
     "output_type": "stream",
     "text": [
      "Completed imputation for fold 4:\n",
      "X_res with imputed values (subset):\n",
      "[[19 0 27.9 0 0 0 16884.924]\n",
      " [18 1 33.77 1 1 1 1725.5523]\n",
      " [28 1 33.0 3 1 1 4449.462]\n",
      " [33 1 22.705 0 0 2 21984.47061]\n",
      " [32 1 28.88 0 1 2 3866.8552]]\n",
      "Metrics for this fold: {'nrmse': 0.5106, 'col_1_error_rate': 0.4156, 'col_4_error_rate': 0.1084, 'col_5_error_rate': 0.7179, 'total_error_rate': 0.4076, 'clf_aucroc': 39916987.5532}\n",
      "\n",
      "Fold 5\n",
      "Generated incomplete data with missing values for fold 5:\n",
      "Original data with missing values (subset):\n",
      "[[19 0 27.9 0 0 0 nan]\n",
      " [18 1 33.77 1 1 1 1725.5523]\n",
      " [28 1 33.0 3 1 1 4449.462]\n",
      " [33 1 22.705 0 1 2 21984.47061]\n",
      " [31 0 25.74 0 1 1 3756.6216]]\n"
     ]
    },
    {
     "name": "stderr",
     "output_type": "stream",
     "text": [
      "100%|███████████████████████████████████████████| 34/34 [00:20<00:00,  1.70it/s]\n"
     ]
    },
    {
     "name": "stdout",
     "output_type": "stream",
     "text": [
      "Completed imputation for fold 5:\n",
      "X_res with imputed values (subset):\n",
      "[[19 0 27.9 0 0 0 20331.23828125]\n",
      " [18 1 33.77 1 1 1 1725.5523]\n",
      " [28 1 33.0 3 1 1 4449.462]\n",
      " [33 1 22.705 0 1 2 21984.47061]\n",
      " [31 0 25.74 0 1 1 3756.6216]]\n",
      "Metrics for this fold: {'nrmse': 0.4207, 'col_1_error_rate': 0.439, 'col_4_error_rate': 0.0741, 'col_5_error_rate': 0.8088, 'total_error_rate': 0.4199, 'clf_aucroc': 34736225.3175}\n",
      "Average nrmse for 10% missing data: 0.42644000000000004\n",
      "Average col_1_error_rate for 10% missing data: 0.45618\n",
      "Average col_4_error_rate for 10% missing data: 0.10844000000000001\n",
      "Average col_5_error_rate for 10% missing data: 0.72014\n",
      "Average total_error_rate for 10% missing data: 0.42152\n",
      "Average clf_aucroc for 10% missing data: 35418248.99358\n",
      "\n",
      "Processing 15% missing data\n",
      "\n",
      "Fold 1\n",
      "Generated incomplete data with missing values for fold 1:\n",
      "Original data with missing values (subset):\n",
      "[[19 0 27.9 0 0 0 16884.924]\n",
      " [18 1 33.77 1 1 1 1725.5523]\n",
      " [28 1 33.0 3 nan nan 4449.462]\n",
      " [32 nan 28.88 0 1 2 3866.8552]\n",
      " [31 0 nan 0 1 1 nan]]\n"
     ]
    },
    {
     "name": "stderr",
     "output_type": "stream",
     "text": [
      "100%|███████████████████████████████████████████| 34/34 [00:19<00:00,  1.73it/s]\n"
     ]
    },
    {
     "name": "stdout",
     "output_type": "stream",
     "text": [
      "Completed imputation for fold 1:\n",
      "X_res with imputed values (subset):\n",
      "[[19 0 27.9 0 0 0 16884.924]\n",
      " [18 1 33.77 1 1 1 1725.5523]\n",
      " [28 1 33.0 3 1 3 4449.462]\n",
      " [32 0 28.88 0 1 2 3866.8552]\n",
      " [31 0 31.109346389770508 0 1 1 9705.54296875]]\n",
      "Metrics for this fold: {'nrmse': 0.5452, 'col_1_error_rate': 0.4407, 'col_4_error_rate': 0.113, 'col_5_error_rate': 0.688, 'total_error_rate': 0.4218, 'clf_aucroc': 33027086.8299}\n",
      "\n",
      "Fold 2\n",
      "Generated incomplete data with missing values for fold 2:\n",
      "Original data with missing values (subset):\n",
      "[[28 1 33.0 3 1 1 4449.462]\n",
      " [33 1 22.705 0 nan 2 21984.47061]\n",
      " [32 1 28.88 0 1 2 nan]\n",
      " [31 0 nan 0 1 1 3756.6216]\n",
      " [nan 0 33.44 1 1 1 8240.5896]]\n"
     ]
    },
    {
     "name": "stderr",
     "output_type": "stream",
     "text": [
      "100%|███████████████████████████████████████████| 34/34 [00:19<00:00,  1.77it/s]\n"
     ]
    },
    {
     "name": "stdout",
     "output_type": "stream",
     "text": [
      "Completed imputation for fold 2:\n",
      "X_res with imputed values (subset):\n",
      "[[28 1 33.0 3 1 1 4449.462]\n",
      " [33 1 22.705 0 0 2 21984.47061]\n",
      " [32 1 28.88 0 1 2 7857.87548828125]\n",
      " [31 0 32.631004333496094 0 1 1 3756.6216]\n",
      " [47.408355712890625 0 33.44 1 1 1 8240.5896]]\n",
      "Metrics for this fold: {'nrmse': 0.4865, 'col_1_error_rate': 0.5, 'col_4_error_rate': 0.1151, 'col_5_error_rate': 0.7339, 'total_error_rate': 0.4235, 'clf_aucroc': 31595241.5884}\n",
      "\n",
      "Fold 3\n",
      "Generated incomplete data with missing values for fold 3:\n",
      "Original data with missing values (subset):\n",
      "[[19 0 27.9 nan 0 0 16884.924]\n",
      " [18 1 33.77 1 1 1 1725.5523]\n",
      " [33 1 22.705 0 1 2 nan]\n",
      " [32 1 28.88 0 1 2 3866.8552]\n",
      " [46 0 33.44 nan 1 1 8240.5896]]\n"
     ]
    },
    {
     "name": "stderr",
     "output_type": "stream",
     "text": [
      "100%|███████████████████████████████████████████| 34/34 [00:19<00:00,  1.71it/s]\n"
     ]
    },
    {
     "name": "stdout",
     "output_type": "stream",
     "text": [
      "Completed imputation for fold 3:\n",
      "X_res with imputed values (subset):\n",
      "[[19 0 27.9 0.6793169975280762 0 0 16884.924]\n",
      " [18 1 33.77 1 1 1 1725.5523]\n",
      " [33 1 22.705 0 1 2 6497.12353515625]\n",
      " [32 1 28.88 0 1 2 3866.8552]\n",
      " [46 0 33.44 1.4192754030227661 1 1 8240.5896]]\n",
      "Metrics for this fold: {'nrmse': 0.3916, 'col_1_error_rate': 0.4327, 'col_4_error_rate': 0.0565, 'col_5_error_rate': 0.6731, 'total_error_rate': 0.4089, 'clf_aucroc': 38045362.6811}\n",
      "\n",
      "Fold 4\n",
      "Generated incomplete data with missing values for fold 4:\n",
      "Original data with missing values (subset):\n",
      "[[19 0 27.9 0 0 0 16884.924]\n",
      " [18 1 nan 1 1 1 1725.5523]\n",
      " [28 1 33.0 3 1 1 nan]\n",
      " [33 1 22.705 0 nan nan 21984.47061]\n",
      " [32 1 28.88 0 1 2 nan]]\n"
     ]
    },
    {
     "name": "stderr",
     "output_type": "stream",
     "text": [
      "100%|███████████████████████████████████████████| 34/34 [00:19<00:00,  1.75it/s]\n"
     ]
    },
    {
     "name": "stdout",
     "output_type": "stream",
     "text": [
      "Completed imputation for fold 4:\n",
      "X_res with imputed values (subset):\n",
      "[[19 0 27.9 0 0 0 16884.924]\n",
      " [18 1 32.291343688964844 1 1 1 1725.5523]\n",
      " [28 1 33.0 3 1 1 8544.4580078125]\n",
      " [33 1 22.705 0 0 3 21984.47061]\n",
      " [32 1 28.88 0 1 2 6329.6640625]]\n",
      "Metrics for this fold: {'nrmse': 0.3854, 'col_1_error_rate': 0.5086, 'col_4_error_rate': 0.1083, 'col_5_error_rate': 0.6696, 'total_error_rate': 0.4224, 'clf_aucroc': 39300302.524}\n",
      "\n",
      "Fold 5\n",
      "Generated incomplete data with missing values for fold 5:\n",
      "Original data with missing values (subset):\n",
      "[[19 0 27.9 0 0 0 16884.924]\n",
      " [18 1 nan 1 1 1 1725.5523]\n",
      " [28 nan 33.0 3 1 nan 4449.462]\n",
      " [33 1 22.705 0 1 2 21984.47061]\n",
      " [31 0 25.74 0 nan 1 3756.6216]]\n"
     ]
    },
    {
     "name": "stderr",
     "output_type": "stream",
     "text": [
      "100%|███████████████████████████████████████████| 34/34 [00:18<00:00,  1.84it/s]\n"
     ]
    },
    {
     "name": "stdout",
     "output_type": "stream",
     "text": [
      "Completed imputation for fold 5:\n",
      "X_res with imputed values (subset):\n",
      "[[19 0 27.9 0 0 0 16884.924]\n",
      " [18 1 30.06769371032715 1 1 1 1725.5523]\n",
      " [28 1 33.0 3 1 3 4449.462]\n",
      " [33 1 22.705 0 1 2 21984.47061]\n",
      " [31 0 25.74 0 1 1 3756.6216]]\n",
      "Metrics for this fold: {'nrmse': 0.418, 'col_1_error_rate': 0.4436, 'col_4_error_rate': 0.1083, 'col_5_error_rate': 0.7083, 'total_error_rate': 0.4209, 'clf_aucroc': 34848048.1892}\n",
      "Average nrmse for 15% missing data: 0.44534\n",
      "Average col_1_error_rate for 15% missing data: 0.46512000000000003\n",
      "Average col_4_error_rate for 15% missing data: 0.10024\n",
      "Average col_5_error_rate for 15% missing data: 0.69458\n",
      "Average total_error_rate for 15% missing data: 0.41950000000000004\n",
      "Average clf_aucroc for 15% missing data: 35363208.36252\n",
      "\n",
      "Processing 20% missing data\n",
      "\n",
      "Fold 1\n",
      "Generated incomplete data with missing values for fold 1:\n",
      "Original data with missing values (subset):\n",
      "[[19 0 27.9 0 0 0 16884.924]\n",
      " [18 1 33.77 1 nan 1 1725.5523]\n",
      " [28 1 33.0 3 1 1 4449.462]\n",
      " [nan 1 28.88 nan nan 2 3866.8552]\n",
      " [nan nan nan 0 1 1 3756.6216]]\n"
     ]
    },
    {
     "name": "stderr",
     "output_type": "stream",
     "text": [
      "100%|███████████████████████████████████████████| 34/34 [00:19<00:00,  1.75it/s]\n"
     ]
    },
    {
     "name": "stdout",
     "output_type": "stream",
     "text": [
      "Completed imputation for fold 1:\n",
      "X_res with imputed values (subset):\n",
      "[[19 0 27.9 0 0 0 16884.924]\n",
      " [18 1 33.77 1 1 1 1725.5523]\n",
      " [28 1 33.0 3 1 1 4449.462]\n",
      " [32.66828155517578 1 28.88 1.358992099761963 1 2 3866.8552]\n",
      " [31.960697174072266 1 31.410459518432617 0 1 1 3756.6216]]\n",
      "Metrics for this fold: {'nrmse': 0.3502, 'col_1_error_rate': 0.4724, 'col_4_error_rate': 0.1088, 'col_5_error_rate': 0.6753, 'total_error_rate': 0.4246, 'clf_aucroc': 33142642.4313}\n",
      "\n",
      "Fold 2\n",
      "Generated incomplete data with missing values for fold 2:\n",
      "Original data with missing values (subset):\n",
      "[[nan 1 33.0 3 1 1 4449.462]\n",
      " [33 nan 22.705 0 1 2 21984.47061]\n",
      " [32 1 28.88 nan 1 2 3866.8552]\n",
      " [31 nan 25.74 0 1 1 3756.6216]\n",
      " [46 0 33.44 1 1 1 8240.5896]]\n"
     ]
    },
    {
     "name": "stderr",
     "output_type": "stream",
     "text": [
      "100%|███████████████████████████████████████████| 34/34 [00:18<00:00,  1.84it/s]\n"
     ]
    },
    {
     "name": "stdout",
     "output_type": "stream",
     "text": [
      "Completed imputation for fold 2:\n",
      "X_res with imputed values (subset):\n",
      "[[38.62839889526367 1 33.0 3 1 1 4449.462]\n",
      " [33 1 22.705 0 1 2 21984.47061]\n",
      " [32 1 28.88 1.191323161125183 1 2 3866.8552]\n",
      " [31 1 25.74 0 1 1 3756.6216]\n",
      " [46 0 33.44 1 1 1 8240.5896]]\n",
      "Metrics for this fold: {'nrmse': 0.3956, 'col_1_error_rate': 0.4902, 'col_4_error_rate': 0.0865, 'col_5_error_rate': 0.7015, 'total_error_rate': 0.3919, 'clf_aucroc': 32383443.7746}\n",
      "\n",
      "Fold 3\n",
      "Generated incomplete data with missing values for fold 3:\n",
      "Original data with missing values (subset):\n",
      "[[19 0 27.9 nan 0 0 16884.924]\n",
      " [18 1 33.77 1 nan 1 1725.5523]\n",
      " [33 1 22.705 nan 1 nan 21984.47061]\n",
      " [32 1 28.88 0 nan 2 3866.8552]\n",
      " [nan 0 nan 1 1 1 8240.5896]]\n"
     ]
    },
    {
     "name": "stderr",
     "output_type": "stream",
     "text": [
      "100%|███████████████████████████████████████████| 34/34 [00:18<00:00,  1.81it/s]\n"
     ]
    },
    {
     "name": "stdout",
     "output_type": "stream",
     "text": [
      "Completed imputation for fold 3:\n",
      "X_res with imputed values (subset):\n",
      "[[19 0 27.9 0.9147516489028931 0 0 16884.924]\n",
      " [18 1 33.77 1 1 1 1725.5523]\n",
      " [33 1 22.705 1.5129168033599854 1 3 21984.47061]\n",
      " [32 1 28.88 0 1 2 3866.8552]\n",
      " [41.892906188964844 0 32.51597213745117 1 1 1 8240.5896]]\n",
      "Metrics for this fold: {'nrmse': 0.5529, 'col_1_error_rate': 0.5031, 'col_4_error_rate': 0.1412, 'col_5_error_rate': 0.7532, 'total_error_rate': 0.4581, 'clf_aucroc': 38108338.3482}\n",
      "\n",
      "Fold 4\n",
      "Generated incomplete data with missing values for fold 4:\n",
      "Original data with missing values (subset):\n",
      "[[19 0 27.9 0 0 nan 16884.924]\n",
      " [18 1 33.77 1 1 1 1725.5523]\n",
      " [28 1 33.0 nan 1 nan 4449.462]\n",
      " [33 1 22.705 0 nan nan nan]\n",
      " [32 1 28.88 0 1 2 nan]]\n"
     ]
    },
    {
     "name": "stderr",
     "output_type": "stream",
     "text": [
      "100%|███████████████████████████████████████████| 34/34 [00:19<00:00,  1.75it/s]\n"
     ]
    },
    {
     "name": "stdout",
     "output_type": "stream",
     "text": [
      "Completed imputation for fold 4:\n",
      "X_res with imputed values (subset):\n",
      "[[19 0 27.9 0 0 2 16884.924]\n",
      " [18 1 33.77 1 1 1 1725.5523]\n",
      " [28 1 33.0 1.7457783222198486 1 1 4449.462]\n",
      " [33 1 22.705 0 1 2 10411.27734375]\n",
      " [32 1 28.88 0 1 2 10776.1298828125]]\n",
      "Metrics for this fold: {'nrmse': 0.5393, 'col_1_error_rate': 0.4803, 'col_4_error_rate': 0.1214, 'col_5_error_rate': 0.7289, 'total_error_rate': 0.4379, 'clf_aucroc': 39370343.6245}\n",
      "\n",
      "Fold 5\n",
      "Generated incomplete data with missing values for fold 5:\n",
      "Original data with missing values (subset):\n",
      "[[19 0 27.9 0 nan 0 nan]\n",
      " [nan nan 33.77 1 1 nan 1725.5523]\n",
      " [nan 1 33.0 3 1 1 4449.462]\n",
      " [33 1 22.705 0 1 2 nan]\n",
      " [31 0 25.74 0 nan 1 nan]]\n"
     ]
    },
    {
     "name": "stderr",
     "output_type": "stream",
     "text": [
      "100%|███████████████████████████████████████████| 34/34 [00:19<00:00,  1.74it/s]\n"
     ]
    },
    {
     "name": "stdout",
     "output_type": "stream",
     "text": [
      "Completed imputation for fold 5:\n",
      "X_res with imputed values (subset):\n",
      "[[19 0 27.9 0 1 0 10027.443359375]\n",
      " [29.508689880371094 0 33.77 1 1 0 1725.5523]\n",
      " [35.16301345825195 1 33.0 3 1 1 4449.462]\n",
      " [33 1 22.705 0 1 2 8311.388671875]\n",
      " [31 0 25.74 0 1 1 10788.5517578125]]\n",
      "Metrics for this fold: {'nrmse': 0.491, 'col_1_error_rate': 0.5127, 'col_4_error_rate': 0.0549, 'col_5_error_rate': 0.7793, 'total_error_rate': 0.4347, 'clf_aucroc': 35643480.3432}\n",
      "Average nrmse for 20% missing data: 0.46580000000000005\n",
      "Average col_1_error_rate for 20% missing data: 0.49173999999999995\n",
      "Average col_4_error_rate for 20% missing data: 0.10255999999999998\n",
      "Average col_5_error_rate for 20% missing data: 0.72764\n",
      "Average total_error_rate for 20% missing data: 0.42943999999999993\n",
      "Average clf_aucroc for 20% missing data: 35729649.70436\n",
      "Completed all iterations\n"
     ]
    }
   ],
   "source": [
    "data_name_lst = ['insurance']\n",
    "\n",
    "result_dir = './results'\n",
    "os.makedirs(result_dir)\n",
    "\n",
    "for data_name in data_name_lst:\n",
    "    results = experiment_run(data_name, config, test=True)\n",
    "    results['config'] = config\n",
    "    results['dataset'] = data_name\n",
    "    result_path = os.path.join(result_dir, '{}.json'.format(data_name))\n",
    "    write_json(results, result_path)"
   ]
  },
  {
   "cell_type": "code",
   "execution_count": null,
   "id": "0869c9bd",
   "metadata": {},
   "outputs": [],
   "source": []
  }
 ],
 "metadata": {
  "kernelspec": {
   "display_name": "Python 3 (ipykernel)",
   "language": "python",
   "name": "python3"
  },
  "language_info": {
   "codemirror_mode": {
    "name": "ipython",
    "version": 3
   },
   "file_extension": ".py",
   "mimetype": "text/x-python",
   "name": "python",
   "nbconvert_exporter": "python",
   "pygments_lexer": "ipython3",
   "version": "3.10.9"
  }
 },
 "nbformat": 4,
 "nbformat_minor": 5
}
