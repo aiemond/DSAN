{
 "cells": [
  {
   "cell_type": "code",
   "execution_count": 36,
   "id": "b3853e22",
   "metadata": {},
   "outputs": [
    {
     "name": "stdout",
     "output_type": "stream",
     "text": [
      "age - RMSE: 13.81, NRMSE_var: 0.983\n",
      "bmi - RMSE: 5.83, NRMSE_var: 0.957\n",
      "children - RMSE: 1.31, NRMSE_var: 1.083\n",
      "charges - RMSE: 10748.84, NRMSE_var: 0.888\n"
     ]
    }
   ],
   "source": [
    "import pandas as pd\n",
    "import numpy as np\n",
    "from sklearn.metrics import mean_squared_error\n",
    "\n",
    "def create_missing_values(data, missing_rate=0.10):\n",
    "    np.random.seed(42)  \n",
    "    modified_data = data.copy()\n",
    "    mask = pd.DataFrame(np.zeros(data.shape), columns=data.columns)\n",
    "\n",
    "    for column in data.columns:\n",
    "        n_missing = int(missing_rate * len(data))\n",
    "        missing_indices = np.random.choice(data.index, size=n_missing, replace=False)\n",
    "        modified_data.loc[missing_indices, column] = np.nan\n",
    "        mask.loc[missing_indices, column] = 1\n",
    "\n",
    "    return modified_data, mask\n",
    "\n",
    "def impute_missing_values_with_mean(data):\n",
    "    imputed_data = data.copy()\n",
    "    for column in data.columns:\n",
    "        if data[column].dtype in ['float64', 'int64']:\n",
    "            imputed_data[column].fillna(data[column].mean(), inplace=True)\n",
    "        else:\n",
    "            imputed_data[column].fillna(data[column].mode()[0], inplace=True)\n",
    "    return imputed_data\n",
    "\n",
    "def calculate_rmse_nrmse_variance_normalized(original_data, imputed_data, mask):\n",
    "    metrics = {}\n",
    "    for column in original_data.columns:\n",
    "        if original_data[column].dtype in ['float64', 'int64'] and mask[column].sum() > 0:\n",
    "            original_values = original_data[column][mask[column] == 1]\n",
    "            imputed_values = imputed_data[column][mask[column] == 1]\n",
    "            mse = mean_squared_error(original_values, imputed_values)\n",
    "            rmse = np.sqrt(mse)\n",
    "            variance = np.var(original_data[column], ddof=1)  # Population variance\n",
    "            nrmse = rmse / np.sqrt(variance)\n",
    "            metrics[column] = {'RMSE': rmse, 'NRMSE_var': nrmse}\n",
    "    return metrics\n",
    "\n",
    "\n",
    "file_path = '/Users/emondemoniac/Desktop/TabNet_PyTorch/Medical Cost Personal Datasets/insurance.csv'\n",
    "data = pd.read_csv(file_path)\n",
    "\n",
    "\n",
    "data_with_missing, missing_mask = create_missing_values(data)\n",
    "\n",
    "\n",
    "data_imputed = impute_missing_values_with_mean(data_with_missing)\n",
    "\n",
    "\n",
    "evaluation_metrics_variance_normalized = calculate_rmse_nrmse_variance_normalized(data, data_imputed, missing_mask)\n",
    "\n",
    "\n",
    "for column, metrics in evaluation_metrics_variance_normalized.items():\n",
    "    print(f\"{column} - RMSE: {metrics['RMSE']:.2f}, NRMSE_var: {metrics['NRMSE_var']:.3f}\")\n"
   ]
  },
  {
   "cell_type": "code",
   "execution_count": 38,
   "id": "fe17dbc5",
   "metadata": {},
   "outputs": [
    {
     "name": "stdout",
     "output_type": "stream",
     "text": [
      "age - RMSE: 13.81, Variance-Normalized NRMSE: 0.983\n",
      "sex - Error Rate: 0.541\n",
      "bmi - RMSE: 5.83, Variance-Normalized NRMSE: 0.957\n",
      "children - RMSE: 1.31, Variance-Normalized NRMSE: 1.083\n",
      "smoker - Error Rate: 0.203\n",
      "region - Error Rate: 0.692\n",
      "charges - RMSE: 10748.84, Variance-Normalized NRMSE: 0.888\n"
     ]
    }
   ],
   "source": [
    "import pandas as pd\n",
    "import numpy as np\n",
    "from sklearn.metrics import mean_squared_error\n",
    "\n",
    "def create_missing_values(data, missing_rate=0.10):\n",
    "    np.random.seed(42)  \n",
    "    modified_data = data.copy()\n",
    "    mask = pd.DataFrame(np.zeros(data.shape), columns=data.columns)\n",
    "\n",
    "    for column in data.columns:\n",
    "        n_missing = int(missing_rate * len(data))\n",
    "        missing_indices = np.random.choice(data.index, size=n_missing, replace=False)\n",
    "        modified_data.loc[missing_indices, column] = np.nan\n",
    "        mask.loc[missing_indices, column] = 1\n",
    "\n",
    "    return modified_data, mask\n",
    "\n",
    "def impute_missing_values_with_mean(data):\n",
    "    imputed_data = data.copy()\n",
    "    for column in data.columns:\n",
    "        if data[column].dtype in ['float64', 'int64']:\n",
    "            imputed_data[column].fillna(data[column].mean(), inplace=True)\n",
    "        else:\n",
    "            imputed_data[column].fillna(data[column].mode()[0], inplace=True)\n",
    "    return imputed_data\n",
    "\n",
    "def calculate_rmse_nrmse_variance_normalized(original_data, imputed_data, mask):\n",
    "    metrics = {}\n",
    "    for column in original_data.columns:\n",
    "        if original_data[column].dtype in ['float64', 'int64'] and mask[column].sum() > 0:\n",
    "            original_values = original_data[column][mask[column] == 1]\n",
    "            imputed_values = imputed_data[column][mask[column] == 1]\n",
    "            mse = mean_squared_error(original_values, imputed_values)\n",
    "            rmse = np.sqrt(mse)\n",
    "            variance = np.var(original_data[column], ddof=1)\n",
    "            nrmse_var = rmse / np.sqrt(variance)\n",
    "            metrics[column] = {'RMSE': rmse, 'NRMSE_var': nrmse_var}\n",
    "        elif original_data[column].dtype == 'object' and mask[column].sum() > 0:\n",
    "            original_values = original_data[column][mask[column] == 1]\n",
    "            imputed_values = imputed_data[column][mask[column] == 1]\n",
    "            error_rate = (original_values != imputed_values).sum() / len(original_values)\n",
    "            metrics[column] = {'Error Rate': error_rate}\n",
    "    return metrics\n",
    "\n",
    "# Load the dataset\n",
    "file_path = '/Users/emondemoniac/Desktop/TabNet_PyTorch/Medical Cost Personal Datasets/insurance.csv'\n",
    "data = pd.read_csv(file_path)\n",
    "\n",
    "\n",
    "data_with_missing, missing_mask = create_missing_values(data)\n",
    "\n",
    "\n",
    "data_imputed = impute_missing_values_with_mean(data_with_missing)\n",
    "\n",
    "\n",
    "evaluation_metrics = calculate_rmse_nrmse_variance_normalized(data, data_imputed, missing_mask)\n",
    "\n",
    "\n",
    "for column, metrics in evaluation_metrics.items():\n",
    "    if 'NRMSE_var' in metrics:\n",
    "        print(f\"{column} - RMSE: {metrics['RMSE']:.2f}, Variance-Normalized NRMSE: {metrics['NRMSE_var']:.3f}\")\n",
    "    else:\n",
    "        print(f\"{column} - Error Rate: {metrics['Error Rate']:.3f}\")\n"
   ]
  },
  {
   "cell_type": "code",
   "execution_count": 40,
   "id": "2d9035bc",
   "metadata": {},
   "outputs": [
    {
     "data": {
      "text/plain": [
       "0.9777499999999999"
      ]
     },
     "execution_count": 40,
     "metadata": {},
     "output_type": "execute_result"
    }
   ],
   "source": [
    "(0.983+ 0.957+1.083+0.888)/4"
   ]
  },
  {
   "cell_type": "code",
   "execution_count": null,
   "id": "e2be3a34",
   "metadata": {},
   "outputs": [],
   "source": []
  }
 ],
 "metadata": {
  "kernelspec": {
   "display_name": "Python 3 (ipykernel)",
   "language": "python",
   "name": "python3"
  },
  "language_info": {
   "codemirror_mode": {
    "name": "ipython",
    "version": 3
   },
   "file_extension": ".py",
   "mimetype": "text/x-python",
   "name": "python",
   "nbconvert_exporter": "python",
   "pygments_lexer": "ipython3",
   "version": "3.10.9"
  }
 },
 "nbformat": 4,
 "nbformat_minor": 5
}
