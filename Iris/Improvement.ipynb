{
 "cells": [
  {
   "cell_type": "code",
   "execution_count": 1,
   "id": "d141e02e",
   "metadata": {},
   "outputs": [
    {
     "data": {
      "text/plain": [
       "(82.89275362318841, 56.147216168020606)"
      ]
     },
     "execution_count": 1,
     "metadata": {},
     "output_type": "execute_result"
    }
   ],
   "source": [
    "# Initial values for Mean, MissForest, and DSAN\n",
    "mean_value = 1.035\n",
    "missforest_value = 0.40376\n",
    "dsan_value = 0.17706\n",
    "\n",
    "# Calculating the percentage of improvement of DSAN over Mean and MissForest\n",
    "improvement_over_mean = ((mean_value - dsan_value) / mean_value) * 100\n",
    "improvement_over_missforest = ((missforest_value - dsan_value) / missforest_value) * 100\n",
    "\n",
    "improvement_over_mean, improvement_over_missforest\n"
   ]
  },
  {
   "cell_type": "code",
   "execution_count": null,
   "id": "01eafbf9",
   "metadata": {},
   "outputs": [],
   "source": []
  }
 ],
 "metadata": {
  "kernelspec": {
   "display_name": "Python 3 (ipykernel)",
   "language": "python",
   "name": "python3"
  },
  "language_info": {
   "codemirror_mode": {
    "name": "ipython",
    "version": 3
   },
   "file_extension": ".py",
   "mimetype": "text/x-python",
   "name": "python",
   "nbconvert_exporter": "python",
   "pygments_lexer": "ipython3",
   "version": "3.10.9"
  }
 },
 "nbformat": 4,
 "nbformat_minor": 5
}
