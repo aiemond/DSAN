{
 "cells": [
  {
   "cell_type": "code",
   "execution_count": 4,
   "id": "8916f76d",
   "metadata": {},
   "outputs": [
    {
     "data": {
      "text/plain": [
       "['sepal length (cm) - RMSE: 0.85, Variance-Normalized NRMSE: 1.024',\n",
       " 'sepal width (cm) - RMSE: 0.53, Variance-Normalized NRMSE: 1.220',\n",
       " 'petal length (cm) - RMSE: 1.63, Variance-Normalized NRMSE: 0.925',\n",
       " 'petal width (cm) - RMSE: 0.79, Variance-Normalized NRMSE: 1.034']"
      ]
     },
     "execution_count": 4,
     "metadata": {},
     "output_type": "execute_result"
    }
   ],
   "source": [
    "import pandas as pd\n",
    "import numpy as np\n",
    "from sklearn.datasets import load_iris\n",
    "from sklearn.metrics import mean_squared_error\n",
    "\n",
    "def create_missing_values(data, missing_rate=0.20):\n",
    "    np.random.seed(42) \n",
    "    modified_data = data.copy()\n",
    "    mask = pd.DataFrame(np.zeros(data.shape), columns=data.columns)\n",
    "\n",
    "    for column in data.columns:\n",
    "        n_missing = int(missing_rate * len(data))\n",
    "        missing_indices = np.random.choice(data.index, size=n_missing, replace=False)\n",
    "        modified_data.loc[missing_indices, column] = np.nan\n",
    "        mask.loc[missing_indices, column] = 1\n",
    "\n",
    "    return modified_data, mask\n",
    "\n",
    "def impute_missing_values_with_mean(data):\n",
    "    imputed_data = data.copy()\n",
    "    for column in data.columns[:-1]: \n",
    "        if data[column].dtype in ['float64', 'int64']:\n",
    "            imputed_data[column].fillna(data[column].mean(), inplace=True)\n",
    "\n",
    "    imputed_data['species'].fillna(data['species'].mode()[0], inplace=True)\n",
    "    return imputed_data\n",
    "\n",
    "def calculate_rmse_nrmse_variance_normalized(original_data, imputed_data, mask):\n",
    "    metrics = {}\n",
    "    for column in original_data.columns:\n",
    "        if original_data[column].dtype in ['float64', 'int64'] and mask[column].sum() > 0:\n",
    "            original_values = original_data[column][mask[column] == 1]\n",
    "            imputed_values = imputed_data[column][mask[column] == 1]\n",
    "            mse = mean_squared_error(original_values, imputed_values)\n",
    "            rmse = np.sqrt(mse)\n",
    "            variance = np.var(original_data[column], ddof=1)\n",
    "            nrmse_var = rmse / np.sqrt(variance)\n",
    "            metrics[column] = {'RMSE': rmse, 'NRMSE_var': nrmse_var}\n",
    "        elif original_data[column].dtype == 'object' and mask[column].sum() > 0:\n",
    "            original_values = original_data[column][mask[column] == 1]\n",
    "            imputed_values = imputed_data[column][mask[column] == 1]\n",
    "            error_rate = (original_values != imputed_values).sum() / len(original_values)\n",
    "            metrics[column] = {'Error Rate': error_rate}\n",
    "    return metrics\n",
    "\n",
    "iris = load_iris()\n",
    "iris_df = pd.DataFrame(data=iris.data, columns=iris.feature_names)\n",
    "iris_df['species'] = pd.Categorical.from_codes(iris.target, iris.target_names)\n",
    "\n",
    "\n",
    "data_with_missing, missing_mask = create_missing_values(iris_df)\n",
    "data_imputed = impute_missing_values_with_mean(data_with_missing)\n",
    "evaluation_metrics = calculate_rmse_nrmse_variance_normalized(iris_df, data_imputed, missing_mask)\n",
    "\n",
    "\n",
    "evaluation_metrics_output = []\n",
    "for column, metrics in evaluation_metrics.items():\n",
    "    if 'NRMSE_var' in metrics:\n",
    "        evaluation_metrics_output.append(f\"{column} - RMSE: {metrics['RMSE']:.2f}, Variance-Normalized NRMSE: {metrics['NRMSE_var']:.3f}\")\n",
    "    else:\n",
    "        evaluation_metrics_output.append(f\"{column} - Error Rate: {metrics['Error Rate']:.3f}\")\n",
    "\n",
    "evaluation_metrics_output\n"
   ]
  },
  {
   "cell_type": "code",
   "execution_count": 3,
   "id": "e190e25e",
   "metadata": {},
   "outputs": [
    {
     "name": "stdout",
     "output_type": "stream",
     "text": [
      "Error Rate for 'species' column: 1.000\n"
     ]
    }
   ],
   "source": [
    "import numpy as np\n",
    "import pandas as pd\n",
    "from sklearn.datasets import load_iris\n",
    "\n",
    "\n",
    "iris = load_iris()\n",
    "iris_df = pd.DataFrame(data=iris.data, columns=iris.feature_names)\n",
    "iris_df['species'] = pd.Categorical.from_codes(iris.target, iris.target_names)\n",
    "\n",
    "np.random.seed(42)  \n",
    "missing_rate = 0.20  \n",
    "n_missing = int(missing_rate * len(iris_df))\n",
    "missing_indices = np.random.choice(iris_df.index, size=n_missing, replace=False)\n",
    "iris_df.loc[missing_indices, 'species'] = np.nan\n",
    "\n",
    "original_species = iris_df['species'].copy()\n",
    "\n",
    "most_frequent_species = iris_df['species'].mode()[0]\n",
    "iris_df['species'].fillna(most_frequent_species, inplace=True)\n",
    "\n",
    "mismatches = (iris_df.loc[missing_indices, 'species'] != original_species[missing_indices]).sum()\n",
    "error_rate = mismatches / n_missing\n",
    "\n",
    "print(f\"Error Rate for 'species' column: {error_rate:.3f}\")\n"
   ]
  },
  {
   "cell_type": "code",
   "execution_count": null,
   "id": "a1f04779",
   "metadata": {},
   "outputs": [],
   "source": []
  }
 ],
 "metadata": {
  "kernelspec": {
   "display_name": "Python 3 (ipykernel)",
   "language": "python",
   "name": "python3"
  },
  "language_info": {
   "codemirror_mode": {
    "name": "ipython",
    "version": 3
   },
   "file_extension": ".py",
   "mimetype": "text/x-python",
   "name": "python",
   "nbconvert_exporter": "python",
   "pygments_lexer": "ipython3",
   "version": "3.10.9"
  }
 },
 "nbformat": 4,
 "nbformat_minor": 5
}
